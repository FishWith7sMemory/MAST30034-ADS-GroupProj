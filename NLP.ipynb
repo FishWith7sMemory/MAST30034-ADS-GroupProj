{
 "cells": [
  {
   "cell_type": "code",
   "execution_count": 1,
   "metadata": {},
   "outputs": [
    {
     "name": "stdout",
     "output_type": "stream",
     "text": [
      "Num GPUs Available:  [PhysicalDevice(name='/physical_device:GPU:0', device_type='GPU')]\n"
     ]
    }
   ],
   "source": [
    "%run config.ipynb\n",
    "import nltk\n",
    "from nltk.corpus import stopwords\n",
    "import spacy\n",
    "import re\n",
    "\n",
    "import tensorflow as tf\n",
    "print(\"Num GPUs Available: \", tf.config.experimental.list_physical_devices('GPU'))\n",
    "from tensorflow.keras.preprocessing.text import Tokenizer\n",
    "from tensorflow.keras.preprocessing.sequence import pad_sequences\n",
    "from tensorflow.keras.layers import Input, Dense, Embedding, LSTM, Bidirectional, GlobalMaxPooling1D\n",
    "from tensorflow.keras.models import Model, clone_model"
   ]
  },
  {
   "cell_type": "markdown",
   "metadata": {},
   "source": [
    "## Read Datasets"
   ]
  },
  {
   "cell_type": "code",
   "execution_count": 2,
   "metadata": {},
   "outputs": [],
   "source": [
    "# business = pd.read_json(\"data/yelp_academic_dataset_business.json\", lines=True)\n",
    "# check_in = pd.read_json(\"data/yelp_academic_dataset_checkin.json\", lines=True)\n",
    "# review = pd.read_csv(\"data/yelp_academic_dataset_sample_review.csv\")\n",
    "review = pd.read_csv(\"data/yelp_academic_dataset_sample005_review.csv\")\n",
    "# tip = pd.read_json(\"data/yelp_academic_dataset_tip.json\", lines=True)\n",
    "# user = pd.read_json(\"data/yelp_academic_dataset_user.json\", lines=True)"
   ]
  },
  {
   "cell_type": "code",
   "execution_count": 3,
   "metadata": {},
   "outputs": [
    {
     "data": {
      "text/html": [
       "<div>\n",
       "<style scoped>\n",
       "    .dataframe tbody tr th:only-of-type {\n",
       "        vertical-align: middle;\n",
       "    }\n",
       "\n",
       "    .dataframe tbody tr th {\n",
       "        vertical-align: top;\n",
       "    }\n",
       "\n",
       "    .dataframe thead th {\n",
       "        text-align: right;\n",
       "    }\n",
       "</style>\n",
       "<table border=\"1\" class=\"dataframe\">\n",
       "  <thead>\n",
       "    <tr style=\"text-align: right;\">\n",
       "      <th></th>\n",
       "      <th>review_id</th>\n",
       "      <th>user_id</th>\n",
       "      <th>business_id</th>\n",
       "      <th>stars</th>\n",
       "      <th>useful</th>\n",
       "      <th>funny</th>\n",
       "      <th>cool</th>\n",
       "      <th>text</th>\n",
       "      <th>date</th>\n",
       "      <th>text_after_cleaning</th>\n",
       "    </tr>\n",
       "  </thead>\n",
       "  <tbody>\n",
       "    <tr>\n",
       "      <th>0</th>\n",
       "      <td>yNB39szX3M8mTEzTtsgoCw</td>\n",
       "      <td>Y1iCYGvLf4ifPoXlKLGq-w</td>\n",
       "      <td>o2Qh4SiGYJ7BK4hP7dfkrw</td>\n",
       "      <td>5</td>\n",
       "      <td>0</td>\n",
       "      <td>0</td>\n",
       "      <td>0</td>\n",
       "      <td>This is an amazing indian Bistro!!I If I do sa...</td>\n",
       "      <td>2014-07-18 21:18:03</td>\n",
       "      <td>amazing indian bistroi say myself never indian...</td>\n",
       "    </tr>\n",
       "    <tr>\n",
       "      <th>1</th>\n",
       "      <td>40I7k47AhStBAT-jYEYAAw</td>\n",
       "      <td>in0ZczXTwyRZXJzAgsYVBQ</td>\n",
       "      <td>VyVIneSU7XAWgMBllI6LnQ</td>\n",
       "      <td>5</td>\n",
       "      <td>0</td>\n",
       "      <td>0</td>\n",
       "      <td>0</td>\n",
       "      <td>The food was amazing and the waitress was supe...</td>\n",
       "      <td>2017-12-04 03:18:35</td>\n",
       "      <td>food amazing waitress super nice would definit...</td>\n",
       "    </tr>\n",
       "    <tr>\n",
       "      <th>2</th>\n",
       "      <td>FdQYfgrRtmi_36S3cwVO5Q</td>\n",
       "      <td>e99DAYuwAwXoaDAJTO0NDg</td>\n",
       "      <td>_yIvVucQh5W84m3Pk4dndg</td>\n",
       "      <td>3</td>\n",
       "      <td>0</td>\n",
       "      <td>0</td>\n",
       "      <td>0</td>\n",
       "      <td>We tried to go to sweet tooth but the line was...</td>\n",
       "      <td>2016-10-04 15:42:25</td>\n",
       "      <td>tried go sweet tooth line door opted try place...</td>\n",
       "    </tr>\n",
       "    <tr>\n",
       "      <th>3</th>\n",
       "      <td>GSNn8QyqVytg-5CFOeL_MA</td>\n",
       "      <td>jed_BPMeFS06VPcd99VLwg</td>\n",
       "      <td>vA7BBQ9ro0fiKXE8tLF7zA</td>\n",
       "      <td>1</td>\n",
       "      <td>1</td>\n",
       "      <td>0</td>\n",
       "      <td>0</td>\n",
       "      <td>If I had to rate just the beer, I'd rate highe...</td>\n",
       "      <td>2011-05-06 22:01:39</td>\n",
       "      <td>rate beer  rate higher 1 stars make long story...</td>\n",
       "    </tr>\n",
       "    <tr>\n",
       "      <th>4</th>\n",
       "      <td>wvpDEl6RUygLqnCazTcNYg</td>\n",
       "      <td>XK9riyKgdf_v7uPc4fbrDQ</td>\n",
       "      <td>QDRFdG8gPPKL7r4yic8j7Q</td>\n",
       "      <td>4</td>\n",
       "      <td>1</td>\n",
       "      <td>0</td>\n",
       "      <td>0</td>\n",
       "      <td>Tried this place for the first time in August ...</td>\n",
       "      <td>2017-08-07 00:42:46</td>\n",
       "      <td>tried place first time  got burritos 2 soft ta...</td>\n",
       "    </tr>\n",
       "    <tr>\n",
       "      <th>...</th>\n",
       "      <td>...</td>\n",
       "      <td>...</td>\n",
       "      <td>...</td>\n",
       "      <td>...</td>\n",
       "      <td>...</td>\n",
       "      <td>...</td>\n",
       "      <td>...</td>\n",
       "      <td>...</td>\n",
       "      <td>...</td>\n",
       "      <td>...</td>\n",
       "    </tr>\n",
       "    <tr>\n",
       "      <th>401051</th>\n",
       "      <td>XUikQYju8aeeK0Pl_SMl-A</td>\n",
       "      <td>Jt1zgNmwz_jheOSmEsljPQ</td>\n",
       "      <td>2PZRu5q70e0p7jEMxaXsDw</td>\n",
       "      <td>4</td>\n",
       "      <td>1</td>\n",
       "      <td>0</td>\n",
       "      <td>1</td>\n",
       "      <td>As per my usual tradition, I went to Bier Mark...</td>\n",
       "      <td>2012-02-25 22:22:29</td>\n",
       "      <td>per usual tradition went annual fondue festiva...</td>\n",
       "    </tr>\n",
       "    <tr>\n",
       "      <th>401052</th>\n",
       "      <td>EZ97THwgKAV5RklorwVbDg</td>\n",
       "      <td>taFjXgrhUJpTYbzsOET-nA</td>\n",
       "      <td>cfQfc3q9_RPgx-eKtHQtCQ</td>\n",
       "      <td>5</td>\n",
       "      <td>2</td>\n",
       "      <td>0</td>\n",
       "      <td>0</td>\n",
       "      <td>Awesome, quick service. Staff was polite and h...</td>\n",
       "      <td>2014-01-09 20:21:09</td>\n",
       "      <td>awesome quick service staff polite out even ro...</td>\n",
       "    </tr>\n",
       "    <tr>\n",
       "      <th>401053</th>\n",
       "      <td>RsnNPnZwTQRrwdCHAxp3kQ</td>\n",
       "      <td>KW-fOrjuJBJbyPfhlEtXBw</td>\n",
       "      <td>zjwdU1OdlbKTGjm-IfD4TQ</td>\n",
       "      <td>5</td>\n",
       "      <td>0</td>\n",
       "      <td>0</td>\n",
       "      <td>0</td>\n",
       "      <td>Had dinner at the Essen Haus a few weeks ago w...</td>\n",
       "      <td>2012-02-08 03:08:23</td>\n",
       "      <td>dinner haus bunch friends  going haus since op...</td>\n",
       "    </tr>\n",
       "    <tr>\n",
       "      <th>401054</th>\n",
       "      <td>qn6P0SaBAJkv26WnWLpt4g</td>\n",
       "      <td>Pub1A9LA1NSg7jNJjbUPJA</td>\n",
       "      <td>narFmQxq5-D2eHZf4q0hgA</td>\n",
       "      <td>4</td>\n",
       "      <td>0</td>\n",
       "      <td>1</td>\n",
       "      <td>0</td>\n",
       "      <td>Been donating for YEARS and the only reason I ...</td>\n",
       "      <td>2016-05-02 22:40:04</td>\n",
       "      <td>donating reason give 5 stars starting get chea...</td>\n",
       "    </tr>\n",
       "    <tr>\n",
       "      <th>401055</th>\n",
       "      <td>2-dE8HrcgshG3cWMe4GNzg</td>\n",
       "      <td>mPyjooT4uOSWRS-g8J9pAw</td>\n",
       "      <td>Lg4-oru6gHz1sGGKjD3qXQ</td>\n",
       "      <td>5</td>\n",
       "      <td>1</td>\n",
       "      <td>0</td>\n",
       "      <td>0</td>\n",
       "      <td>This place is great! The service is exceptiona...</td>\n",
       "      <td>2014-02-19 00:11:53</td>\n",
       "      <td>place great service exceptional owners best se...</td>\n",
       "    </tr>\n",
       "  </tbody>\n",
       "</table>\n",
       "<p>401056 rows × 10 columns</p>\n",
       "</div>"
      ],
      "text/plain": [
       "                     review_id                 user_id  \\\n",
       "0       yNB39szX3M8mTEzTtsgoCw  Y1iCYGvLf4ifPoXlKLGq-w   \n",
       "1       40I7k47AhStBAT-jYEYAAw  in0ZczXTwyRZXJzAgsYVBQ   \n",
       "2       FdQYfgrRtmi_36S3cwVO5Q  e99DAYuwAwXoaDAJTO0NDg   \n",
       "3       GSNn8QyqVytg-5CFOeL_MA  jed_BPMeFS06VPcd99VLwg   \n",
       "4       wvpDEl6RUygLqnCazTcNYg  XK9riyKgdf_v7uPc4fbrDQ   \n",
       "...                        ...                     ...   \n",
       "401051  XUikQYju8aeeK0Pl_SMl-A  Jt1zgNmwz_jheOSmEsljPQ   \n",
       "401052  EZ97THwgKAV5RklorwVbDg  taFjXgrhUJpTYbzsOET-nA   \n",
       "401053  RsnNPnZwTQRrwdCHAxp3kQ  KW-fOrjuJBJbyPfhlEtXBw   \n",
       "401054  qn6P0SaBAJkv26WnWLpt4g  Pub1A9LA1NSg7jNJjbUPJA   \n",
       "401055  2-dE8HrcgshG3cWMe4GNzg  mPyjooT4uOSWRS-g8J9pAw   \n",
       "\n",
       "                   business_id  stars  useful  funny  cool  \\\n",
       "0       o2Qh4SiGYJ7BK4hP7dfkrw      5       0      0     0   \n",
       "1       VyVIneSU7XAWgMBllI6LnQ      5       0      0     0   \n",
       "2       _yIvVucQh5W84m3Pk4dndg      3       0      0     0   \n",
       "3       vA7BBQ9ro0fiKXE8tLF7zA      1       1      0     0   \n",
       "4       QDRFdG8gPPKL7r4yic8j7Q      4       1      0     0   \n",
       "...                        ...    ...     ...    ...   ...   \n",
       "401051  2PZRu5q70e0p7jEMxaXsDw      4       1      0     1   \n",
       "401052  cfQfc3q9_RPgx-eKtHQtCQ      5       2      0     0   \n",
       "401053  zjwdU1OdlbKTGjm-IfD4TQ      5       0      0     0   \n",
       "401054  narFmQxq5-D2eHZf4q0hgA      4       0      1     0   \n",
       "401055  Lg4-oru6gHz1sGGKjD3qXQ      5       1      0     0   \n",
       "\n",
       "                                                     text  \\\n",
       "0       This is an amazing indian Bistro!!I If I do sa...   \n",
       "1       The food was amazing and the waitress was supe...   \n",
       "2       We tried to go to sweet tooth but the line was...   \n",
       "3       If I had to rate just the beer, I'd rate highe...   \n",
       "4       Tried this place for the first time in August ...   \n",
       "...                                                   ...   \n",
       "401051  As per my usual tradition, I went to Bier Mark...   \n",
       "401052  Awesome, quick service. Staff was polite and h...   \n",
       "401053  Had dinner at the Essen Haus a few weeks ago w...   \n",
       "401054  Been donating for YEARS and the only reason I ...   \n",
       "401055  This place is great! The service is exceptiona...   \n",
       "\n",
       "                       date                                text_after_cleaning  \n",
       "0       2014-07-18 21:18:03  amazing indian bistroi say myself never indian...  \n",
       "1       2017-12-04 03:18:35  food amazing waitress super nice would definit...  \n",
       "2       2016-10-04 15:42:25  tried go sweet tooth line door opted try place...  \n",
       "3       2011-05-06 22:01:39  rate beer  rate higher 1 stars make long story...  \n",
       "4       2017-08-07 00:42:46  tried place first time  got burritos 2 soft ta...  \n",
       "...                     ...                                                ...  \n",
       "401051  2012-02-25 22:22:29  per usual tradition went annual fondue festiva...  \n",
       "401052  2014-01-09 20:21:09  awesome quick service staff polite out even ro...  \n",
       "401053  2012-02-08 03:08:23  dinner haus bunch friends  going haus since op...  \n",
       "401054  2016-05-02 22:40:04  donating reason give 5 stars starting get chea...  \n",
       "401055  2014-02-19 00:11:53  place great service exceptional owners best se...  \n",
       "\n",
       "[401056 rows x 10 columns]"
      ]
     },
     "execution_count": 3,
     "metadata": {},
     "output_type": "execute_result"
    }
   ],
   "source": [
    "review"
   ]
  },
  {
   "cell_type": "markdown",
   "metadata": {},
   "source": [
    "## Preprocessing"
   ]
  },
  {
   "cell_type": "code",
   "execution_count": 4,
   "metadata": {},
   "outputs": [],
   "source": [
    "X = review[\"text\"]"
   ]
  },
  {
   "cell_type": "code",
   "execution_count": 4,
   "metadata": {},
   "outputs": [],
   "source": [
    "nlp = spacy.load(\"en_core_web_lg\")"
   ]
  },
  {
   "cell_type": "code",
   "execution_count": 5,
   "metadata": {},
   "outputs": [],
   "source": [
    "stop_words = set(stopwords.words('english')) "
   ]
  },
  {
   "cell_type": "code",
   "execution_count": 6,
   "metadata": {},
   "outputs": [],
   "source": [
    "# This process will a long time to run, so make sure you create a copy yourself after finish\n",
    "SYMBOL_RE = re.compile('[/(){}\\[\\]\\|@,.:!?;\\-*]')\n",
    "WEBSITES_RE = re.compile('http[s]?[:]?[.]?[\\/]+[^.\\/]+([.][^.\\/\\s]+)+[^\\s]*')\n",
    "ABBR_RE = re.compile('[a-z]*[\\'][^ ]*')\n",
    "def clean_text(text):\n",
    "    ents = [word.text for word in nlp(text).ents if word.label_ in ['PERSON', \"ORG\", \"GPE\", \"DATE\", \"TIME\"]]\n",
    "    for ent in ents:\n",
    "        text = text.replace(ent, '')\n",
    "    text = text.lower()\n",
    "    text = WEBSITES_RE.sub('', text)\n",
    "\n",
    "    text = ' '.join(word for word in text.split() if word not in stop_words)\n",
    "    text = SYMBOL_RE.sub('', text)\n",
    "    text = ABBR_RE.sub('', text)\n",
    "    return text"
   ]
  },
  {
   "cell_type": "code",
   "execution_count": 17,
   "metadata": {
    "pycharm": {
     "name": "#%%\n"
    }
   },
   "outputs": [],
   "source": [
    "# run the commented line if you want to reproduce the X\n",
    "# X = X.apply(clean_text)\n",
    "X = review[\"text_after_cleaning\"].astype('str')"
   ]
  },
  {
   "cell_type": "markdown",
   "metadata": {
    "pycharm": {
     "name": "#%% md\n"
    }
   },
   "source": [
    "## Split Dataset"
   ]
  },
  {
   "cell_type": "code",
   "execution_count": 18,
   "metadata": {
    "pycharm": {
     "name": "#%%\n"
    }
   },
   "outputs": [],
   "source": [
    "y = review[\"stars\"]\n",
    "y = y.apply(lambda x : x - 1) # convert range(1,7) to range(0,6) for more precise when adding dense layer\n",
    "df_train, df_test, y_train, y_test = train_test_split(X, y, test_size=0.33)"
   ]
  },
  {
   "cell_type": "markdown",
   "metadata": {
    "pycharm": {
     "name": "#%% md\n"
    }
   },
   "source": [
    "## Word Embedding"
   ]
  },
  {
   "cell_type": "code",
   "execution_count": 19,
   "metadata": {},
   "outputs": [],
   "source": [
    "MAX_VOCAB_SIZE = 50000\n",
    "tokenizer = Tokenizer(num_words=MAX_VOCAB_SIZE)\n",
    "tokenizer.fit_on_texts(df_train)\n",
    "sequences_train = tokenizer.texts_to_sequences(df_train)\n",
    "sequences_test = tokenizer.texts_to_sequences(df_test)"
   ]
  },
  {
   "cell_type": "code",
   "execution_count": 20,
   "metadata": {},
   "outputs": [
    {
     "name": "stdout",
     "output_type": "stream",
     "text": [
      "Found 164214 unique tokens.\n"
     ]
    }
   ],
   "source": [
    "word2idx = tokenizer.word_index\n",
    "V = len(word2idx)\n",
    "print('Found %s unique tokens.' % V)"
   ]
  },
  {
   "cell_type": "code",
   "execution_count": 21,
   "metadata": {
    "pycharm": {
     "name": "#%%\n"
    }
   },
   "outputs": [
    {
     "name": "stdout",
     "output_type": "stream",
     "text": [
      "Shape of data train tensor: (268707, 493)\n",
      "Shape of data test tensor: (132349, 493)\n"
     ]
    }
   ],
   "source": [
    "X_train = pad_sequences(sequences_train)\n",
    "print('Shape of data train tensor:', X_train.shape)\n",
    "\n",
    "T = X_train.shape[1]\n",
    "\n",
    "X_test = pad_sequences(sequences_test, maxlen=T)\n",
    "print('Shape of data test tensor:', X_test.shape)"
   ]
  },
  {
   "cell_type": "markdown",
   "metadata": {
    "pycharm": {
     "name": "#%% md\n"
    }
   },
   "source": [
    "## Modelling"
   ]
  },
  {
   "cell_type": "code",
   "execution_count": 22,
   "metadata": {},
   "outputs": [],
   "source": [
    "def fit_model(model, epochs=3, batch_size=128, loss='sparse_categorical_crossentropy', optimizer='adam', metrics=['accuracy']):\n",
    "    model.compile(loss=loss, optimizer=optimizer, metrics=metrics)\n",
    "    r = model.fit(X_train, y_train, epochs=epochs, batch_size=batch_size, validation_data=(X_test, y_test))\n",
    "    plot(r)\n",
    "    return model, r\n",
    "\n",
    "def plot(r):\n",
    "    plt.xlabel('# epochs')\n",
    "    length = len(r.history[next(iter(r.history))])\n",
    "    plt.xticks(np.arange(length), np.arange(1, length+1))\n",
    "    plt.plot(r.history['loss'], label='loss')\n",
    "    plt.plot(r.history['val_loss'], label='val_loss')\n",
    "    plt.plot(r.history['accuracy'], label='acc')\n",
    "    plt.plot(r.history['val_accuracy'], 'm', label='val_acc')\n",
    "    plt.legend()\n",
    "\n",
    "def create_model():\n",
    "    D = 150\n",
    "    num_words = min(MAX_VOCAB_SIZE, V + 1)\n",
    "    i = Input(shape=(T,))\n",
    "    x = Embedding(num_words, D)(i)\n",
    "#     x = Bidirectional(LSTM(D//2, return_sequences=True))(x)\n",
    "    x = LSTM(D, return_sequences=True)(x)\n",
    "    x = GlobalMaxPooling1D()(x)\n",
    "    x = Dense(5, activation='softmax')(x)\n",
    "    model = Model(i, x)\n",
    "    model.summary(120)\n",
    "    return model"
   ]
  },
  {
   "cell_type": "code",
   "execution_count": 23,
   "metadata": {
    "pycharm": {
     "name": "#%%\n"
    }
   },
   "outputs": [
    {
     "name": "stdout",
     "output_type": "stream",
     "text": [
      "Model: \"functional_1\"\n",
      "________________________________________________________________________________________________________________________\n",
      "Layer (type)                                          Output Shape                                    Param #           \n",
      "========================================================================================================================\n",
      "input_1 (InputLayer)                                  [(None, 493)]                                   0                 \n",
      "________________________________________________________________________________________________________________________\n",
      "embedding (Embedding)                                 (None, 493, 150)                                7500000           \n",
      "________________________________________________________________________________________________________________________\n",
      "lstm (LSTM)                                           (None, 493, 150)                                180600            \n",
      "________________________________________________________________________________________________________________________\n",
      "global_max_pooling1d (GlobalMaxPooling1D)             (None, 150)                                     0                 \n",
      "________________________________________________________________________________________________________________________\n",
      "dense (Dense)                                         (None, 5)                                       755               \n",
      "========================================================================================================================\n",
      "Total params: 7,681,355\n",
      "Trainable params: 7,681,355\n",
      "Non-trainable params: 0\n",
      "________________________________________________________________________________________________________________________\n",
      "Epoch 1/3\n",
      "2100/2100 [==============================] - 277s 132ms/step - loss: 0.8030 - accuracy: 0.6672 - val_loss: 0.7414 - val_accuracy: 0.6908\n",
      "Epoch 2/3\n",
      "2100/2100 [==============================] - 264s 126ms/step - loss: 0.6797 - accuracy: 0.7175 - val_loss: 0.7274 - val_accuracy: 0.6962\n",
      "Epoch 3/3\n",
      "2100/2100 [==============================] - 263s 125ms/step - loss: 0.6075 - accuracy: 0.7514 - val_loss: 0.7415 - val_accuracy: 0.6953\n"
     ]
    },
    {
     "data": {
      "image/png": "[encoded data removed]",
      "text/plain": [
       "<Figure size 432x288 with 1 Axes>"
      ]
     },
     "metadata": {
      "needs_background": "light"
     },
     "output_type": "display_data"
    }
   ],
   "source": [
    "m, r = fit_model(create_model())"
   ]
  },
  {
   "cell_type": "code",
   "execution_count": 33,
   "metadata": {},
   "outputs": [
    {
     "name": "stdout",
     "output_type": "stream",
     "text": [
      "Model: \"functional_9\"\n",
      "__________________________________________________________________________________________________________________________________\n",
      "Layer (type)                                              Output Shape                                        Param #             \n",
      "==================================================================================================================================\n",
      "input_6 (InputLayer)                                      [(None, 495)]                                       0                   \n",
      "__________________________________________________________________________________________________________________________________\n",
      "embedding_5 (Embedding)                                   (None, 495, 50)                                     1500000             \n",
      "__________________________________________________________________________________________________________________________________\n",
      "lstm_5 (LSTM)                                             (None, 495, 100)                                    60400               \n",
      "__________________________________________________________________________________________________________________________________\n",
      "global_max_pooling1d_4 (GlobalMaxPooling1D)               (None, 100)                                         0                   \n",
      "__________________________________________________________________________________________________________________________________\n",
      "dense_4 (Dense)                                           (None, 16)                                          1616                \n",
      "==================================================================================================================================\n",
      "Total params: 1,562,016\n",
      "Trainable params: 1,562,016\n",
      "Non-trainable params: 0\n",
      "__________________________________________________________________________________________________________________________________\n",
      "Epoch 1/5\n",
      "420/420 [==============================] - 20s 48ms/step - loss: 1.3192 - accuracy: 0.4963 - val_loss: 1.0246 - val_accuracy: 0.5908\n",
      "Epoch 2/5\n",
      "420/420 [==============================] - 20s 47ms/step - loss: 0.9143 - accuracy: 0.6252 - val_loss: 0.8682 - val_accuracy: 0.6381\n",
      "Epoch 3/5\n",
      "420/420 [==============================] - 20s 48ms/step - loss: 0.7818 - accuracy: 0.6721 - val_loss: 0.8285 - val_accuracy: 0.6580\n",
      "Epoch 4/5\n",
      "420/420 [==============================] - 20s 48ms/step - loss: 0.6922 - accuracy: 0.7148 - val_loss: 0.8388 - val_accuracy: 0.6551\n",
      "Epoch 5/5\n",
      "420/420 [==============================] - 20s 48ms/step - loss: 0.6251 - accuracy: 0.7488 - val_loss: 0.8657 - val_accuracy: 0.6528\n"
     ]
    },
    {
     "data": {
      "image/png": "[encoded data removed]",
      "text/plain": [
       "<Figure size 432x288 with 1 Axes>"
      ]
     },
     "metadata": {
      "needs_background": "light"
     },
     "output_type": "display_data"
    }
   ],
   "source": [
    "m1, r1 = fit_model(create_model())"
   ]
  },
  {
   "cell_type": "code",
   "execution_count": 39,
   "metadata": {},
   "outputs": [
    {
     "name": "stdout",
     "output_type": "stream",
     "text": [
      "Model: \"functional_13\"\n",
      "________________________________________________________________________________________________________________________\n",
      "Layer (type)                                          Output Shape                                    Param #           \n",
      "========================================================================================================================\n",
      "input_8 (InputLayer)                                  [(None, 495)]                                   0                 \n",
      "________________________________________________________________________________________________________________________\n",
      "embedding_7 (Embedding)                               (None, 495, 100)                                3000000           \n",
      "________________________________________________________________________________________________________________________\n",
      "bidirectional_6 (Bidirectional)                       (None, 495, 100)                                60400             \n",
      "________________________________________________________________________________________________________________________\n",
      "global_max_pooling1d_6 (GlobalMaxPooling1D)           (None, 100)                                     0                 \n",
      "________________________________________________________________________________________________________________________\n",
      "dense_6 (Dense)                                       (None, 8)                                       808               \n",
      "========================================================================================================================\n",
      "Total params: 3,061,208\n",
      "Trainable params: 3,061,208\n",
      "Non-trainable params: 0\n",
      "________________________________________________________________________________________________________________________\n",
      "Epoch 1/5\n",
      "420/420 [==============================] - 34s 82ms/step - loss: 1.0672 - accuracy: 0.5795 - val_loss: 0.8608 - val_accuracy: 0.6471\n",
      "Epoch 2/5\n",
      "420/420 [==============================] - 34s 81ms/step - loss: 0.7512 - accuracy: 0.6913 - val_loss: 0.8136 - val_accuracy: 0.6668\n",
      "Epoch 3/5\n",
      "420/420 [==============================] - 34s 82ms/step - loss: 0.6479 - accuracy: 0.7363 - val_loss: 0.8381 - val_accuracy: 0.6565\n",
      "Epoch 4/5\n",
      "420/420 [==============================] - 34s 80ms/step - loss: 0.5675 - accuracy: 0.7758 - val_loss: 0.8792 - val_accuracy: 0.6501\n",
      "Epoch 5/5\n",
      "420/420 [==============================] - 34s 81ms/step - loss: 0.4878 - accuracy: 0.8133 - val_loss: 0.9663 - val_accuracy: 0.6507\n"
     ]
    },
    {
     "data": {
      "image/png": "[encoded data removed]",
      "text/plain": [
       "<Figure size 432x288 with 1 Axes>"
      ]
     },
     "metadata": {
      "needs_background": "light"
     },
     "output_type": "display_data"
    }
   ],
   "source": [
    "m2, r2 = fit_model(create_model())"
   ]
  },
  {
   "cell_type": "code",
   "execution_count": null,
   "metadata": {},
   "outputs": [],
   "source": []
  }
 ],
 "metadata": {
  "kernelspec": {
   "display_name": "Python 3",
   "language": "python",
   "name": "python3"
  },
  "language_info": {
   "codemirror_mode": {
    "name": "ipython",
    "version": 3
   },
   "file_extension": ".py",
   "mimetype": "text/x-python",
   "name": "python",
   "nbconvert_exporter": "python",
   "pygments_lexer": "ipython3",
   "version": "3.8.5"
  }
 },
 "nbformat": 4,
 "nbformat_minor": 4
}
