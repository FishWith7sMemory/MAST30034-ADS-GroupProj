{
 "cells": [
  {
   "cell_type": "code",
   "execution_count": 1,
   "metadata": {},
   "outputs": [
    {
     "name": "stderr",
     "output_type": "stream",
     "text": [
      "/home/student.unimelb.edu.au/jiachenz3/.local/lib/python3.6/site-packages/tensorflow/python/framework/dtypes.py:516: FutureWarning: Passing (type, 1) or '1type' as a synonym of type is deprecated; in a future version of numpy, it will be understood as (type, (1,)) / '(1,)type'.\n",
      "  _np_qint8 = np.dtype([(\"qint8\", np.int8, 1)])\n",
      "/home/student.unimelb.edu.au/jiachenz3/.local/lib/python3.6/site-packages/tensorflow/python/framework/dtypes.py:517: FutureWarning: Passing (type, 1) or '1type' as a synonym of type is deprecated; in a future version of numpy, it will be understood as (type, (1,)) / '(1,)type'.\n",
      "  _np_quint8 = np.dtype([(\"quint8\", np.uint8, 1)])\n",
      "/home/student.unimelb.edu.au/jiachenz3/.local/lib/python3.6/site-packages/tensorflow/python/framework/dtypes.py:518: FutureWarning: Passing (type, 1) or '1type' as a synonym of type is deprecated; in a future version of numpy, it will be understood as (type, (1,)) / '(1,)type'.\n",
      "  _np_qint16 = np.dtype([(\"qint16\", np.int16, 1)])\n",
      "/home/student.unimelb.edu.au/jiachenz3/.local/lib/python3.6/site-packages/tensorflow/python/framework/dtypes.py:519: FutureWarning: Passing (type, 1) or '1type' as a synonym of type is deprecated; in a future version of numpy, it will be understood as (type, (1,)) / '(1,)type'.\n",
      "  _np_quint16 = np.dtype([(\"quint16\", np.uint16, 1)])\n",
      "/home/student.unimelb.edu.au/jiachenz3/.local/lib/python3.6/site-packages/tensorflow/python/framework/dtypes.py:520: FutureWarning: Passing (type, 1) or '1type' as a synonym of type is deprecated; in a future version of numpy, it will be understood as (type, (1,)) / '(1,)type'.\n",
      "  _np_qint32 = np.dtype([(\"qint32\", np.int32, 1)])\n",
      "/home/student.unimelb.edu.au/jiachenz3/.local/lib/python3.6/site-packages/tensorflow/python/framework/dtypes.py:525: FutureWarning: Passing (type, 1) or '1type' as a synonym of type is deprecated; in a future version of numpy, it will be understood as (type, (1,)) / '(1,)type'.\n",
      "  np_resource = np.dtype([(\"resource\", np.ubyte, 1)])\n"
     ]
    },
    {
     "name": "stdout",
     "output_type": "stream",
     "text": [
      "Num GPUs Available:  []\n"
     ]
    },
    {
     "name": "stderr",
     "output_type": "stream",
     "text": [
      "/home/student.unimelb.edu.au/jiachenz3/.local/lib/python3.6/site-packages/tensorboard/compat/tensorflow_stub/dtypes.py:541: FutureWarning: Passing (type, 1) or '1type' as a synonym of type is deprecated; in a future version of numpy, it will be understood as (type, (1,)) / '(1,)type'.\n",
      "  _np_qint8 = np.dtype([(\"qint8\", np.int8, 1)])\n",
      "/home/student.unimelb.edu.au/jiachenz3/.local/lib/python3.6/site-packages/tensorboard/compat/tensorflow_stub/dtypes.py:542: FutureWarning: Passing (type, 1) or '1type' as a synonym of type is deprecated; in a future version of numpy, it will be understood as (type, (1,)) / '(1,)type'.\n",
      "  _np_quint8 = np.dtype([(\"quint8\", np.uint8, 1)])\n",
      "/home/student.unimelb.edu.au/jiachenz3/.local/lib/python3.6/site-packages/tensorboard/compat/tensorflow_stub/dtypes.py:543: FutureWarning: Passing (type, 1) or '1type' as a synonym of type is deprecated; in a future version of numpy, it will be understood as (type, (1,)) / '(1,)type'.\n",
      "  _np_qint16 = np.dtype([(\"qint16\", np.int16, 1)])\n",
      "/home/student.unimelb.edu.au/jiachenz3/.local/lib/python3.6/site-packages/tensorboard/compat/tensorflow_stub/dtypes.py:544: FutureWarning: Passing (type, 1) or '1type' as a synonym of type is deprecated; in a future version of numpy, it will be understood as (type, (1,)) / '(1,)type'.\n",
      "  _np_quint16 = np.dtype([(\"quint16\", np.uint16, 1)])\n",
      "/home/student.unimelb.edu.au/jiachenz3/.local/lib/python3.6/site-packages/tensorboard/compat/tensorflow_stub/dtypes.py:545: FutureWarning: Passing (type, 1) or '1type' as a synonym of type is deprecated; in a future version of numpy, it will be understood as (type, (1,)) / '(1,)type'.\n",
      "  _np_qint32 = np.dtype([(\"qint32\", np.int32, 1)])\n",
      "/home/student.unimelb.edu.au/jiachenz3/.local/lib/python3.6/site-packages/tensorboard/compat/tensorflow_stub/dtypes.py:550: FutureWarning: Passing (type, 1) or '1type' as a synonym of type is deprecated; in a future version of numpy, it will be understood as (type, (1,)) / '(1,)type'.\n",
      "  np_resource = np.dtype([(\"resource\", np.ubyte, 1)])\n"
     ]
    }
   ],
   "source": [
    "%run config.ipynb"
   ]
  },
  {
   "cell_type": "markdown",
   "metadata": {},
   "source": [
    "## Read Datasets"
   ]
  },
  {
   "cell_type": "code",
   "execution_count": 2,
   "metadata": {},
   "outputs": [],
   "source": [
    "business = pd.read_json(\"data/Yelp/yelp_academic_dataset_business.json\", lines=True)\n",
    "check_in = pd.read_json(\"data/Yelp/yelp_academic_dataset_checkin.json\", lines=True)\n",
    "review = pd.read_csv(\"data/Yelp/yelp_academic_dataset_sample_review.csv\")\n",
    "tip = pd.read_json(\"data/Yelp/yelp_academic_dataset_tip.json\", lines=True)\n",
    "user = pd.read_json(\"data/Yelp/yelp_academic_dataset_user.json\", lines=True)"
   ]
  },
  {
   "cell_type": "code",
   "execution_count": 3,
   "metadata": {},
   "outputs": [
    {
     "data": {
      "text/html": [
       "<div>\n",
       "<style scoped>\n",
       "    .dataframe tbody tr th:only-of-type {\n",
       "        vertical-align: middle;\n",
       "    }\n",
       "\n",
       "    .dataframe tbody tr th {\n",
       "        vertical-align: top;\n",
       "    }\n",
       "\n",
       "    .dataframe thead th {\n",
       "        text-align: right;\n",
       "    }\n",
       "</style>\n",
       "<table border=\"1\" class=\"dataframe\">\n",
       "  <thead>\n",
       "    <tr style=\"text-align: right;\">\n",
       "      <th></th>\n",
       "      <th>review_id</th>\n",
       "      <th>user_id</th>\n",
       "      <th>business_id</th>\n",
       "      <th>stars</th>\n",
       "      <th>useful</th>\n",
       "      <th>funny</th>\n",
       "      <th>cool</th>\n",
       "      <th>text</th>\n",
       "      <th>date</th>\n",
       "    </tr>\n",
       "  </thead>\n",
       "  <tbody>\n",
       "    <tr>\n",
       "      <th>0</th>\n",
       "      <td>bXvOUOFJgQr7xiveQS7nIg</td>\n",
       "      <td>Oisnn5J3m4Mq2otVd1LGZw</td>\n",
       "      <td>3_NOo26lt3VArKiLcK17qQ</td>\n",
       "      <td>5</td>\n",
       "      <td>0</td>\n",
       "      <td>0</td>\n",
       "      <td>0</td>\n",
       "      <td>When it is not hot here usually during fall/wi...</td>\n",
       "      <td>2011-09-12 03:09:54</td>\n",
       "    </tr>\n",
       "    <tr>\n",
       "      <th>1</th>\n",
       "      <td>st2JQYRM-SMgb2QPSR9BMA</td>\n",
       "      <td>_ZrziJUfV3ZqH4H495ISnQ</td>\n",
       "      <td>TQqhfjlPVEz41K_wAogQSQ</td>\n",
       "      <td>3</td>\n",
       "      <td>0</td>\n",
       "      <td>0</td>\n",
       "      <td>0</td>\n",
       "      <td>The lasagne was slightly bland but ok.  There ...</td>\n",
       "      <td>2018-11-23 23:12:39</td>\n",
       "    </tr>\n",
       "    <tr>\n",
       "      <th>2</th>\n",
       "      <td>LHrHBVFNgPk0cIe3UZOjHA</td>\n",
       "      <td>f6M50dZNFNFBIGarOJ8Myg</td>\n",
       "      <td>yvPkA1ZXz1M59G6e64jZGw</td>\n",
       "      <td>5</td>\n",
       "      <td>0</td>\n",
       "      <td>0</td>\n",
       "      <td>0</td>\n",
       "      <td>Nick Osborne takes his time. He cares a lot ab...</td>\n",
       "      <td>2018-04-25 01:55:31</td>\n",
       "    </tr>\n",
       "    <tr>\n",
       "      <th>3</th>\n",
       "      <td>HPmRc8BqOe5X5SN_tsNuaw</td>\n",
       "      <td>7KYnhbHu1Rr2HzFhFLGXxg</td>\n",
       "      <td>InYPeA1WM9uGR_mA5Wia1g</td>\n",
       "      <td>1</td>\n",
       "      <td>0</td>\n",
       "      <td>0</td>\n",
       "      <td>1</td>\n",
       "      <td>I came here with my bestfriend and it was the ...</td>\n",
       "      <td>2017-07-21 08:01:08</td>\n",
       "    </tr>\n",
       "    <tr>\n",
       "      <th>4</th>\n",
       "      <td>0Nx_T8MsIqjrUOtGeOJMuw</td>\n",
       "      <td>kbfpED-6FURIsNlsAXqc2g</td>\n",
       "      <td>63bHLJUomC22Xdm3IjgBtw</td>\n",
       "      <td>2</td>\n",
       "      <td>1</td>\n",
       "      <td>0</td>\n",
       "      <td>0</td>\n",
       "      <td>This might have been the rudest establishment ...</td>\n",
       "      <td>2017-08-07 22:31:10</td>\n",
       "    </tr>\n",
       "    <tr>\n",
       "      <th>...</th>\n",
       "      <td>...</td>\n",
       "      <td>...</td>\n",
       "      <td>...</td>\n",
       "      <td>...</td>\n",
       "      <td>...</td>\n",
       "      <td>...</td>\n",
       "      <td>...</td>\n",
       "      <td>...</td>\n",
       "      <td>...</td>\n",
       "    </tr>\n",
       "    <tr>\n",
       "      <th>80206</th>\n",
       "      <td>AQK1USIVHnDargrmC_mf6g</td>\n",
       "      <td>pQusQUimSS-cAozKKdbHQw</td>\n",
       "      <td>mISfQv_it_TCXpFf4BFzaw</td>\n",
       "      <td>4</td>\n",
       "      <td>2</td>\n",
       "      <td>0</td>\n",
       "      <td>0</td>\n",
       "      <td>The bartenders/servers need to do a little hom...</td>\n",
       "      <td>2012-04-21 16:41:27</td>\n",
       "    </tr>\n",
       "    <tr>\n",
       "      <th>80207</th>\n",
       "      <td>QSjw8FNPCOQUdMt8VdIU8g</td>\n",
       "      <td>djP46l4v0TQTqhLa-ZB1xw</td>\n",
       "      <td>UOtoOybZ5vAB4aXBLc57vA</td>\n",
       "      <td>3</td>\n",
       "      <td>2</td>\n",
       "      <td>1</td>\n",
       "      <td>2</td>\n",
       "      <td>I think this is a hit or miss kind of place. I...</td>\n",
       "      <td>2014-10-12 01:16:38</td>\n",
       "    </tr>\n",
       "    <tr>\n",
       "      <th>80208</th>\n",
       "      <td>NZpfUFv6RHB4KOoqnaChkA</td>\n",
       "      <td>z8wN6EQuw_JF-zTjcNgsLw</td>\n",
       "      <td>PkI1x_NCyEt2sR8MYv4l7w</td>\n",
       "      <td>5</td>\n",
       "      <td>6</td>\n",
       "      <td>6</td>\n",
       "      <td>5</td>\n",
       "      <td>I freaking hate this place!!! WHY? Because i s...</td>\n",
       "      <td>2012-10-18 01:00:24</td>\n",
       "    </tr>\n",
       "    <tr>\n",
       "      <th>80209</th>\n",
       "      <td>FtsXFtvfSiOwVvsi7ZsINg</td>\n",
       "      <td>Vbm50WElUT2QUYvmQ3QB4Q</td>\n",
       "      <td>Cl6hqAnuKz3ZPv5x4NGhAQ</td>\n",
       "      <td>5</td>\n",
       "      <td>0</td>\n",
       "      <td>3</td>\n",
       "      <td>0</td>\n",
       "      <td>I called their warranty department to speak wi...</td>\n",
       "      <td>2015-05-18 22:05:22</td>\n",
       "    </tr>\n",
       "    <tr>\n",
       "      <th>80210</th>\n",
       "      <td>bZ9y2TBoAW8yCVIIm9mS4A</td>\n",
       "      <td>MCjR28P8GG2gSdnNN8nVBg</td>\n",
       "      <td>TpwCjlKsdYjLsvlYhKGt4g</td>\n",
       "      <td>3</td>\n",
       "      <td>0</td>\n",
       "      <td>0</td>\n",
       "      <td>0</td>\n",
       "      <td>Searching for a tasty vegan gluten free Pumpki...</td>\n",
       "      <td>2015-10-11 05:31:25</td>\n",
       "    </tr>\n",
       "  </tbody>\n",
       "</table>\n",
       "<p>80211 rows × 9 columns</p>\n",
       "</div>"
      ],
      "text/plain": [
       "                    review_id                 user_id             business_id  \\\n",
       "0      bXvOUOFJgQr7xiveQS7nIg  Oisnn5J3m4Mq2otVd1LGZw  3_NOo26lt3VArKiLcK17qQ   \n",
       "1      st2JQYRM-SMgb2QPSR9BMA  _ZrziJUfV3ZqH4H495ISnQ  TQqhfjlPVEz41K_wAogQSQ   \n",
       "2      LHrHBVFNgPk0cIe3UZOjHA  f6M50dZNFNFBIGarOJ8Myg  yvPkA1ZXz1M59G6e64jZGw   \n",
       "3      HPmRc8BqOe5X5SN_tsNuaw  7KYnhbHu1Rr2HzFhFLGXxg  InYPeA1WM9uGR_mA5Wia1g   \n",
       "4      0Nx_T8MsIqjrUOtGeOJMuw  kbfpED-6FURIsNlsAXqc2g  63bHLJUomC22Xdm3IjgBtw   \n",
       "...                       ...                     ...                     ...   \n",
       "80206  AQK1USIVHnDargrmC_mf6g  pQusQUimSS-cAozKKdbHQw  mISfQv_it_TCXpFf4BFzaw   \n",
       "80207  QSjw8FNPCOQUdMt8VdIU8g  djP46l4v0TQTqhLa-ZB1xw  UOtoOybZ5vAB4aXBLc57vA   \n",
       "80208  NZpfUFv6RHB4KOoqnaChkA  z8wN6EQuw_JF-zTjcNgsLw  PkI1x_NCyEt2sR8MYv4l7w   \n",
       "80209  FtsXFtvfSiOwVvsi7ZsINg  Vbm50WElUT2QUYvmQ3QB4Q  Cl6hqAnuKz3ZPv5x4NGhAQ   \n",
       "80210  bZ9y2TBoAW8yCVIIm9mS4A  MCjR28P8GG2gSdnNN8nVBg  TpwCjlKsdYjLsvlYhKGt4g   \n",
       "\n",
       "       stars  useful  funny  cool  \\\n",
       "0          5       0      0     0   \n",
       "1          3       0      0     0   \n",
       "2          5       0      0     0   \n",
       "3          1       0      0     1   \n",
       "4          2       1      0     0   \n",
       "...      ...     ...    ...   ...   \n",
       "80206      4       2      0     0   \n",
       "80207      3       2      1     2   \n",
       "80208      5       6      6     5   \n",
       "80209      5       0      3     0   \n",
       "80210      3       0      0     0   \n",
       "\n",
       "                                                    text                 date  \n",
       "0      When it is not hot here usually during fall/wi...  2011-09-12 03:09:54  \n",
       "1      The lasagne was slightly bland but ok.  There ...  2018-11-23 23:12:39  \n",
       "2      Nick Osborne takes his time. He cares a lot ab...  2018-04-25 01:55:31  \n",
       "3      I came here with my bestfriend and it was the ...  2017-07-21 08:01:08  \n",
       "4      This might have been the rudest establishment ...  2017-08-07 22:31:10  \n",
       "...                                                  ...                  ...  \n",
       "80206  The bartenders/servers need to do a little hom...  2012-04-21 16:41:27  \n",
       "80207  I think this is a hit or miss kind of place. I...  2014-10-12 01:16:38  \n",
       "80208  I freaking hate this place!!! WHY? Because i s...  2012-10-18 01:00:24  \n",
       "80209  I called their warranty department to speak wi...  2015-05-18 22:05:22  \n",
       "80210  Searching for a tasty vegan gluten free Pumpki...  2015-10-11 05:31:25  \n",
       "\n",
       "[80211 rows x 9 columns]"
      ]
     },
     "execution_count": 3,
     "metadata": {},
     "output_type": "execute_result"
    }
   ],
   "source": [
    "review"
   ]
  },
  {
   "cell_type": "code",
   "execution_count": 4,
   "metadata": {},
   "outputs": [],
   "source": [
    "X = review[\"text\"]\n",
    "y = review[\"stars\"]"
   ]
  },
  {
   "cell_type": "markdown",
   "metadata": {},
   "source": [
    "## Split Dataset"
   ]
  },
  {
   "cell_type": "code",
   "execution_count": 5,
   "metadata": {},
   "outputs": [],
   "source": [
    "df_train, df_test, y_train, y_test = train_test_split(X, y, test_size=0.33)"
   ]
  },
  {
   "cell_type": "markdown",
   "metadata": {},
   "source": [
    "## Word Embedding"
   ]
  },
  {
   "cell_type": "code",
   "execution_count": 6,
   "metadata": {},
   "outputs": [],
   "source": [
    "MAX_VOCAB_SIZE = 40000\n",
    "tokenizer = Tokenizer(num_words=MAX_VOCAB_SIZE)\n",
    "tokenizer.fit_on_texts(df_train.values)\n",
    "sequences_train = tokenizer.texts_to_sequences(df_train)\n",
    "sequences_test = tokenizer.texts_to_sequences(df_test)"
   ]
  },
  {
   "cell_type": "code",
   "execution_count": 7,
   "metadata": {},
   "outputs": [
    {
     "name": "stdout",
     "output_type": "stream",
     "text": [
      "Found 63982 unique tokens.\n"
     ]
    }
   ],
   "source": [
    "word2idx = tokenizer.word_index\n",
    "V = len(word2idx)\n",
    "print('Found %s unique tokens.' % V)"
   ]
  },
  {
   "cell_type": "code",
   "execution_count": 8,
   "metadata": {},
   "outputs": [
    {
     "name": "stdout",
     "output_type": "stream",
     "text": [
      "Shape of data train tensor: (53741, 990)\n",
      "Shape of data test tensor: (26470, 990)\n"
     ]
    }
   ],
   "source": [
    "X_train = pad_sequences(sequences_train)\n",
    "print('Shape of data train tensor:', X_train.shape)\n",
    "\n",
    "T = X_train.shape[1]\n",
    "\n",
    "X_test = pad_sequences(sequences_test, maxlen=T)\n",
    "print('Shape of data test tensor:', X_test.shape)"
   ]
  },
  {
   "cell_type": "markdown",
   "metadata": {},
   "source": [
    "## Modelling"
   ]
  },
  {
   "cell_type": "code",
   "execution_count": 13,
   "metadata": {},
   "outputs": [],
   "source": [
    "def fit_model(model, epochs=10, loss='sparse_categorical_crossentropy', optimizer='adam', metrics=['accuracy']):\n",
    "    m = clone_model(model)\n",
    "    m.compile(loss=loss, optimizer=optimizer, metrics=metrics)\n",
    "    r = m.fit(X_train, y_train, epochs=epochs, validation_data=(X_test, y_test))\n",
    "    plot(r)\n",
    "    return m, r\n",
    "\n",
    "def plot(r):\n",
    "    plt.xlabel('# epochs')\n",
    "    length = len(r.history[next(iter(r.history))])\n",
    "    plt.xticks(np.arange(length), np.arange(1, length+1))\n",
    "    plt.plot(r.history['loss'], label='loss')\n",
    "    plt.plot(r.history['val_loss'], label='val_loss')\n",
    "    plt.plot(r.history['accuracy'], label='acc')\n",
    "    plt.plot(r.history['val_accuracy'], 'm', label='val_acc')\n",
    "    plt.legend()\n",
    "\n",
    "def create_model():\n",
    "    D = 150\n",
    "    num_words = min(MAX_VOCAB_SIZE, V + 1)\n",
    "    i = Input(shape=(T,))\n",
    "    x = Embedding(num_words, D)(i)\n",
    "    x = LSTM(D)(x)\n",
    "    x = Dense(8, activation='softmax')(x)\n",
    "    model = Model(i, x)\n",
    "    model.summary()\n",
    "    return model"
   ]
  },
  {
   "cell_type": "code",
   "execution_count": null,
   "metadata": {},
   "outputs": [
    {
     "name": "stdout",
     "output_type": "stream",
     "text": [
      "WARNING:tensorflow:Entity <function standard_lstm at 0x7f8328760e18> could not be transformed and will be executed as-is. Please report this to the AutoGraph team. When filing the bug, set the verbosity to 10 (on Linux, `export AUTOGRAPH_VERBOSITY=10`) and attach the full output. Cause: converting <function standard_lstm at 0x7f8328760e18>: AttributeError: module 'gast' has no attribute 'Index'\n",
      "WARNING: Entity <function standard_lstm at 0x7f8328760e18> could not be transformed and will be executed as-is. Please report this to the AutoGraph team. When filing the bug, set the verbosity to 10 (on Linux, `export AUTOGRAPH_VERBOSITY=10`) and attach the full output. Cause: converting <function standard_lstm at 0x7f8328760e18>: AttributeError: module 'gast' has no attribute 'Index'\n",
      "WARNING:tensorflow:Entity <function cudnn_lstm at 0x7f8328760ea0> could not be transformed and will be executed as-is. Please report this to the AutoGraph team. When filing the bug, set the verbosity to 10 (on Linux, `export AUTOGRAPH_VERBOSITY=10`) and attach the full output. Cause: converting <function cudnn_lstm at 0x7f8328760ea0>: AttributeError: module 'gast' has no attribute 'Index'\n",
      "WARNING: Entity <function cudnn_lstm at 0x7f8328760ea0> could not be transformed and will be executed as-is. Please report this to the AutoGraph team. When filing the bug, set the verbosity to 10 (on Linux, `export AUTOGRAPH_VERBOSITY=10`) and attach the full output. Cause: converting <function cudnn_lstm at 0x7f8328760ea0>: AttributeError: module 'gast' has no attribute 'Index'\n",
      "Model: \"model_1\"\n",
      "_________________________________________________________________\n",
      "Layer (type)                 Output Shape              Param #   \n",
      "=================================================================\n",
      "input_2 (InputLayer)         [(None, 990)]             0         \n",
      "_________________________________________________________________\n",
      "embedding_1 (Embedding)      (None, 990, 150)          6000000   \n",
      "_________________________________________________________________\n",
      "lstm_1 (LSTM)                (None, 150)               180600    \n",
      "_________________________________________________________________\n",
      "dense_1 (Dense)              (None, 8)                 1208      \n",
      "=================================================================\n",
      "Total params: 6,181,808\n",
      "Trainable params: 6,181,808\n",
      "Non-trainable params: 0\n",
      "_________________________________________________________________\n",
      "WARNING:tensorflow:Entity <function standard_lstm at 0x7f8328760e18> could not be transformed and will be executed as-is. Please report this to the AutoGraph team. When filing the bug, set the verbosity to 10 (on Linux, `export AUTOGRAPH_VERBOSITY=10`) and attach the full output. Cause: converting <function standard_lstm at 0x7f8328760e18>: AttributeError: module 'gast' has no attribute 'Index'\n",
      "WARNING: Entity <function standard_lstm at 0x7f8328760e18> could not be transformed and will be executed as-is. Please report this to the AutoGraph team. When filing the bug, set the verbosity to 10 (on Linux, `export AUTOGRAPH_VERBOSITY=10`) and attach the full output. Cause: converting <function standard_lstm at 0x7f8328760e18>: AttributeError: module 'gast' has no attribute 'Index'\n",
      "WARNING:tensorflow:Entity <function cudnn_lstm at 0x7f8328760ea0> could not be transformed and will be executed as-is. Please report this to the AutoGraph team. When filing the bug, set the verbosity to 10 (on Linux, `export AUTOGRAPH_VERBOSITY=10`) and attach the full output. Cause: converting <function cudnn_lstm at 0x7f8328760ea0>: AttributeError: module 'gast' has no attribute 'Index'\n",
      "WARNING: Entity <function cudnn_lstm at 0x7f8328760ea0> could not be transformed and will be executed as-is. Please report this to the AutoGraph team. When filing the bug, set the verbosity to 10 (on Linux, `export AUTOGRAPH_VERBOSITY=10`) and attach the full output. Cause: converting <function cudnn_lstm at 0x7f8328760ea0>: AttributeError: module 'gast' has no attribute 'Index'\n",
      "Train on 53741 samples, validate on 26470 samples\n",
      "Epoch 1/10\n",
      " 9792/53741 [====>.........................] - ETA: 19:05 - loss: 1.2771 - accuracy: 0.5040"
     ]
    }
   ],
   "source": [
    "m, r = fit_model(create_model())"
   ]
  },
  {
   "cell_type": "code",
   "execution_count": null,
   "metadata": {},
   "outputs": [],
   "source": []
  }
 ],
 "metadata": {
  "kernelspec": {
   "display_name": "Python 3",
   "language": "python",
   "name": "python3"
  },
  "language_info": {
   "codemirror_mode": {
    "name": "ipython",
    "version": 3
   },
   "file_extension": ".py",
   "mimetype": "text/x-python",
   "name": "python",
   "nbconvert_exporter": "python",
   "pygments_lexer": "ipython3",
   "version": "3.6.9"
  }
 },
 "nbformat": 4,
 "nbformat_minor": 4
}
