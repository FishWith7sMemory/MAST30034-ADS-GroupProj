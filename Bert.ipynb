{
 "cells": [
  {
   "cell_type": "code",
   "execution_count": 1,
   "metadata": {},
   "outputs": [
    {
     "name": "stdout",
     "output_type": "stream",
     "text": [
      "Num GPUs Available:  [PhysicalDevice(name='/physical_device:GPU:0', device_type='GPU')]\n"
     ]
    }
   ],
   "source": [
    "%run config.ipynb\n",
    "# %run keras-bert.py\n",
    "import os\n",
    "import random\n",
    "import math\n",
    "import tensorflow as tf\n",
    "import tensorflow_hub as hub\n",
    "\n",
    "from official.modeling import tf_utils\n",
    "from official import nlp\n",
    "from official.nlp import optimization\n",
    "from official.nlp import bert\n",
    "from official.nlp.bert.tokenization import FullTokenizer\n",
    "from official.nlp.bert.configs import BertConfig\n",
    "from official.nlp.bert.bert_models import classifier_model\n",
    "\n",
    "from keras_bert.bert import get_model\n",
    "from keras_bert.loader import load_trained_model_from_checkpoint\n",
    "\n",
    "from transformers import BertForSequenceClassification\n",
    "from transformers import BertTokenizer\n",
    "\n",
    "import tensorflow as tf\n",
    "print(\"Num GPUs Available: \", tf.config.experimental.list_physical_devices('GPU'))\n",
    "from tensorflow.keras.preprocessing.text import Tokenizer\n",
    "from tensorflow.keras.preprocessing.sequence import pad_sequences\n",
    "from tensorflow.keras.layers import Input, Dense, Embedding, LSTM, Bidirectional, GlobalMaxPooling1D, GlobalAveragePooling1D, Dropout, Conv1D, GlobalMaxPool1D, GlobalAvgPool1D\n",
    "from tensorflow.keras.models import Model, clone_model, Sequential\n",
    "from tensorflow.keras.metrics import RootMeanSquaredError\n",
    "\n",
    "import json\n",
    "\n",
    "# from keras import backend as K"
   ]
  },
  {
   "cell_type": "code",
   "execution_count": 2,
   "metadata": {},
   "outputs": [
    {
     "data": {
      "text/html": [
       "<div>\n",
       "<style scoped>\n",
       "    .dataframe tbody tr th:only-of-type {\n",
       "        vertical-align: middle;\n",
       "    }\n",
       "\n",
       "    .dataframe tbody tr th {\n",
       "        vertical-align: top;\n",
       "    }\n",
       "\n",
       "    .dataframe thead th {\n",
       "        text-align: right;\n",
       "    }\n",
       "</style>\n",
       "<table border=\"1\" class=\"dataframe\">\n",
       "  <thead>\n",
       "    <tr style=\"text-align: right;\">\n",
       "      <th></th>\n",
       "      <th>review_id</th>\n",
       "      <th>user_id</th>\n",
       "      <th>business_id</th>\n",
       "      <th>review_stars</th>\n",
       "      <th>review_text</th>\n",
       "      <th>review_text_after_cleaning</th>\n",
       "      <th>user_review_count</th>\n",
       "      <th>user_elite</th>\n",
       "      <th>user_friends</th>\n",
       "      <th>user_fans</th>\n",
       "      <th>user_average_stars</th>\n",
       "      <th>user_total_compliments</th>\n",
       "      <th>business_name</th>\n",
       "      <th>business_categories</th>\n",
       "      <th>business_stars</th>\n",
       "      <th>to_recommend</th>\n",
       "      <th>num_user_friends</th>\n",
       "    </tr>\n",
       "  </thead>\n",
       "  <tbody>\n",
       "    <tr>\n",
       "      <th>0</th>\n",
       "      <td>yNB39szX3M8mTEzTtsgoCw</td>\n",
       "      <td>Y1iCYGvLf4ifPoXlKLGq-w</td>\n",
       "      <td>o2Qh4SiGYJ7BK4hP7dfkrw</td>\n",
       "      <td>5</td>\n",
       "      <td>This is an amazing indian Bistro!!I If I do sa...</td>\n",
       "      <td>amaz bistroi say myself never cuisin glad expe...</td>\n",
       "      <td>1</td>\n",
       "      <td>0</td>\n",
       "      <td>None</td>\n",
       "      <td>0</td>\n",
       "      <td>5.0</td>\n",
       "      <td>0</td>\n",
       "      <td>Saffron Indian Bistro</td>\n",
       "      <td>Restaurants, Indian</td>\n",
       "      <td>4.5</td>\n",
       "      <td>True</td>\n",
       "      <td>0</td>\n",
       "    </tr>\n",
       "  </tbody>\n",
       "</table>\n",
       "</div>"
      ],
      "text/plain": [
       "                review_id                 user_id             business_id  \\\n",
       "0  yNB39szX3M8mTEzTtsgoCw  Y1iCYGvLf4ifPoXlKLGq-w  o2Qh4SiGYJ7BK4hP7dfkrw   \n",
       "\n",
       "   review_stars                                        review_text  \\\n",
       "0             5  This is an amazing indian Bistro!!I If I do sa...   \n",
       "\n",
       "                          review_text_after_cleaning  user_review_count  \\\n",
       "0  amaz bistroi say myself never cuisin glad expe...                  1   \n",
       "\n",
       "   user_elite user_friends  user_fans  user_average_stars  \\\n",
       "0           0         None          0                 5.0   \n",
       "\n",
       "   user_total_compliments          business_name  business_categories  \\\n",
       "0                       0  Saffron Indian Bistro  Restaurants, Indian   \n",
       "\n",
       "   business_stars  to_recommend  num_user_friends  \n",
       "0             4.5          True                 0  "
      ]
     },
     "execution_count": 2,
     "metadata": {},
     "output_type": "execute_result"
    }
   ],
   "source": [
    "df = pd.read_csv(\"data/yelp_academic_dataset_sample005_filter.csv\")\n",
    "df.head(1)"
   ]
  },
  {
   "cell_type": "code",
   "execution_count": 9,
   "metadata": {},
   "outputs": [
    {
     "data": {
      "text/plain": [
       "<AxesSubplot:xlabel='text_len', ylabel='size'>"
      ]
     },
     "execution_count": 9,
     "metadata": {},
     "output_type": "execute_result"
    },
    {
     "data": {
      "image/png": "[encoded data removed]",
      "text/plain": [
       "<Figure size 432x288 with 1 Axes>"
      ]
     },
     "metadata": {
      "needs_background": "light"
     },
     "output_type": "display_data"
    }
   ],
   "source": [
    "df[\"text_len\"] = df[\"review_text_after_cleaning\"].apply(len)\n",
    "text_length = df.groupby(\"text_len\", as_index=False).size()\n",
    "sns.lineplot(x=\"text_len\", y=\"size\", data=text_length)"
   ]
  },
  {
   "cell_type": "code",
   "execution_count": 13,
   "metadata": {
    "scrolled": true
   },
   "outputs": [
    {
     "data": {
      "text/plain": [
       "<AxesSubplot:xlabel='num_words', ylabel='size'>"
      ]
     },
     "execution_count": 13,
     "metadata": {},
     "output_type": "execute_result"
    },
    {
     "data": {
      "image/png": "[encoded data removed]",
      "text/plain": [
       "<Figure size 432x288 with 1 Axes>"
      ]
     },
     "metadata": {
      "needs_background": "light"
     },
     "output_type": "display_data"
    }
   ],
   "source": [
    "def num_word(data):\n",
    "    return len(data.split(\" \"))\n",
    "df[\"num_words\"] = df[\"review_text_after_cleaning\"].apply(num_word)\n",
    "num_words = df.groupby(\"num_words\", as_index=False).size()\n",
    "sns.lineplot(x=\"num_words\", y=\"size\", data=num_words)"
   ]
  },
  {
   "cell_type": "markdown",
   "metadata": {},
   "source": [
    "Right-Skewed"
   ]
  },
  {
   "cell_type": "code",
   "execution_count": 14,
   "metadata": {},
   "outputs": [
    {
     "data": {
      "text/plain": [
       "<AxesSubplot:xlabel='num_words', ylabel='size'>"
      ]
     },
     "execution_count": 14,
     "metadata": {},
     "output_type": "execute_result"
    },
    {
     "data": {
      "image/png": "[encoded data removed]",
      "text/plain": [
       "<Figure size 432x288 with 1 Axes>"
      ]
     },
     "metadata": {
      "needs_background": "light"
     },
     "output_type": "display_data"
    }
   ],
   "source": [
    "sns.lineplot(x=\"num_words\", y=\"size\", data=num_words[num_words[\"num_words\"] < 100])"
   ]
  },
  {
   "cell_type": "code",
   "execution_count": 5,
   "metadata": {},
   "outputs": [],
   "source": [
    "def num_word(data):\n",
    "    return len(data.split(\" \"))\n",
    "X = df[\"review_text_after_cleaning\"].apply(lambda x : x if num_word(x) < 110 else ' '.join(x.split(\" \")[:110]))\n",
    "y = df[\"review_stars\"].apply(lambda x : x-1)"
   ]
  },
  {
   "cell_type": "code",
   "execution_count": 6,
   "metadata": {},
   "outputs": [],
   "source": [
    "X_train, X_test, y_train, y_test = train_test_split(X, y, test_size=0.33, random_state=42)"
   ]
  },
  {
   "cell_type": "code",
   "execution_count": 7,
   "metadata": {},
   "outputs": [
    {
     "data": {
      "text/plain": [
       "['bert_config.json',\n",
       " 'bert_model.ckpt.data-00000-of-00001',\n",
       " 'bert_model.ckpt.index',\n",
       " 'vocab.txt']"
      ]
     },
     "execution_count": 7,
     "metadata": {},
     "output_type": "execute_result"
    }
   ],
   "source": [
    "bert_folder = \"data/bert_custom/\"\n",
    "tf.io.gfile.listdir(bert_folder)"
   ]
  },
  {
   "cell_type": "code",
   "execution_count": 6,
   "metadata": {},
   "outputs": [
    {
     "name": "stdout",
     "output_type": "stream",
     "text": [
      "Vocab size: 30522\n"
     ]
    }
   ],
   "source": [
    "# Set up tokenizer to generate Tensorflow dataset\n",
    "tokenizer = bert.tokenization.FullTokenizer(vocab_file=os.path.join(bert_folder, \"vocab.txt\"), do_lower_case=True)\n",
    "print(\"Vocab size:\", len(tokenizer.vocab))"
   ]
  },
  {
   "cell_type": "code",
   "execution_count": 8,
   "metadata": {},
   "outputs": [],
   "source": [
    "def tokenize_review(text):\n",
    "    return tokenizer.convert_tokens_to_ids(tokenizer.tokenize(text))\n",
    "tokenized_reviews = X_train.apply(tokenize_review)"
   ]
  },
  {
   "cell_type": "code",
   "execution_count": 9,
   "metadata": {},
   "outputs": [
    {
     "data": {
      "text/plain": [
       "[[6187,\n",
       "  2271,\n",
       "  2868,\n",
       "  9530,\n",
       "  15900,\n",
       "  2072,\n",
       "  7661,\n",
       "  3805,\n",
       "  25540,\n",
       "  8490,\n",
       "  9530,\n",
       "  14028,\n",
       "  2296,\n",
       "  2239,\n",
       "  4297,\n",
       "  7630,\n",
       "  2094,\n",
       "  2033,\n",
       "  2187,\n",
       "  2868],\n",
       " 5,\n",
       " 20]"
      ]
     },
     "execution_count": 9,
     "metadata": {},
     "output_type": "execute_result"
    }
   ],
   "source": [
    "reviews_with_len = [[review, y[i], len(review)] for i, review in enumerate(tokenized_reviews)]\n",
    "reviews_with_len[0]"
   ]
  },
  {
   "cell_type": "code",
   "execution_count": 10,
   "metadata": {},
   "outputs": [],
   "source": [
    "random.shuffle(reviews_with_len)\n",
    "reviews_with_len.sort(key=lambda x: x[2])"
   ]
  },
  {
   "cell_type": "code",
   "execution_count": 11,
   "metadata": {},
   "outputs": [
    {
     "data": {
      "text/plain": [
       "[([2182], 1),\n",
       " ([2293], 3),\n",
       " ([4497], 5),\n",
       " ([2204], 5),\n",
       " ([2307], 4),\n",
       " ([2485], 5),\n",
       " ([2237], 4),\n",
       " ([24970], 5),\n",
       " ([2067], 1),\n",
       " ([24970], 2),\n",
       " ([1058], 5),\n",
       " ([2732], 4),\n",
       " ([3435], 5),\n",
       " ([2485], 5),\n",
       " ([4900], 4),\n",
       " ([3435], 2),\n",
       " ([3095], 5),\n",
       " ([2205], 1),\n",
       " ([2514], 5),\n",
       " ([7929], 3),\n",
       " ([2168], 5),\n",
       " ([14123], 2),\n",
       " ([2769], 4),\n",
       " ([3199], 2),\n",
       " ([8288], 5),\n",
       " ([5404], 5),\n",
       " ([1047], 5),\n",
       " ([3819], 5),\n",
       " ([8257], 3),\n",
       " ([24970], 5),\n",
       " ([2560], 5),\n",
       " ([6187], 2),\n",
       " ([2173], 1),\n",
       " ([14262, 7903], 5),\n",
       " ([7563, 17728], 4),\n",
       " ([5932, 10497], 1),\n",
       " ([2502, 4664], 5),\n",
       " ([7610, 2330], 2),\n",
       " ([15536, 8873], 4),\n",
       " ([2191, 11132], 1),\n",
       " ([2106, 10036], 2),\n",
       " ([17935, 3775], 2),\n",
       " ([2485, 2204], 4),\n",
       " ([13173, 6559], 3),\n",
       " ([22448, 15916], 5),\n",
       " ([2739, 4149], 3),\n",
       " ([4190, 4183], 4),\n",
       " ([3976, 2092], 2),\n",
       " ([2564, 4060], 5),\n",
       " ([2522, 9236], 4),\n",
       " ([15180, 25426], 5),\n",
       " ([17268, 4664], 5),\n",
       " ([4550, 4355], 4),\n",
       " ([4550, 4067], 4),\n",
       " ([1037, 4239], 5),\n",
       " ([9805, 2213], 4),\n",
       " ([3976, 2833], 2),\n",
       " ([2175, 2237], 5),\n",
       " ([15180, 25426], 5),\n",
       " ([7987, 9307], 5),\n",
       " ([2190, 3028], 3),\n",
       " ([14262, 2615], 5),\n",
       " ([2717, 21159], 4),\n",
       " ([2732, 3524], 4),\n",
       " ([10514, 6182], 5),\n",
       " ([23566, 2360], 5),\n",
       " ([2204, 2833], 4),\n",
       " ([17678, 2891], 4),\n",
       " ([10250, 10050], 3),\n",
       " ([2307, 2051], 4),\n",
       " ([2300, 2091], 1),\n",
       " ([2404, 2327], 4),\n",
       " ([26568, 2546], 5),\n",
       " ([3565, 2204], 3),\n",
       " ([24970, 18064], 5),\n",
       " ([2767, 3669], 3),\n",
       " ([9765, 24970], 5),\n",
       " ([2272, 2067], 4),\n",
       " ([2919, 2488], 2),\n",
       " ([3565, 8038], 4),\n",
       " ([2388, 20572], 5),\n",
       " ([2307, 28305], 4),\n",
       " ([2307, 2092], 5),\n",
       " ([12183, 4761], 3),\n",
       " ([8529, 2053], 5),\n",
       " ([2769, 2190], 5),\n",
       " ([2767, 3669], 3),\n",
       " ([2589, 2157], 4),\n",
       " ([3507, 2833, 2072], 5),\n",
       " ([2052, 2224, 2153], 4),\n",
       " ([2173, 2145, 11891], 4),\n",
       " ([2152, 2380, 2181], 4),\n",
       " ([3835, 4550, 2047], 1),\n",
       " ([8740, 10760, 3372], 2),\n",
       " ([5082, 2193, 7309], 5),\n",
       " ([2253, 2147, 2204], 1),\n",
       " ([2066, 19747, 10733], 5),\n",
       " ([2307, 7954, 2190], 4),\n",
       " ([9805, 7382, 2072], 1),\n",
       " ([2379, 2208, 2393], 2),\n",
       " ([2190, 5409, 2412], 4),\n",
       " ([4687, 2833, 3095], 5),\n",
       " ([4248, 2112, 2344], 4),\n",
       " ([2435, 9413, 10755], 5),\n",
       " ([2307, 14262, 7903], 5),\n",
       " ([2492, 2777, 2288], 5),\n",
       " ([2175, 2067, 2574], 5),\n",
       " ([6887, 16515, 2213], 2),\n",
       " ([2307, 8840, 11266], 5),\n",
       " ([13433, 21823, 2078], 5),\n",
       " ([2190, 3066, 2190], 2),\n",
       " ([10166, 17268, 4761], 4),\n",
       " ([6616, 11891, 7743], 4),\n",
       " ([10140, 2067, 8288], 5),\n",
       " ([2732, 2131, 21229], 1),\n",
       " ([3095, 8241, 2305], 5),\n",
       " ([2191, 2307, 11642], 1),\n",
       " ([3198, 2172, 2008], 4),\n",
       " ([20228, 2226, 5073], 3),\n",
       " ([4239, 15942, 2078], 5),\n",
       " ([2175, 2131, 7639], 4),\n",
       " ([2438, 3745, 6240], 4),\n",
       " ([8984, 3972, 28775], 4),\n",
       " ([2131, 6073, 27090], 4),\n",
       " ([26568, 16558, 6265], 2),\n",
       " ([10514, 9468, 5313], 5),\n",
       " ([5470, 10230, 2102], 4),\n",
       " ([24970, 2717, 21159], 4),\n",
       " ([2204, 2265, 20432], 5),\n",
       " ([2632, 4576, 2732], 3),\n",
       " ([3095, 15180, 25426], 5),\n",
       " ([13173, 6559, 6752], 5),\n",
       " ([12731, 17417, 14862], 4),\n",
       " ([2293, 3358, 2540], 5),\n",
       " ([3524, 2175, 2067], 4),\n",
       " ([2293, 7722, 13268], 5),\n",
       " ([2190, 2833, 8828], 2),\n",
       " ([8739, 13012, 15174], 5),\n",
       " ([2190, 2234, 4596], 4),\n",
       " ([6534, 10424, 2072], 3),\n",
       " ([2298, 2830, 2833], 5),\n",
       " ([5684, 4183, 2092], 3),\n",
       " ([5101, 4101, 2485], 5),\n",
       " ([3095, 2709, 7661], 5),\n",
       " ([14380, 19673, 7975], 5),\n",
       " ([5404, 30207, 1665], 3),\n",
       " ([4067, 21459, 2173], 5),\n",
       " ([2190, 18651, 7975], 5),\n",
       " ([6565, 7276, 2833], 4),\n",
       " ([2307, 2522, 16020], 4),\n",
       " ([8241, 15180, 25426], 4),\n",
       " ([2435, 2204, 21209], 1),\n",
       " ([2393, 2354, 2149, 2051], 1),\n",
       " ([4487, 12693, 2278, 3309], 2),\n",
       " ([3653, 6916, 2204, 10733], 5),\n",
       " ([2852, 2307, 16030, 4845], 3),\n",
       " ([2293, 2471, 8840, 11266], 2),\n",
       " ([9518, 2288, 2980, 2300], 4),\n",
       " ([24582, 2072, 11937, 2173], 5),\n",
       " ([11972, 10147, 9779, 2361], 1),\n",
       " ([2307, 2092, 12087, 2173], 4),\n",
       " ([4550, 17738, 2615, 2126], 5),\n",
       " ([15653, 2140, 3972, 28775], 4),\n",
       " ([2204, 2051, 6240, 4840], 3),\n",
       " ([2190, 10077, 25022, 3775], 4),\n",
       " ([2265, 3280, 2057, 5339], 3),\n",
       " ([3393, 5073, 14262, 7903], 5),\n",
       " ([2204, 2052, 16755, 2767], 5),\n",
       " ([6865, 2147, 4569, 2173], 4),\n",
       " ([2204, 1043, 12541, 2080], 3),\n",
       " ([2349, 12726, 3095, 2266], 4),\n",
       " ([2833, 2190, 2833, 4761], 4),\n",
       " ([2821, 3398, 3786, 2009], 5),\n",
       " ([3435, 3514, 11132, 2469], 1),\n",
       " ([3972, 28775, 6517, 2485], 4),\n",
       " ([2732, 12731, 2480, 12656], 5),\n",
       " ([2019, 14573, 28305, 13012], 5),\n",
       " ([15212, 4385, 3972, 28775], 3),\n",
       " ([6090, 5498, 4687, 4497], 3),\n",
       " ([2204, 3256, 2522, 16020], 4),\n",
       " ([2214, 4827, 9805, 2213], 5),\n",
       " ([2036, 26202, 16033, 2361], 1),\n",
       " ([2307, 2173, 3602, 12183], 5),\n",
       " ([2330, 3347, 2204, 2051], 5),\n",
       " ([2217, 2237, 2172, 2488], 1),\n",
       " ([2204, 2204, 24570, 2205], 5),\n",
       " ([9805, 7382, 2072, 2066], 5),\n",
       " ([3509, 10844, 2307, 3976], 4),\n",
       " ([2767, 3669, 5684, 4183], 5),\n",
       " ([3095, 2130, 4711, 3524], 5),\n",
       " ([2293, 7438, 2157, 2173], 5),\n",
       " ([3246, 2330, 2521, 6167], 1),\n",
       " ([2190, 2833, 2919, 2593], 5),\n",
       " ([2173, 2566, 2386, 2485], 5),\n",
       " ([2039, 2850, 2102, 2485], 1),\n",
       " ([1037, 9491, 12183, 4761], 4),\n",
       " ([2908, 2091, 19466, 3435], 3),\n",
       " ([2360, 2438, 24480, 2192], 5),\n",
       " ([2644, 8254, 2278, 2330], 4),\n",
       " ([2488, 2173, 2214, 2237], 5),\n",
       " ([24970, 2833, 5023, 17070], 5),\n",
       " ([2293, 2572, 15599, 2278], 3),\n",
       " ([3835, 3962, 2272, 2767], 3),\n",
       " ([2204, 2172, 2488, 1052], 1),\n",
       " ([9436, 2594, 5313, 2204], 5),\n",
       " ([2056, 2171, 19021, 2072], 5),\n",
       " ([2066, 2193, 2131, 2126], 5),\n",
       " ([2204, 8066, 2192, 2852], 5),\n",
       " ([4664, 3760, 5987, 2204], 4),\n",
       " ([2052, 2196, 2412, 2175], 5),\n",
       " ([2000, 4904, 8991, 2099], 2),\n",
       " ([3398, 2307, 2465, 4067], 5),\n",
       " ([10131, 2566, 14891, 2651], 5),\n",
       " ([2307, 2173, 3942, 7954], 5),\n",
       " ([2307, 27218, 2891, 27921], 4),\n",
       " ([2204, 2152, 3669, 16755], 3),\n",
       " ([6861, 15174, 8067, 2480], 3),\n",
       " ([2773, 1055, 25083, 2906], 4),\n",
       " ([2190, 8840, 11266, 16030], 5),\n",
       " ([2632, 4576, 2175, 2173], 2),\n",
       " ([3393, 7668, 9765, 24970], 5),\n",
       " ([3653, 6916, 4365, 2204], 5),\n",
       " ([15180, 25426, 10818, 7276], 5),\n",
       " ([5959, 1054, 4048, 2173], 3),\n",
       " ([2165, 2307, 2729, 2149], 5),\n",
       " ([2344, 18178, 2229, 19116], 4),\n",
       " ([2052, 2152, 3669, 16755], 4),\n",
       " ([2228, 2151, 2705, 2066], 4),\n",
       " ([2057, 22499, 2213, 3696], 5),\n",
       " ([24970, 2717, 21159, 10026], 4),\n",
       " ([4687, 2293, 3393, 2818], 4),\n",
       " ([12486, 2204, 2293, 2173], 3),\n",
       " ([14418, 10199, 24593, 2088], 1),\n",
       " ([2204, 9522, 13844, 2092], 5),\n",
       " ([24970, 14262, 7903, 6397], 5),\n",
       " ([5939, 24330, 2204, 2833], 5),\n",
       " ([2208, 2485, 3786, 3976], 5),\n",
       " ([3972, 28775, 2067, 2709], 2),\n",
       " ([15180, 25426, 16755, 2009], 5),\n",
       " ([3976, 2175, 2067, 2153], 1),\n",
       " ([3178, 29278, 13012, 2131], 1),\n",
       " ([2190, 3066, 2237, 4171], 5),\n",
       " ([7146, 4010, 9805, 2213], 4),\n",
       " ([2172, 2488, 2197, 3942], 5),\n",
       " ([2632, 4576, 7438, 2092], 4),\n",
       " ([2204, 7276, 2253, 3524], 5),\n",
       " ([17748, 2665, 14068, 2600], 1),\n",
       " ([2345, 19723, 6072, 12069], 3),\n",
       " ([3256, 6949, 25933, 2480], 1),\n",
       " ([5660, 3819, 16755, 2173], 4),\n",
       " ([15180, 25426, 18074, 22542], 3),\n",
       " ([10557, 3013, 2202, 27263], 5),\n",
       " ([2224, 2833, 11132, 2272], 1),\n",
       " ([2293, 4748, 2953, 2173], 4),\n",
       " ([3435, 2767, 3669, 2709], 4),\n",
       " ([2247, 2395, 14980, 7140], 3),\n",
       " ([13012, 2417, 15180, 25426], 5),\n",
       " ([2173, 3618, 14262, 2615], 5),\n",
       " ([9518, 2131, 2307, 14171], 4),\n",
       " ([27427, 12848, 3593, 16284], 2),\n",
       " ([2307, 5292, 9397, 2072], 4),\n",
       " ([12486, 11642, 3442, 2190], 3),\n",
       " ([2204, 8066, 4067, 2067], 4),\n",
       " ([5959, 13675, 5243, 29068], 3),\n",
       " ([3095, 2190, 8513, 4665], 5),\n",
       " ([2717, 21159, 14980, 7140], 5),\n",
       " ([2173, 3100, 9544, 5443], 4),\n",
       " ([5507, 19646, 5156, 5247], 4),\n",
       " ([25933, 2480, 2204, 2833], 5),\n",
       " ([2128, 7849, 28940, 2365], 3),\n",
       " ([2342, 1056, 15472, 2295], 5),\n",
       " ([2173, 2190, 2191, 16823], 5),\n",
       " ([8285, 2213, 5955, 2203], 4),\n",
       " ([2066, 8840, 11266, 11891], 1),\n",
       " ([2175, 4497, 2293, 2009], 4),\n",
       " ([5116, 3260, 2717, 21159], 4),\n",
       " ([2293, 15174, 2152, 3669, 16755], 1),\n",
       " ([2092, 2131, 5305, 3280, 4175], 5),\n",
       " ([2051, 2204, 2175, 2173, 2833], 5),\n",
       " ([2452, 5572, 5448, 2228, 2488], 2),\n",
       " ([3835, 2833, 2204, 3976, 2204], 5),\n",
       " ([2464, 7731, 2265, 5684, 4183], 2),\n",
       " ([2190, 15653, 2140, 2843, 20130], 5),\n",
       " ([2190, 10514, 6182, 20877, 2483], 3),\n",
       " ([5514, 6082, 4638, 2378, 16823], 5),\n",
       " ([3435, 7481, 9518, 2177, 8081], 4),\n",
       " ([4062, 2051, 4536, 3199, 2307], 1),\n",
       " ([2139, 14808, 5245, 4031, 2017], 1),\n",
       " ([5404, 2166, 2064, 2025, 2488], 1),\n",
       " ([2204, 10017, 2833, 24799, 2204], 4),\n",
       " ([19395, 4013, 3676, 16558, 2190], 5),\n",
       " ([5684, 4183, 26509, 24970, 24570], 4),\n",
       " ([10017, 2173, 2204, 21500, 10610], 3),\n",
       " ([2853, 2307, 2152, 3669, 16755], 5),\n",
       " ([8241, 2424, 7570, 2271, 2067], 5),\n",
       " ([2609, 20228, 2226, 1055, 25083], 3),\n",
       " ([2051, 6265, 2307, 2833, 5407], 5),\n",
       " ([2204, 2173, 4392, 3524, 24240], 5),\n",
       " ([2165, 3899, 2051, 2307, 3105], 5),\n",
       " ([2393, 3042, 2767, 2293, 6546], 4),\n",
       " ([21934, 24759, 8254, 2172, 2050], 4),\n",
       " ([4189, 3976, 2767, 3669, 3095], 5),\n",
       " ([2190, 2717, 21159, 4339, 10172], 1),\n",
       " ([2066, 2461, 9065, 2204, 21475], 5),\n",
       " ([2190, 2717, 3126, 2995, 2806], 2),\n",
       " ([10514, 6182, 2562, 2131, 2488], 1),\n",
       " ([2061, 18752, 3308, 3319, 3025], 1),\n",
       " ([11519, 6265, 23621, 16521, 2930], 5),\n",
       " ([2131, 2438, 2173, 2293, 2051], 4),\n",
       " ([4067, 24970, 7661, 14262, 7903], 4),\n",
       " ([15161, 8046, 27218, 2891, 27921], 5),\n",
       " ([2175, 2085, 5002, 3942, 2146], 4),\n",
       " ([2307, 4654, 4842, 2072, 2852], 2),\n",
       " ([2293, 4521, 16755, 7232, 24570], 4),\n",
       " ([2202, 9220, 9090, 26509, 2204], 5),\n",
       " ([2173, 1037, 7987, 4609, 2818], 4),\n",
       " ([2833, 13012, 2030, 5654, 20593], 5),\n",
       " ([4248, 2126, 23801, 11971, 2126], 5),\n",
       " ([4067, 9530, 7629, 2226, 5776], 5),\n",
       " ([10424, 2072, 2307, 6073, 7929], 4),\n",
       " ([2327, 2035, 2035, 6633, 8665], 4),\n",
       " ([3835, 3095, 2152, 3669, 16755], 5),\n",
       " ([2190, 10733, 3358, 2225, 6278], 3),\n",
       " ([18651, 18178, 2229, 25933, 2480], 5),\n",
       " ([2131, 10036, 4355, 4435, 4933], 5),\n",
       " ([2204, 5189, 2316, 2113, 3043], 5),\n",
       " ([2217, 9841, 3272, 10424, 2072], 4),\n",
       " ([2833, 4840, 7852, 2234, 17428], 2),\n",
       " ([4658, 4145, 2047, 2287, 2833], 4),\n",
       " ([21934, 24759, 5371, 21628, 2140], 5),\n",
       " ([2543, 10733, 24970, 4664, 2502], 1),\n",
       " ([2190, 11687, 2175, 2131, 2009], 5),\n",
       " ([2344, 13558, 2197, 2051, 2344], 5),\n",
       " ([3962, 2006, 2105, 2307, 2051], 3),\n",
       " ([18968, 2081, 3959, 2272, 2995], 4),\n",
       " ([2307, 2173, 3671, 6350, 15942], 5),\n",
       " ([3435, 2911, 8875, 2298, 2307], 2),\n",
       " ([8288, 24759, 4630, 15180, 25426], 4),\n",
       " ([4897, 13433, 3600, 8223, 2368], 2),\n",
       " ([2564, 2307, 3105, 3114, 3465], 3),\n",
       " ([17704, 20857, 8038, 2213, 2190], 5),\n",
       " ([3095, 2785, 2457, 8780, 2226], 3),\n",
       " ([2307, 14262, 7903, 2307, 3105], 3),\n",
       " ([2293, 2000, 16917, 2050, 16521], 1),\n",
       " ([16510, 2204, 2288, 2204, 6350], 4),\n",
       " ([14262, 7903, 17727, 8586, 2278], 1),\n",
       " ([2081, 2514, 7216, 3095, 2307], 3),\n",
       " ([2067, 2307, 4654, 4842, 2072], 1),\n",
       " ([2204, 4392, 3984, 3775, 2213], 3),\n",
       " ([2489, 17727, 12298, 2307, 3066], 5),\n",
       " ([2307, 2173, 15890, 4248, 6265], 5),\n",
       " ([19349, 4664, 10364, 3393, 5431], 5),\n",
       " ([2124, 2047, 6095, 2655, 16823], 5),\n",
       " ([2507, 2732, 3937, 2147, 2627], 3),\n",
       " ([2409, 15805, 2344, 3477, 2062], 5),\n",
       " ([2387, 9587, 2271, 2448, 3829], 4),\n",
       " ([12666, 2063, 9680, 6442, 3857], 5),\n",
       " ([6752, 2202, 2344, 2717, 21159], 5),\n",
       " ([2190, 14262, 7903, 2718, 3335], 4),\n",
       " ([2190, 2173, 4952, 2334, 2189], 4),\n",
       " ([14262, 7903, 17727, 8586, 2278], 3),\n",
       " ([2173, 4067, 6592, 2173, 2767], 4),\n",
       " ([3711, 2173, 2330, 6265, 2085], 3),\n",
       " ([3095, 8331, 14262, 7903, 10026], 2),\n",
       " ([24970, 2415, 17603, 4017, 3836], 5),\n",
       " ([2579, 5247, 2051, 2240, 4497], 5),\n",
       " ([2556, 9841, 8235, 4569, 2130], 1),\n",
       " ([5356, 3771, 2036, 2204, 2298], 5),\n",
       " ([7046, 25933, 2480, 4392, 2190], 4),\n",
       " ([3972, 28775, 2833, 2442, 13012], 5),\n",
       " ([2234, 8081, 3042, 2188, 6209], 3),\n",
       " ([2066, 7541, 2131, 2919, 2204], 1),\n",
       " ([2488, 2085, 5886, 2379, 2204], 4),\n",
       " ([2980, 7169, 2835, 3298, 2083], 5),\n",
       " ([2379, 4761, 13012, 2612, 2593], 3),\n",
       " ([2442, 2036, 16755, 11867, 28775], 3),\n",
       " ([2293, 2482, 2265, 2404, 2006], 5),\n",
       " ([5684, 4183, 2173, 6014, 2980], 3),\n",
       " ([2033, 2307, 7661, 14262, 7903], 2),\n",
       " ([2173, 8246, 3972, 12848, 2627], 5),\n",
       " ([22512, 2425, 2833, 8676, 2307], 5),\n",
       " ([2051, 4487, 3736, 9397, 25785], 3),\n",
       " ([2833, 3291, 28249, 6900, 2072], 4),\n",
       " ([3335, 18414, 2594, 2718, 3962], 5),\n",
       " ([4840, 6546, 4189, 3669, 3976], 1),\n",
       " ([2307, 7276, 8416, 2092, 5812], 3),\n",
       " ([2172, 2488, 3124, 2488, 2488], 3),\n",
       " ([2397, 2919, 24608, 2105, 2051], 5),\n",
       " ([4895, 21877, 2226, 24188, 14736], 1),\n",
       " ([2293, 2014, 4067, 14262, 7903], 4),\n",
       " ([2522, 16020, 2190, 2293, 7668], 2),\n",
       " ([2204, 7276, 3095, 15180, 25426], 5),\n",
       " ([4067, 2393, 7570, 13102, 4183], 3),\n",
       " ([2773, 7975, 27263, 11266, 2050], 5),\n",
       " ([2066, 6260, 2080, 2806, 7954], 4),\n",
       " ([3280, 3246, 2175, 2502, 3712], 5),\n",
       " ([2190, 2717, 21159, 2018, 24970], 1),\n",
       " ([5684, 4183, 4511, 2235, 5127], 5),\n",
       " ([4239, 1037, 8872, 17301, 2595], 5),\n",
       " ([8676, 2833, 18565, 11350, 2204], 4),\n",
       " ([2632, 4576, 2330, 2833, 2307], 3),\n",
       " ([3499, 14262, 2615, 6544, 2375], 4),\n",
       " ([3819, 3669, 4748, 2157, 5926], 5),\n",
       " ([2655, 2765, 24970, 15512, 2482], 5),\n",
       " ([25933, 2480, 11345, 3335, 3942], 4),\n",
       " ([2204, 2173, 13774, 21877, 4305], 3),\n",
       " ([1037, 2188, 2175, 14865, 3501], 4),\n",
       " ([2253, 2307, 17935, 3775, 3962], 2),\n",
       " ([2190, 22489, 4840, 2843, 2327], 4),\n",
       " ([2204, 4761, 7541, 4942, 2131], 5),\n",
       " ([5404, 3422, 2338, 10665, 2173], 1),\n",
       " ([14262, 7903, 3298, 27046, 3976], 4),\n",
       " ([3972, 28775, 4438, 5610, 6240], 3),\n",
       " ([2293, 2173, 2293, 2307, 2079], 4),\n",
       " ([2190, 10733, 6708, 17752, 2056], 5),\n",
       " ([21100, 3593, 2181, 3819, 4845], 5),\n",
       " ([2272, 2067, 2132, 2067, 2188], 4),\n",
       " ([2204, 2293, 2204, 14262, 7903], 1),\n",
       " ([6900, 2072, 3543, 2151, 2705], 2),\n",
       " ([2131, 1996, 2147, 2296, 2705], 5),\n",
       " ([2919, 2146, 4062, 6592, 2202], 5),\n",
       " ([2051, 4569, 2342, 3819, 2067], 4),\n",
       " ([2190, 2130, 2485, 25933, 2480], 5),\n",
       " ([2152, 3669, 16755, 2717, 21159], 5),\n",
       " ([4078, 23270, 2139, 16307, 4592], 5),\n",
       " ([2293, 16480, 25778, 3104, 26011], 5),\n",
       " ([2773, 1042, 1047, 10216, 2293], 5),\n",
       " ([4276, 2175, 3246, 2025, 5670], 4),\n",
       " ([3972, 28775, 2342, 2360, 2062], 2),\n",
       " ([2092, 4518, 12666, 2063, 2393], 5),\n",
       " ([3037, 21877, 7361, 2140, 3422], 5),\n",
       " ([2190, 2606, 2358, 8516, 2923], 5),\n",
       " ([3835, 25545, 20432, 2438, 2056], 5),\n",
       " ([2190, 15890, 10424, 2072, 5968], 2),\n",
       " ([15180, 25426, 2665, 2272, 2067], 1),\n",
       " ([16755, 2066, 4840, 18414, 2594], 5),\n",
       " ([3786, 18178, 2229, 10733, 2569], 3),\n",
       " ([5959, 6350, 2052, 16755, 13012], 2),\n",
       " ([3835, 8840, 11266, 3835, 19459], 3),\n",
       " ([2190, 2190, 4067, 3124, 2600], 5),\n",
       " ([2342, 2113, 2173, 4521, 3891], 5),\n",
       " ([2025, 2232, 2460, 25933, 2480], 3),\n",
       " ([10424, 8591, 2307, 2606, 12690], 1),\n",
       " ([13366, 5498, 2102, 2272, 2067], 4),\n",
       " ([3105, 7438, 2066, 5749, 7559], 4),\n",
       " ([28359, 3309, 7110, 2102, 2028], 1),\n",
       " ([2298, 2152, 3669, 16755, 2068], 5),\n",
       " ([2190, 5404, 7276, 18720, 2232], 4),\n",
       " ([2307, 8840, 11266, 2293, 2272], 4),\n",
       " ([2190, 2272, 2204, 3105, 3124], 5),\n",
       " ([2193, 2095, 3283, 2204, 3105], 5),\n",
       " ([4121, 11851, 20548, 12226, 2489], 5),\n",
       " ([2113, 3573, 3976, 3465, 3769], 4),\n",
       " ([13366, 5498, 2102, 2442, 2175], 4),\n",
       " ([11234, 17710, 10649, 6279, 4485], 5),\n",
       " ([2868, 7098, 3669, 4067, 2852], 5),\n",
       " ([2066, 2190, 2978, 8501, 3962], 4),\n",
       " ([3653, 6916, 11080, 2072, 12043], 3),\n",
       " ([2344, 4605, 2130, 2440, 8257], 5),\n",
       " ([2190, 10047, 23041, 8662, 2237], 4),\n",
       " ([7842, 6767, 5397, 5602, 3802], 5),\n",
       " ([3460, 16755, 2151, 2239, 2113], 5),\n",
       " ([2081, 2514, 2113, 23115, 4058], 4),\n",
       " ([3422, 4060, 4013, 8566, 2278], 5),\n",
       " ([2502, 4920, 2813, 2204, 2833], 5),\n",
       " ([8945, 7068, 11392, 2072, 24970], 5),\n",
       " ([10047, 2148, 2036, 2613, 3066], 5),\n",
       " ([2288, 3573, 2485, 2360, 2485], 1),\n",
       " ([3335, 10861, 3736, 4305, 4571], 4),\n",
       " ([4070, 2182, 2196, 2224, 2068], 4),\n",
       " ([2187, 3609, 3653, 6916, 17026], 5),\n",
       " ([4895, 11084, 2128, 21163, 2078], 5),\n",
       " ([2228, 7570, 2271, 2735, 3347], 5),\n",
       " ([2833, 7929, 2307, 2126, 2488], 4),\n",
       " ([2632, 4576, 2393, 2293, 2173], 5),\n",
       " ([29461, 14753, 14262, 7903, 9491], 4),\n",
       " ([5474, 2072, 10930, 27390, 2102], 5),\n",
       " ([12075, 10497, 16755, 2272, 2182], 4),\n",
       " ([2474, 4012, 8524, 3565, 3565], 4),\n",
       " ([17111, 2080, 3280, 2005, 2293], 2),\n",
       " ([5507, 19646, 3976, 2100, 5987], 5),\n",
       " ([2843, 2488, 5987, 2173, 2066], 2),\n",
       " ([2344, 4942, 2632, 4576, 2204], 5),\n",
       " ([2204, 3976, 2717, 21159, 3028], 1),\n",
       " ([4840, 5404, 2307, 2066, 2009], 3),\n",
       " ([2188, 5660, 14262, 7903, 12656], 3),\n",
       " ([2276, 2377, 2189, 2066, 2276], 5),\n",
       " ([4067, 2307, 3460, 2191, 3255], 1),\n",
       " ([2293, 15610, 3524, 2272, 2067], 1),\n",
       " ([24799, 24511, 27605, 2293, 2173], 5),\n",
       " ([2632, 4576, 2190, 2293, 2173], 4),\n",
       " ([5404, 2215, 2833, 2295, 7929], 5),\n",
       " ([15708, 2173, 3942, 2307, 5592], 5),\n",
       " ([2190, 2173, 2379, 7276, 2092], 2),\n",
       " ([2307, 9450, 4687, 2465, 8984, 3976], 3),\n",
       " ([2307, 3976, 2307, 7661, 14262, 7903], 1),\n",
       " ([3902, 2072, 2128, 2140, 4248, 3669], 4),\n",
       " ([15624, 2705, 23126, 24072, 2204, 8343], 1),\n",
       " ([9231, 10264, 5470, 3335, 16215, 2072], 5),\n",
       " ([2228, 2190, 4632, 11589, 2717, 21159], 4),\n",
       " ([14262, 7903, 2272, 5292, 9397, 2072], 3),\n",
       " ([4297, 5596, 7975, 11642, 2175, 2009], 4),\n",
       " ([18612, 12183, 18901, 2253, 3807, 2994], 1),\n",
       " ([16360, 2721, 2278, 23801, 2072, 3178], 4),\n",
       " ([13012, 11937, 3367, 18178, 7712, 3147], 5),\n",
       " ([3626, 3272, 8242, 2081, 11642, 2293], 5),\n",
       " ([2412, 2031, 10047, 3959, 2157, 2085], 5),\n",
       " ([2081, 2514, 2569, 8241, 2130, 2488], 4),\n",
       " ([2085, 3129, 3522, 2693, 2190, 2105], 2),\n",
       " ([27940, 6887, 2080, 4276, 3477, 2612], 4),\n",
       " ([3608, 11350, 7216, 2833, 5684, 4183], 4),\n",
       " ([4368, 3166, 2485, 2632, 16416, 4305], 5),\n",
       " ([2307, 3105, 2173, 5685, 2067, 2411], 5),\n",
       " ([8241, 2327, 2165, 2307, 2729, 2149], 5),\n",
       " ([3524, 12530, 2154, 2051, 3328, 1999], 5),\n",
       " ([8909, 2360, 10973, 2052, 2126, 2785], 2),\n",
       " ([4130, 3388, 2330, 2123, 4904, 20342], 5),\n",
       " ([2330, 4920, 2632, 4576, 2204, 2051], 5),\n",
       " ([4067, 11132, 3514, 2625, 2067, 2153], 5),\n",
       " ([10036, 2307, 2980, 7842, 14194, 2205], 5),\n",
       " ([2307, 14262, 7903, 3835, 14891, 2393], 2),\n",
       " ([15708, 2173, 4658, 3095, 13012, 2153], 4),\n",
       " ([2045, 25933, 2480, 2204, 2051, 2767], 1),\n",
       " ([3809, 2644, 2157, 2131, 14704, 13012], 4),\n",
       " ([2190, 2412, 2072, 2051, 3543, 2655], 5),\n",
       " ([2051, 27006, 2080, 2360, 2293, 2173], 5),\n",
       " ([20857, 6090, 5654, 8676, 2300, 2067], 1),\n",
       " ([2307, 2092, 2152, 3669, 16755, 2067], 4),\n",
       " ([4569, 3490, 2317, 5610, 2234, 4451], 4),\n",
       " ([2344, 8676, 2204, 2196, 2919, 7954], 4),\n",
       " ([2253, 2485, 2091, 2028, 2113, 4148], 5),\n",
       " ([4658, 2173, 2424, 2396, 6865, 2767], 1),\n",
       " ([3976, 8369, 16755, 2175, 3347, 2569], 5),\n",
       " ([2613, 3669, 2204, 7975, 14910, 2050], 4),\n",
       " ([2204, 2833, 2502, 4664, 3114, 3976], 2),\n",
       " ([2215, 2490, 4965, 2068, 2994, 2185], 4),\n",
       " ([15180, 25426, 2307, 7661, 14262, 7903], 5),\n",
       " ([3835, 27218, 2891, 27921, 4067, 8241], 3),\n",
       " ([4654, 4842, 2072, 24970, 14262, 7903], 3),\n",
       " ([2047, 4182, 21296, 4962, 2099, 4569], 4),\n",
       " ([13268, 10166, 25933, 2480, 2187, 2514], 5),\n",
       " ([8241, 2440, 2072, 2113, 12183, 2569], 3),\n",
       " ([13366, 5498, 2102, 16755, 2490, 2334], 5),\n",
       " ([2154, 2190, 2088, 4012, 22327, 4183], 4),\n",
       " ([2173, 2485, 16360, 2721, 2278, 3954], 3),\n",
       " ([2171, 11132, 21442, 8661, 10521, 2391], 4),\n",
       " ([11611, 18178, 2229, 7975, 6014, 3011], 5),\n",
       " ([6350, 2203, 6265, 4088, 2051, 14017], 3),\n",
       " ([5225, 2126, 2938, 2165, 2360, 13362], 5),\n",
       " ([2344, 2296, 2705, 21100, 5794, 2094], 5),\n",
       " ([2457, 10448, 3802, 2572, 15599, 2278], 5),\n",
       " ([2204, 2833, 2204, 18151, 2278, 2272], 1),\n",
       " ([3972, 4509, 2058, 18098, 15890, 4101], 3),\n",
       " ([2288, 23126, 24072, 2908, 26352, 5017], 4),\n",
       " ([2435, 6513, 4308, 3291, 5723, 2305], 5),\n",
       " ([5684, 4183, 2173, 2393, 2561, 12074], 3),\n",
       " ([11033, 2191, 4138, 2360, 2172, 3309], 3),\n",
       " ([21100, 5794, 2094, 3524, 2051, 2146], 5),\n",
       " ([2066, 3256, 6949, 8658, 3126, 4687], 1),\n",
       " ([2330, 2341, 2187, 2203, 2052, 2330], 1),\n",
       " ([10439, 3388, 25933, 2480, 2307, 3105], 3),\n",
       " ([10271, 10695, 3565, 16137, 7911, 14753], 1),\n",
       " ([2089, 3524, 2131, 21628, 2140, 2759], 5),\n",
       " ([2684, 2052, 16755, 2173, 2151, 2239], 1),\n",
       " ([15624, 15624, 2502, 17207, 2480, 3199], 4),\n",
       " ([2307, 2052, 13366, 5498, 2102, 2709], 5),\n",
       " ([2474, 10623, 7276, 5572, 2181, 3006], 3),\n",
       " ([2173, 2204, 2293, 2833, 6369, 4360], 5),\n",
       " ([5470, 10230, 2102, 6265, 2307, 3976], 5),\n",
       " ([10223, 3070, 2485, 16688, 2579, 2173], 5),\n",
       " ([2190, 3942, 2296, 3775, 2213, 2237], 1),\n",
       " ([10424, 2072, 2092, 2589, 15180, 25426], 3),\n",
       " ([2272, 2411, 2377, 14957, 2307, 2173], 4),\n",
       " ([2293, 2173, 2668, 2072, 9388, 3089], 5),\n",
       " ([3902, 2072, 2843, 7169, 7254, 2835], 5),\n",
       " ([3095, 2293, 2009, 4067, 15125, 14083], 1),\n",
       " ([4962, 2099, 9544, 3653, 6916, 2204], 1),\n",
       " ([2482, 2047, 2944, 3631, 3204, 2085], 5),\n",
       " ([2488, 10514, 6182, 4550, 4840, 8676], 2),\n",
       " ([2980, 2611, 2204, 2265, 3976, 2157], 4),\n",
       " ([2293, 2009, 24385, 2307, 12324, 7481], 5),\n",
       " ([2450, 2393, 3114, 2165, 2146, 3160], 4),\n",
       " ([3835, 10036, 2173, 26509, 15180, 25426], 5),\n",
       " ([4121, 12183, 2613, 3669, 3835, 3095], 5),\n",
       " ([2165, 2767, 3669, 2307, 4536, 3199], 5),\n",
       " ([3413, 2489, 14732, 24665, 10450, 2327], 5),\n",
       " ([2187, 2978, 4078, 4313, 2709, 2469], 5),\n",
       " ([8223, 2368, 2173, 2986, 3114, 3976], 5),\n",
       " ([10825, 2149, 18081, 4190, 20130, 2600], 5),\n",
       " ([2190, 9726, 2052, 2066, 7949, 3819], 4),\n",
       " ([4942, 2052, 16755, 2173, 2151, 2239], 4),\n",
       " ([2204, 2066, 3835, 2474, 5831, 2314], 5),\n",
       " ([4937, 11018, 3524, 7743, 7166, 2149], 1),\n",
       " ([3565, 4569, 2152, 3669, 16755, 2287], 5),\n",
       " ([2307, 7954, 3976, 6240, 8616, 2036], 5),\n",
       " ([12726, 13305, 2012, 3775, 8525, 2094], 3),\n",
       " ([3565, 2204, 2833, 4012, 19362, 3940], 3),\n",
       " ([4392, 3347, 2767, 3669, 12075, 10497], 4),\n",
       " ([10036, 2204, 6904, 3726, 2717, 21159], 4),\n",
       " ([2307, 2569, 13877, 15180, 25426, 2028], 5),\n",
       " ([27984, 2833, 4276, 5247, 2051, 3319], 2),\n",
       " ([2632, 4576, 2391, 14262, 7903, 2307], 4),\n",
       " ([5684, 4183, 2173, 4497, 2307, 3573], 5),\n",
       " ([2326, 2099, 2204, 2051, 3522, 2304], 5),\n",
       " ([2204, 4933, 4550, 2173, 2833, 8676], 3),\n",
       " ([2307, 3105, 5292, 9397, 2072, 4067], 1),\n",
       " ([3902, 2072, 12533, 4012, 26569, 8145], 5),\n",
       " ([2052, 4013, 3676, 16558, 14894, 4248], 5),\n",
       " ([4121, 2064, 2025, 2131, 5305, 2009], 1),\n",
       " ([25933, 2480, 2190, 2179, 6300, 14277], 4),\n",
       " ([2234, 2954, 8232, 4550, 2092, 5812], 5),\n",
       " ([8241, 2081, 4654, 4842, 2072, 3835], 4),\n",
       " ([8040, 9072, 5313, 4550, 3198, 3335], 3),\n",
       " ([2204, 10733, 7842, 10383, 2290, 18565], 4),\n",
       " ([2215, 2175, 2252, 2066, 5225, 2613], 4),\n",
       " ([13433, 2879, 2204, 20949, 3614, 2307], 5),\n",
       " ([4013, 3676, 16558, 2190, 2833, 6278], 5),\n",
       " ([2334, 17260, 18416, 2767, 3669, 3626], 5),\n",
       " ([2173, 27136, 13058, 5313, 2304, 2373], 4),\n",
       " ([10733, 4121, 2784, 9841, 7349, 2154], 1),\n",
       " ([2307, 2173, 8676, 24209, 11475, 3775], 5),\n",
       " ([2344, 2980, 9841, 2234, 17688, 2504], 5),\n",
       " ([2632, 4576, 2307, 2051, 2204, 2833], 1),\n",
       " ([2307, 2147, 2007, 9518, 4067, 3124], 4),\n",
       " ([2005, 2196, 4487, 3736, 9397, 25785], 5),\n",
       " ([3899, 2293, 6904, 6895, 2140, 3095], 5),\n",
       " ([2253, 3611, 10825, 2173, 3335, 9627], 5),\n",
       " ([2173, 2204, 2344, 3805, 2843, 2051], 2),\n",
       " ([2307, 2189, 3114, 3104, 2844, 4392], 5),\n",
       " ([2954, 2218, 2182, 5024, 4368, 3346], 4),\n",
       " ([2307, 2173, 2448, 3113, 2767, 2175], 3),\n",
       " ([2833, 2204, 2711, 4982, 2833, 7929], 5),\n",
       " ([2228, 2485, 2566, 2740, 3647, 3775], 1),\n",
       " ([14380, 4215, 2175, 2063, 3819, 3684], 5),\n",
       " ([5580, 2067, 5959, 2489, 9090, 26509], 1),\n",
       " ([3942, 13075, 3695, 2226, 8840, 11266], 4),\n",
       " ([3105, 2204, 3976, 2205, 2655, 3291], 1),\n",
       " ([4067, 6816, 2067, 2574, 2190, 2237], 5),\n",
       " ([2047, 3954, 2001, 2102, 24471, 2769], 4),\n",
       " ([2485, 2128, 26915, 2145, 2128, 26915], 5),\n",
       " ([2767, 3669, 2052, 2152, 3669, 16755], 3),\n",
       " ([2365, 3328, 2435, 2307, 2606, 12690], 1),\n",
       " ([13366, 5498, 2102, 2442, 2175, 2173], 5),\n",
       " ([2307, 10825, 2188, 12731, 14117, 2094], 5),\n",
       " ([3904, 4654, 4842, 2072, 2190, 2412], 2),\n",
       " ([3835, 5154, 24951, 2290, 2136, 21688], 1),\n",
       " ([2177, 2632, 4576, 2579, 2729, 2342], 1),\n",
       " ([2307, 10733, 3972, 12848, 13012, 3066], 4),\n",
       " ([2175, 2067, 2342, 2147, 2589, 16755], 4),\n",
       " ([2058, 18098, 3446, 14262, 7903, 4030], 5),\n",
       " ([24970, 23624, 10841, 2099, 3114, 3976], 5),\n",
       " ([2182, 13012, 23566, 2544, 2272, 2411], 5),\n",
       " ([2190, 2833, 24970, 7276, 5684, 4183], 5),\n",
       " ([2613, 3669, 2048, 23348, 26760, 2884], 5),\n",
       " ([3677, 3835, 2833, 2307, 2067, 2574], 3),\n",
       " ([27218, 2891, 27921, 3835, 24570, 24970], 5),\n",
       " ([11891, 2833, 17235, 3775, 2175, 2067], 5),\n",
       " ([12383, 16374, 12203, 2615, 21934, 24759], 4),\n",
       " ([4942, 15180, 25426, 2152, 3669, 16755], 5),\n",
       " ([2452, 5127, 2205, 2173, 5684, 4183], 5),\n",
       " ([1057, 2439, 7661, 2330, 2664, 2330], 5),\n",
       " ([2165, 12183, 2187, 2253, 2190, 2293], 5),\n",
       " ([4687, 2173, 4687, 3836, 3835, 9823], 5),\n",
       " ([2821, 2026, 2131, 2488, 2507, 2732], 5),\n",
       " ([4658, 3962, 5403, 9331, 2204, 2833], 4),\n",
       " ([4276, 3942, 6073, 2131, 4330, 2072], 4),\n",
       " ([2963, 2131, 2659, 13642, 29181, 16959], 1),\n",
       " ([3095, 4067, 2202, 2729, 10818, 2342], 1),\n",
       " ([2190, 2806, 8616, 16755, 7842, 14194], 4),\n",
       " ([18074, 22542, 13366, 5498, 2102, 2067], 4),\n",
       " ([21209, 2105, 13366, 5498, 2102, 2442], 5),\n",
       " ([2217, 10424, 2072, 4060, 2140, 6014], 3),\n",
       " ([2152, 3669, 16755, 2644, 2011, 2067], 3),\n",
       " ([5371, 2102, 2066, 2128, 4168, 14905], 4),\n",
       " ([6429, 3669, 2204, 12666, 2063, 3835], 3),\n",
       " ([4687, 2417, 14068, 5785, 2204, 2058], 5),\n",
       " ([2342, 9377, 4687, 7615, 2517, 5310], 3),\n",
       " ([25933, 2480, 4921, 2063, 2272, 2197], 4),\n",
       " ([2632, 4576, 24608, 9518, 2147, 2007], 1),\n",
       " ([2293, 2173, 9483, 2307, 4031, 13268], 3),\n",
       " ([7929, 2334, 3696, 2175, 2067, 2295], 1),\n",
       " ([2307, 7099, 2099, 3819, 2202, 2147], 4),\n",
       " ([2919, 2919, 2769, 5533, 3954, 2801], 5),\n",
       " ([2613, 3669, 2307, 2293, 2272, 2067], 4),\n",
       " ([3298, 6708, 2156, 2342, 2360, 2062], 1),\n",
       " ([3565, 2860, 13366, 5498, 2102, 2709], 5),\n",
       " ([2307, 2707, 5353, 4067, 2474, 15942], 5),\n",
       " ([8875, 2632, 4576, 3942, 2173, 2181], 4),\n",
       " ([3524, 1055, 24703, 10814, 2668, 4009], 1),\n",
       " ([2307, 4306, 7254, 2835, 10017, 2833], 1),\n",
       " ([13012, 2204, 2379, 2833, 2457, 4258], 4),\n",
       " ([14262, 7903, 2204, 2833, 3113, 3347], 1),\n",
       " ([16755, 2334, 4487, 3736, 9397, 25785], 1),\n",
       " ([5593, 2307, 2717, 21159, 2921, 4550], 5),\n",
       " ([8235, 4664, 2307, 2833, 2204, 3976], 5),\n",
       " ([2202, 2444, 5116, 2345, 2191, 2182], 3),\n",
       " ([2204, 3976, 29602, 2469, 2175, 2067], 2),\n",
       " ([2173, 2485, 2253, 2224, 2341, 3844], 5),\n",
       " ([13012, 2717, 21159, 2051, 2627, 16755], 4),\n",
       " ([2215, 2606, 3573, 4550, 3524, 2067], 1),\n",
       " ([2735, 18015, 2072, 26735, 3006, 18201], 5),\n",
       " ([2190, 2173, 2767, 3669, 24570, 2190], 3),\n",
       " ([11333, 2145, 11519, 2173, 6865, 2041], 1),\n",
       " ([2293, 2173, 2190, 6240, 3013, 16755], 5),\n",
       " ([15180, 25426, 2833, 14262, 7903, 16755], 4),\n",
       " ([2693, 9781, 27035, 2190, 2412, 2018], 5),\n",
       " ([2215, 8579, 7087, 16385, 2204, 2175], 5),\n",
       " ([3524, 17704, 2146, 2833, 4276, 3524], 1),\n",
       " ([3972, 4509, 6350, 3335, 4521, 2067], 5),\n",
       " ([6904, 8569, 2140, 2393, 3221, 10014], 5),\n",
       " ([3095, 4687, 7276, 4392, 3972, 28775], 4),\n",
       " ([2110, 2485, 5138, 7661, 1059, 24475], 5),\n",
       " ([7708, 2980, 16480, 25778, 6300, 22512], 5),\n",
       " ([5861, 3995, 2469, 2113, 2191, 2833], 5),\n",
       " ([3100, 10887, 3524, 3095, 12824, 3524], 5),\n",
       " ([1037, 2173, 2365, 7929, 20228, 2226], 4),\n",
       " ([2145, 16755, 3566, 3769, 2717, 21159], 5),\n",
       " ([2307, 2235, 9047, 2833, 4392, 2569], 5),\n",
       " ([2253, 2067, 2288, 27263, 18064, 2051], 2),\n",
       " ([2293, 2182, 20568, 3819, 9378, 2205], 1),\n",
       " ([3869, 11937, 3597, 2600, 2307, 24570], 4),\n",
       " ([2047, 5684, 4183, 2717, 21159, 2330], 4),\n",
       " ([2307, 2833, 4521, 2131, 9212, 2278], 3),\n",
       " ([26927, 3683, 19666, 2072, 20649, 2072], 5),\n",
       " ([3011, 2393, 4067, 3835, 5353, 4477], 1),\n",
       " ([2066, 7276, 8416, 10818, 2182, 2919], 4),\n",
       " ([6723, 11642, 3095, 2012, 6528, 2102], 4),\n",
       " ([2307, 4664, 7046, 2507, 2173, 2732], 4),\n",
       " ([2204, 2307, 2994, 7601, 2408, 2395], 1),\n",
       " ([2684, 2293, 2173, 2172, 2215, 2204], 5),\n",
       " ([2307, 2173, 25210, 6904, 8569, 2140], 3),\n",
       " ([13012, 12927, 5699, 5610, 2100, 4933], 5),\n",
       " ([4569, 3490, 3041, 3319, 3972, 3388], 4),\n",
       " ([3714, 5785, 9841, 2613, 3669, 2204], 4),\n",
       " ([2190, 3524, 2240, 2131, 4656, 2072], 5),\n",
       " ([2066, 2066, 3671, 1038, 3270, 4478], 4),\n",
       " ([2131, 3902, 2072, 2272, 4656, 2072], 4),\n",
       " ([2190, 2173, 2175, 8808, 13473, 4817], 4),\n",
       " ([2113, 2197, 2051, 5959, 2009, 2067], 4),\n",
       " ([24951, 2290, 25933, 2480, 19430, 2102], 5),\n",
       " ([2307, 5665, 2067, 4921, 2072, 2307], 3),\n",
       " ([3449, 2015, 2360, 4339, 2695, 2009], 3),\n",
       " ([2058, 18098, 2435, 15610, 3835, 2393], 3),\n",
       " ([2485, 2307, 2833, 3114, 3976, 2173], 5),\n",
       " ([2442, 2240, 2146, 3524, 10140, 2173], 3),\n",
       " ([10887, 9861, 4558, 2769, 2131, 2765], 4),\n",
       " ([2190, 2833, 2412, 4299, 2272, 2574], 3),\n",
       " ([28249, 3242, 4133, 3524, 2611, 4497], 4),\n",
       " ([2307, 2217, 2067, 7367, 6299, 2051], 2),\n",
       " ([2307, 2833, 4392, 2190, 18720, 2232], 1),\n",
       " ([3972, 28775, 2833, 24970, 14262, 7903], 1),\n",
       " ([26509, 7367, 21559, 6014, 26509, 2485], 4),\n",
       " ([2272, 2564, 2173, 2237, 2028, 3272], 5),\n",
       " ([5959, 10733, 12570, 2613, 3669, 5959], 3),\n",
       " ([7570, 18752, 16558, 28667, 8462, 4859], 5),\n",
       " ([24951, 2290, 3786, 2562, 2204, 2147], 4),\n",
       " ([2253, 5024, 2833, 15180, 25426, 5404], 2),\n",
       " ([2307, 2173, 2833, 2204, 13803, 4834], 5),\n",
       " ([2124, 3358, 13803, 22861, 4160, 15890], 4),\n",
       " ([5156, 2717, 21159, 24570, 5096, 2833], 4),\n",
       " ([11582, 3976, 6265, 4596, 2833, 2204], 4),\n",
       " ([4687, 2709, 8637, 2151, 3775, 2213], 1),\n",
       " ([2173, 15180, 25426, 2626, 2650, 2009], 5),\n",
       " ([2307, 2173, 2051, 11199, 2100, 3835], 4),\n",
       " ([25933, 2480, 3114, 3124, 4149, 5779], 2),\n",
       " ([2190, 10733, 2919, 2518, 4299, 3553], 3),\n",
       " ([2521, 2204, 2393, 3114, 2173, 6708], 5),\n",
       " ([11234, 11090, 2521, 2152, 3669, 16755], 5),\n",
       " ([7929, 2379, 4796, 1039, 18280, 3126], 5),\n",
       " ([2995, 10733, 2293, 2175, 2560, 2733], 5),\n",
       " ([2632, 4576, 3976, 28017, 9956, 3565], 4),\n",
       " ([12183, 10026, 2191, 2588, 5227, 24970], 4),\n",
       " ([2293, 2173, 14262, 2615, 6350, 2154], 5),\n",
       " ([2342, 2307, 2717, 21159, 2066, 2028], 4),\n",
       " ([4550, 3524, 3328, 4487, 12693, 2278], 1),\n",
       " ([26568, 16558, 2833, 2131, 2047, 5660], 4),\n",
       " ([4521, 2190, 2204, 2833, 10140, 15610], 4),\n",
       " ([2058, 2389, 2307, 14262, 7903, 4189], 2),\n",
       " ([10166, 9518, 17935, 3775, 3105, 8954], 5),\n",
       " ([11891, 2196, 2272, 2067, 2001, 2102], 2),\n",
       " ([2204, 6735, 2131, 16823, 2203, 9413], 5),\n",
       " ([5470, 6895, 5470, 6895, 11281, 2361], 5),\n",
       " ([2190, 3869, 6293, 9090, 5116, 3524], 1),\n",
       " ([2833, 3972, 28775, 5507, 19646, 3976], 1),\n",
       " ([9467, 2022, 28727, 2759, 2439, 11084], 5),\n",
       " ([2693, 5580, 3769, 4067, 13171, 2100], 1),\n",
       " ([2518, 2173, 2175, 21025, 7382, 6799], 5),\n",
       " ([2052, 16755, 2032, 3480, 13774, 3835], 4),\n",
       " ([7929, 4101, 4276, 14163, 12680, 2072], 4),\n",
       " ([2307, 2173, 9450, 6896, 2272, 2465], 5),\n",
       " ([2711, 2729, 2152, 3669, 16755, 2852], 4),\n",
       " ([4276, 3524, 18064, 5356, 27218, 2609], 3),\n",
       " ([27427, 13355, 2121, 2131, 3105, 2589], 5),\n",
       " ([25933, 2480, 27090, 2812, 2293, 2173], 2),\n",
       " ([1835, 100, 100, 1957, 1744, 100], 4),\n",
       " ([2785, 4010, 2540, 9518, 2307, 2173], 1),\n",
       " ([15180, 25426, 4638, 2041, 12486, 2307], 4),\n",
       " ([2131, 9781, 20209, 4063, 3480, 4426], 5),\n",
       " ([2307, 3199, 3671, 2613, 3669, 4946], 3),\n",
       " ([2448, 3328, 2613, 15775, 12179, 2290], 5),\n",
       " ([2173, 2204, 3524, 4133, 2833, 2307], 3),\n",
       " ([2190, 13675, 10054, 22341, 2307, 3095], 1),\n",
       " ([4682, 2190, 10733, 2173, 2412, 4845], 2),\n",
       " ([9378, 6271, 2852, 2072, 29490, 2307], 1),\n",
       " ([4550, 2833, 2204, 2611, 2980, 2215], 5),\n",
       " ([2307, 8241, 2833, 2204, 2173, 5308], 2),\n",
       " ([2293, 2173, 2288, 6271, 5833, 2307], 4),\n",
       " ([5684, 4183, 6240, 22732, 14894, 4030], 5),\n",
       " ([100, 100, 1807, 100, 100, 13745], 5),\n",
       " ([2674, 2050, 14841, 6444, 2483, 2226], 4),\n",
       " ([3835, 25545, 9231, 2102, 11894, 6928], 5),\n",
       " ([2632, 4576, 2801, 2131, 5881, 2622], 5),\n",
       " ([2190, 24501, 8162, 2278, 2110, 3269], 5),\n",
       " ([2173, 5660, 2072, 5699, 5660, 2072], 3),\n",
       " ([5968, 14689, 4747, 4904, 2543, 4521, 10733], 5),\n",
       " ([2204, 2833, 3435, 14262, 7903, 3114, 3976], 2),\n",
       " ([3835, 10733, 2632, 4576, 5959, 12087, 2664], 2),\n",
       " ([24970, 6350, 14262, 7903, 21100, 5794, 2094], 5),\n",
       " ([2190, 2833, 4299, 10424, 2072, 18178, 2229], 3),\n",
       " ([2173, 2202, 3954, 3305, 15398, 7481, 3124], 4),\n",
       " ([3114, 3976, 3972, 28775, 3256, 6949, 2092], 5),\n",
       " ([16027, 3347, 2412, 3449, 2271, 10975, 9816], 4),\n",
       " ([5843, 12347, 6943, 2307, 2001, 2102, 2051], 1),\n",
       " ([3807, 2833, 2145, 2307, 4840, 4550, 2067], 4),\n",
       " ([2293, 2412, 2072, 2051, 2131, 5377, 19394], 1),\n",
       " ([2613, 3453, 2173, 10514, 6182, 2293, 8241], 2),\n",
       " ([2632, 4576, 2393, 2632, 4576, 17021, 2868], 1),\n",
       " ([17079, 2227, 4487, 28745, 22648, 2773, 2833], 5),\n",
       " ([2307, 8840, 11266, 25545, 4952, 2919, 3319], 5),\n",
       " ([2293, 4392, 2391, 4086, 2064, 2102, 17612], 5),\n",
       " ([10140, 3309, 3835, 2833, 2457, 4497, 8232], 4),\n",
       " ([2190, 18651, 7975, 4067, 10026, 2147, 2411], 5),\n",
       " ([2307, 2051, 10453, 8840, 2891, 15966, 2561], 4),\n",
       " ([2307, 14262, 7903, 2307, 2833, 2190, 4596], 4),\n",
       " ([2190, 2833, 2307, 3976, 4569, 2173, 2175], 5),\n",
       " ([8066, 3388, 2190, 6350, 2105, 2307, 2173], 3),\n",
       " ([15180, 25426, 4392, 18151, 2278, 2442, 4638], 5),\n",
       " ([21810, 2072, 4679, 2422, 2307, 2569, 2295], 3),\n",
       " ([23624, 18151, 2278, 2919, 21480, 1054, 2204], 4),\n",
       " ([2253, 2067, 10166, 11234, 2293, 2833, 4248], 3),\n",
       " ([8145, 3846, 26348, 2524, 2600, 3499, 2028], 5),\n",
       " ([19366, 13774, 13366, 5498, 2102, 1038, 2709], 5),\n",
       " ([3942, 3095, 13366, 5498, 2102, 2272, 2067], 5),\n",
       " ([2017, 3363, 2067, 10126, 2190, 2146, 2051], 3),\n",
       " ([2606, 13366, 5498, 2102, 2272, 2067, 2870], 5),\n",
       " ([3129, 2345, 2070, 2705, 2371, 2066, 7438], 1),\n",
       " ([2293, 2173, 2330, 2996, 2444, 2944, 6014], 2),\n",
       " ([2288, 4605, 3608, 3819, 3669, 12913, 4605], 1),\n",
       " ([13774, 12824, 8081, 2489, 2130, 4965, 12824], 1),\n",
       " ([15180, 25426, 3962, 5492, 15960, 21122, 6359], 5),\n",
       " ([10439, 12298, 4604, 2237, 2767, 2650, 2293], 5),\n",
       " ([15180, 25426, 2125, 2594, 3095, 2307, 2092], 1),\n",
       " ([5987, 2833, 2488, 3976, 7954, 24443, 2099], 5),\n",
       " ([2071, 2488, 2919, 4276, 4339, 2188, 2055], 2),\n",
       " ([2131, 11867, 28775, 25025, 23675, 2253, 2253], 4),\n",
       " ([2684, 5684, 6350, 15736, 2767, 3669, 3095], 5),\n",
       " ([2058, 18098, 15890, 4101, 3835, 2173, 2295], 4),\n",
       " ([12726, 2110, 18087, 2113, 3437, 18087, 3160], 4),\n",
       " ([2307, 3058, 2204, 2182, 20432, 4276, 2769], 5),\n",
       " ([7842, 10383, 2290, 10733, 10250, 8067, 3089], 4),\n",
       " ([2852, 24385, 3095, 2729, 8991, 19646, 9518], 4),\n",
       " ([2052, 16755, 2307, 2717, 21159, 15610, 2307], 1),\n",
       " ([13877, 25732, 2457, 8780, 2226, 9518, 2732], 5),\n",
       " ([4664, 29461, 17268, 20228, 2226, 3477, 2121], 2),\n",
       " ([2514, 7216, 2068, 11246, 2615, 16661, 2785], 3),\n",
       " ([2173, 2030, 8376, 16344, 2012, 6528, 2102], 4),\n",
       " ([2190, 2833, 3114, 3976, 2561, 16755, 2173], 4),\n",
       " ([7107, 14976, 4511, 4392, 3809, 2081, 2154], 3),\n",
       " ([2435, 2235, 18178, 2229, 3465, 11576, 8257], 4),\n",
       " ([2412, 21475, 2072, 3100, 2228, 4276, 13012], 1),\n",
       " ([2253, 2417, 9610, 2721, 26147, 3972, 28775], 5),\n",
       " ([2047, 5292, 9397, 2072, 5470, 10230, 2102], 1),\n",
       " ([3835, 4664, 2613, 5023, 17070, 5921, 4677], 5),\n",
       " ([10166, 2561, 3279, 2773, 3696, 7743, 2360], 2),\n",
       " ([2224, 2928, 11011, 2095, 2307, 3828, 4171], 3),\n",
       " ([5684, 4183, 8223, 2368, 4497, 5580, 9481], 3),\n",
       " ([2190, 2767, 3669, 24209, 11475, 3775, 2833], 4),\n",
       " ([2051, 2182, 2234, 2767, 3669, 2204, 2569], 5),\n",
       " ([2502, 4664, 2204, 2833, 2056, 3524, 5025], 5),\n",
       " ([2946, 21877, 7361, 2140, 2066, 2067, 2153], 5),\n",
       " ([2152, 3669, 16755, 2173, 4550, 2833, 2204], 3),\n",
       " ([7997, 7939, 2175, 2253, 2131, 11721, 2908], 3),\n",
       " ([5156, 3653, 6916, 2204, 3976, 3020, 2203], 5),\n",
       " ([4524, 2884, 11519, 4654, 7913, 2213, 3976], 1),\n",
       " ([2146, 2240, 2298, 3435, 3972, 28775, 10036], 4),\n",
       " ([11132, 2166, 2172, 12075, 10497, 14262, 2615], 5),\n",
       " ([13642, 29181, 2307, 2173, 3113, 2767, 4392], 5),\n",
       " ([2801, 2404, 12873, 3160, 2868, 2709, 4067], 5),\n",
       " ([2275, 5955, 2940, 2072, 21877, 4305, 2307], 4),\n",
       " ([2190, 6265, 28305, 2237, 5684, 4183, 2173], 5),\n",
       " ([2307, 15890, 2190, 25022, 3775, 3976, 3114], 1),\n",
       " ([4920, 2813, 2717, 21159, 9841, 2307, 2833], 5),\n",
       " ([2613, 3669, 3835, 2393, 2130, 14899, 7698], 1),\n",
       " ([11687, 2980, 14768, 11350, 2600, 2293, 2173], 5),\n",
       " ([2204, 2833, 4962, 2099, 2204, 2052, 3942], 1),\n",
       " ([2190, 2833, 4907, 15628, 2152, 3669, 16755], 1),\n",
       " ([2288, 2067, 1048, 2615, 4241, 2145, 2190], 5),\n",
       " ([3524, 2272, 2067, 2204, 3609, 7276, 9483], 5),\n",
       " ([5096, 18651, 7975, 10424, 2072, 25025, 7954], 5),\n",
       " ([2071, 3198, 2005, 2272, 4521, 2293, 2009], 1),\n",
       " ([4840, 2036, 2307, 6265, 12183, 3114, 3976], 5),\n",
       " ([2843, 2833, 4189, 3976, 2307, 14262, 7903], 1),\n",
       " ([2173, 2307, 2154, 2886, 2079, 19140, 16078], 4),\n",
       " ([3124, 2307, 3105, 21101, 4848, 6090, 2102], 5),\n",
       " ([13366, 5498, 2102, 16755, 21877, 9336, 11345], 4),\n",
       " ([2307, 2173, 3828, 2490, 2060, 2204, 3066], 3),\n",
       " ([2307, 1037, 2100, 2278, 10514, 6182, 6265], 5),\n",
       " ([2293, 3942, 2688, 2307, 8145, 2092, 2556], 4),\n",
       " ([24970, 2833, 4840, 3972, 28775, 8103, 3180], 5),\n",
       " ([3835, 3347, 2307, 2047, 11660, 3063, 3198], 4),\n",
       " ([3835, 2334, 4258, 7216, 2835, 2204, 2051], 5),\n",
       " ([2833, 20857, 9090, 26729, 8241, 3835, 2709], 5),\n",
       " ([2307, 2265, 2293, 2009, 6170, 17935, 3775], 5),\n",
       " ([2190, 20949, 8676, 2632, 4576, 2204, 5724], 5),\n",
       " ([2179, 2694, 2215, 3976, 8369, 7216, 2007], 5),\n",
       " ([2253, 2067, 3522, 22512, 2360, 2172, 2488], 5),\n",
       " ([10303, 5944, 20459, 2204, 2833, 2033, 2232], 5),\n",
       " ([5474, 2072, 21358, 18178, 2229, 2234, 3147], 1),\n",
       " ([2190, 10514, 6182, 4013, 3676, 16558, 2056], 5),\n",
       " ([7661, 14262, 7903, 6869, 4638, 27211, 2092], 5),\n",
       " ([17894, 4983, 2613, 3669, 4276, 2051, 2769], 5),\n",
       " ([2204, 14262, 7903, 2204, 3256, 16748, 3286], 5),\n",
       " ([2204, 2833, 2488, 2474, 5292, 23402, 8943], 3),\n",
       " ([24646, 2078, 13827, 2521, 3309, 2175, 2063], 4),\n",
       " ([2852, 3095, 24970, 1045, 2844, 3669, 16755], 5),\n",
       " ([3565, 9518, 24970, 11748, 2226, 3954, 17070], 5),\n",
       " ([2253, 2067, 2117, 4067, 2307, 14262, 7903], 2),\n",
       " ([10424, 2072, 7975, 2018, 2488, 2744, 2161], 5),\n",
       " ([2051, 2693, 2171, 10973, 13342, 4366, 2033], 1),\n",
       " ([2204, 15610, 2012, 6528, 2102, 2052, 2066], 5),\n",
       " ([2307, 2833, 2204, 3976, 5684, 4183, 2237], 4),\n",
       " ([2052, 16755, 19817, 17190, 2102, 11615, 2994], 4),\n",
       " ([2833, 3972, 28775, 13877, 10658, 2293, 16521], 5),\n",
       " ([2158, 2307, 14262, 7903, 3976, 4189, 3669], 2),\n",
       " ([2740, 17490, 27427, 5313, 2290, 13433, 10354], 5),\n",
       " ([3358, 2154, 2204, 2204, 3422, 3873, 2092], 4),\n",
       " ([6904, 8569, 2140, 26014, 2890, 4502, 4313], 3),\n",
       " ([2994, 3807, 2105, 5292, 9397, 2072, 21209], 5),\n",
       " ([2307, 2293, 2489, 9090, 26509, 7954, 2205], 5),\n",
       " ([4897, 2061, 13871, 2072, 2175, 2126, 2488], 1),\n",
       " ([5684, 4183, 2173, 2293, 13877, 2767, 3669], 1),\n",
       " ([2204, 7975, 8962, 11345, 2978, 3976, 2100], 5),\n",
       " ([7929, 3976, 6436, 7929, 2833, 2147, 18392], 4),\n",
       " ([25933, 2480, 7954, 2066, 5127, 5580, 2067], 3),\n",
       " ([2833, 4392, 26568, 2546, 2175, 3058, 2154], 1),\n",
       " ([2360, 2438, 2204, 2518, 18029, 2185, 17070], 1),\n",
       " ([2253, 2307, 15890, 24970, 3095, 2767, 3669], 5),\n",
       " ([24970, 14262, 7903, 2393, 5271, 3198, 3976], 4),\n",
       " ([3095, 3565, 2767, 3669, 2204, 3105, 2330], 4),\n",
       " ([18178, 2229, 2072, 2036, 2767, 3669, 3835], 4),\n",
       " ([2564, 4596, 2839, 7929, 2025, 2232, 3272], 4),\n",
       " ([2293, 23624, 5724, 23624, 18151, 2278, 4299], 5),\n",
       " ([12482, 3593, 9561, 3976, 16949, 2594, 2140], 5),\n",
       " ([2307, 2173, 2204, 2833, 20926, 2204, 3105], 4),\n",
       " ([2717, 21159, 2204, 2514, 2368, 21663, 2239], 5),\n",
       " ([4149, 7123, 5271, 2066, 4013, 4067, 7123], 5),\n",
       " ([4121, 4664, 4895, 17960, 4183, 2522, 16020], 1),\n",
       " ([17935, 3775, 2686, 2387, 2444, 2189, 2724], 3),\n",
       " ([2253, 6265, 2145, 3565, 9805, 7382, 2072], 5),\n",
       " ([5684, 4183, 2522, 16020, 4497, 14262, 7903], 4),\n",
       " ([23624, 2307, 12005, 10020, 3300, 3244, 3255], 4),\n",
       " ([2919, 2288, 4521, 4596, 2604, 4946, 7954], 1),\n",
       " ([11341, 3669, 2204, 13008, 2028, 2172, 2488], 3),\n",
       " ([11937, 3367, 12183, 2190, 3066, 2204, 2833], 2),\n",
       " ([2307, 4748, 2953, 3976, 2400, 2663, 17688], 4),\n",
       " ([14412, 7875, 6559, 2521, 2190, 15942, 3028], 5),\n",
       " ([5939, 24330, 12087, 4299, 3635, 24608, 29464], 4),\n",
       " ([5409, 4392, 3589, 5987, 5247, 2341, 2341], 3),\n",
       " ([5156, 4550, 6904, 6895, 2140, 4067, 2017], 3),\n",
       " ([3115, 10303, 2025, 2232, 2569, 2461, 2732], 4),\n",
       " ([8823, 2051, 2154, 7975, 11642, 4299, 4677], 4),\n",
       " ([24970, 2393, 3959, 2272, 2424, 2157, 4377], 5),\n",
       " ([17249, 2094, 3465, 2168, 2380, 6728, 2121], 5),\n",
       " ([3902, 2072, 3113, 13366, 5498, 2102, 2067], 1),\n",
       " ([3671, 3653, 6916, 2204, 4392, 2288, 17952], 1),\n",
       " ([24501, 15459, 2094, 7615, 2173, 2197, 3942], 2),\n",
       " ([8572, 13012, 2655, 2655, 3042, 2921, 3614], 1),\n",
       " ([9413, 12171, 2099, 6300, 14277, 4773, 28032], 4),\n",
       " ([17935, 3775, 15890, 19394, 2113, 3709, 2290], 5),\n",
       " ([12726, 2052, 6592, 2298, 2019, 14573, 2173], 5),\n",
       " ([8840, 11266, 2228, 10140, 2235, 2237, 2066], 5),\n",
       " ([2235, 2173, 2833, 24970, 2175, 2173, 15942], 4),\n",
       " ([16755, 10424, 2072, 2036, 6116, 2072, 13012], 2),\n",
       " ([4257, 3898, 2694, 11848, 2282, 8991, 17922], 4),\n",
       " ([5409, 2833, 2412, 11937, 3367, 13877, 12726], 4),\n",
       " ([2047, 2181, 2173, 2175, 4148, 25416, 4014], 5),\n",
       " ([2204, 2732, 2833, 12656, 2204, 10166, 2033], 5),\n",
       " ([2307, 2173, 10288, 29109, 10424, 2072, 23723], 5),\n",
       " ([2293, 2009, 2066, 4654, 26243, 2330, 9481], 3),\n",
       " ([2521, 12721, 2179, 2282, 2156, 2191, 2488], 4),\n",
       " ([10140, 1999, 10288, 11837, 2015, 8416, 2066], 3),\n",
       " ([17612, 2380, 2175, 9726, 2474, 5831, 14352], 5),\n",
       " ([2066, 18651, 2488, 6428, 14894, 8840, 11266], 3),\n",
       " ([2833, 8676, 2204, 14262, 7903, 15890, 2204], 5),\n",
       " ([2272, 15876, 18752, 2202, 6265, 2131, 2833], 2),\n",
       " ([2165, 4638, 3902, 2072, 9805, 7382, 2072], 5),\n",
       " ([13012, 2502, 2304, 21768, 21768, 18710, 2072], 4),\n",
       " ([2293, 2265, 2189, 2833, 14262, 7903, 24970], 5),\n",
       " ([3942, 2252, 8680, 2307, 2252, 2307, 3677], 1),\n",
       " ([4977, 2252, 2204, 4654, 4842, 2072, 2307], 5),\n",
       " ...]"
      ]
     },
     "execution_count": 11,
     "metadata": {},
     "output_type": "execute_result"
    }
   ],
   "source": [
    "sorted_reviews_labels = [(review_lab[0], review_lab[1]) for review_lab in reviews_with_len]\n",
    "sorted_reviews_labels"
   ]
  },
  {
   "cell_type": "code",
   "execution_count": 39,
   "metadata": {},
   "outputs": [
    {
     "data": {
      "text/plain": [
       "(<tf.Tensor: shape=(256, 4), dtype=int32, numpy=\n",
       " array([[ 2182,     0,     0,     0],\n",
       "        [ 2293,     0,     0,     0],\n",
       "        [ 4497,     0,     0,     0],\n",
       "        ...,\n",
       "        [ 2293,  4748,  2953,  2173],\n",
       "        [ 3435,  2767,  3669,  2709],\n",
       "        [ 2247,  2395, 14980,  7140]])>,\n",
       " <tf.Tensor: shape=(256,), dtype=float32, numpy=\n",
       " array([1., 3., 5., 5., 4., 5., 4., 5., 1., 2., 5., 4., 5., 5., 4., 2., 5.,\n",
       "        1., 5., 3., 5., 2., 4., 2., 5., 5., 5., 5., 3., 5., 5., 2., 1., 5.,\n",
       "        4., 1., 5., 2., 4., 1., 2., 2., 4., 3., 5., 3., 4., 2., 5., 4., 5.,\n",
       "        5., 4., 4., 5., 4., 2., 5., 5., 5., 3., 5., 4., 4., 5., 5., 4., 4.,\n",
       "        3., 4., 1., 4., 5., 3., 5., 3., 5., 4., 2., 4., 5., 4., 5., 3., 5.,\n",
       "        5., 3., 4., 5., 4., 4., 4., 1., 2., 5., 1., 5., 4., 1., 2., 4., 5.,\n",
       "        4., 5., 5., 5., 5., 2., 5., 5., 2., 4., 4., 5., 1., 5., 1., 4., 3.,\n",
       "        5., 4., 4., 4., 4., 2., 5., 4., 4., 5., 3., 5., 5., 4., 5., 4., 5.,\n",
       "        2., 5., 4., 3., 5., 3., 5., 5., 5., 3., 5., 5., 4., 4., 4., 1., 1.,\n",
       "        2., 5., 3., 2., 4., 5., 1., 4., 5., 4., 3., 4., 3., 5., 5., 4., 3.,\n",
       "        4., 4., 5., 1., 4., 5., 5., 3., 3., 4., 5., 1., 5., 5., 1., 5., 5.,\n",
       "        4., 5., 5., 5., 1., 5., 5., 1., 4., 3., 5., 4., 5., 5., 3., 3., 1.,\n",
       "        5., 5., 5., 5., 4., 5., 2., 5., 5., 5., 4., 3., 3., 4., 5., 2., 5.,\n",
       "        5., 5., 3., 5., 4., 4., 4., 5., 4., 4., 3., 1., 5., 5., 5., 5., 2.,\n",
       "        5., 1., 1., 5., 4., 5., 4., 5., 1., 3., 1., 4., 3., 5., 1., 4., 4.,\n",
       "        3.], dtype=float32)>)"
      ]
     },
     "execution_count": 39,
     "metadata": {},
     "output_type": "execute_result"
    }
   ],
   "source": [
    "processed_dataset = tf.data.Dataset.from_generator(lambda: sorted_reviews_labels, output_types=(tf.int32, tf.float32))\n",
    "BATCH_SIZE = 256\n",
    "batched_dataset = processed_dataset.padded_batch(BATCH_SIZE, padded_shapes=((None, ), ()))\n",
    "next(iter(batched_dataset))"
   ]
  },
  {
   "cell_type": "code",
   "execution_count": 40,
   "metadata": {},
   "outputs": [],
   "source": [
    "TOTAL_BATCHES = math.ceil(len(sorted_reviews_labels) / BATCH_SIZE)\n",
    "TEST_BATCHES = TOTAL_BATCHES // 16\n",
    "batched_dataset.shuffle(TOTAL_BATCHES)\n",
    "test_data = batched_dataset.take(TEST_BATCHES)\n",
    "train_data = batched_dataset.skip(TEST_BATCHES)"
   ]
  },
  {
   "cell_type": "code",
   "execution_count": 49,
   "metadata": {},
   "outputs": [],
   "source": [
    "class TEXT_MODEL(tf.keras.Model):\n",
    "    \n",
    "    def __init__(self, vocabulary_size, embedding_dimensions=150, dnn_units=128,\n",
    "                 dropout_rate=0.2, training=False,  name=\"bert_model\"):\n",
    "        \n",
    "        super(TEXT_MODEL, self).__init__(name=name)\n",
    "        \n",
    "        self.embedding = Embedding(vocabulary_size, embedding_dimensions)\n",
    "        self.rnn_layer1 = Bidirectional(LSTM(50, dropout=dropout_rate, return_sequences=True))\n",
    "        self.pooling = GlobalAveragePooling1D()\n",
    "        self.last_dense = Dense(1)\n",
    "    \n",
    "    def call(self, inputs, training):\n",
    "        x = self.embedding(inputs)\n",
    "        x = self.rnn_layer1(x)\n",
    "        x = self.pooling(x)\n",
    "        x = self.last_dense(x)\n",
    "        \n",
    "        return x"
   ]
  },
  {
   "cell_type": "code",
   "execution_count": 50,
   "metadata": {},
   "outputs": [
    {
     "name": "stdout",
     "output_type": "stream",
     "text": [
      "Epoch 1/5\n",
      "984/984 [==============================] - 61s 62ms/step - loss: 2.2306 - mae: 1.2325 - rmse: 1.4935\n",
      "Epoch 2/5\n",
      "984/984 [==============================] - 62s 63ms/step - loss: 2.0044 - mae: 1.1889 - rmse: 1.4158\n",
      "Epoch 3/5\n",
      "984/984 [==============================] - 62s 63ms/step - loss: 1.9859 - mae: 1.1806 - rmse: 1.4092\n",
      "Epoch 4/5\n",
      "984/984 [==============================] - 62s 63ms/step - loss: 1.9640 - mae: 1.1703 - rmse: 1.4014\n",
      "Epoch 5/5\n",
      "984/984 [==============================] - 62s 63ms/step - loss: 1.9404 - mae: 1.1599 - rmse: 1.3930\n"
     ]
    },
    {
     "data": {
      "text/plain": [
       "<tensorflow.python.keras.callbacks.History at 0x244f15c8c40>"
      ]
     },
     "execution_count": 50,
     "metadata": {},
     "output_type": "execute_result"
    }
   ],
   "source": [
    "bert_model = TEXT_MODEL(vocabulary_size=len(tokenizer.vocab))\n",
    "bert_model.compile(loss=\"mse\", optimizer=\"adam\", metrics=['mae', RootMeanSquaredError('rmse')])\n",
    "bert_model.fit(train_data, epochs=5)"
   ]
  },
  {
   "cell_type": "code",
   "execution_count": 29,
   "metadata": {},
   "outputs": [
    {
     "name": "stdout",
     "output_type": "stream",
     "text": [
      "65/65 [==============================] - 1s 21ms/step - loss: 2.9043 - mae: 1.5362 - rmse: 1.6715\n"
     ]
    },
    {
     "data": {
      "text/plain": [
       "[2.9042723178863525, 1.5361770391464233, 1.6715201139450073]"
      ]
     },
     "execution_count": 29,
     "metadata": {},
     "output_type": "execute_result"
    }
   ],
   "source": [
    "bert_model.evaluate(test_data)"
   ]
  },
  {
   "cell_type": "code",
   "execution_count": null,
   "metadata": {},
   "outputs": [],
   "source": []
  },
  {
   "cell_type": "code",
   "execution_count": null,
   "metadata": {},
   "outputs": [],
   "source": []
  },
  {
   "cell_type": "markdown",
   "metadata": {},
   "source": [
    "# Fine-tuning"
   ]
  },
  {
   "cell_type": "code",
   "execution_count": 8,
   "metadata": {},
   "outputs": [
    {
     "name": "stdout",
     "output_type": "stream",
     "text": [
      "Vocab size: 30522\n"
     ]
    }
   ],
   "source": [
    "# Set up tokenizer to generate Tensorflow dataset\n",
    "tokenizer = bert.tokenization.FullTokenizer(vocab_file=os.path.join(bert_folder, \"vocab.txt\"), do_lower_case=True)\n",
    "print(\"Vocab size:\", len(tokenizer.vocab))"
   ]
  },
  {
   "cell_type": "code",
   "execution_count": 9,
   "metadata": {},
   "outputs": [],
   "source": [
    "def encode_sentence(s, tokenizer):\n",
    "   tokens = list(tokenizer.tokenize(s))\n",
    "   tokens.append('[SEP]')\n",
    "   return tokenizer.convert_tokens_to_ids(tokens)\n",
    "\n",
    "def bert_encode(X, tokenizer):\n",
    "  num_examples = len(X)\n",
    "  \n",
    "  sentence1 = tf.ragged.constant([encode_sentence(s, tokenizer) for s in np.array(X)])\n",
    "\n",
    "#   sentence2 = tf.ragged.constant([\n",
    "#       encode_sentence(s, tokenizer)\n",
    "#        for s in np.array(glue_dict[\"sentence2\"])])\n",
    "\n",
    "  cls = [tokenizer.convert_tokens_to_ids(['[CLS]'])]*sentence1.shape[0]\n",
    "  input_word_ids = tf.concat([cls, sentence1], axis=-1)\n",
    "\n",
    "  input_mask = tf.ones_like(input_word_ids).to_tensor()\n",
    "\n",
    "  type_cls = tf.zeros_like(cls)\n",
    "  type_s1 = tf.zeros_like(sentence1)\n",
    "#   type_s2 = tf.ones_like(sentence2)\n",
    "  input_type_ids = tf.concat([type_cls, type_s1], axis=-1).to_tensor()\n",
    "\n",
    "  inputs = {\n",
    "      'input_word_ids': input_word_ids.to_tensor(),\n",
    "      'input_mask': input_mask,\n",
    "      'input_type_ids': input_type_ids}\n",
    "\n",
    "  return inputs\n",
    "\n",
    "X_train = bert_encode(X_train, tokenizer)\n",
    "X_test = bert_encode(X_test, tokenizer)\n",
    "# X = bert_encode(X, tokenizer)"
   ]
  },
  {
   "cell_type": "code",
   "execution_count": 10,
   "metadata": {},
   "outputs": [
    {
     "name": "stdout",
     "output_type": "stream",
     "text": [
      "input_word_ids  shape: (268540, 226)\n",
      "input_mask      shape: (268540, 226)\n",
      "input_type_ids  shape: (268540, 226)\n",
      "X_train_labels shape: (268540,)\n",
      "input_word_ids  shape: (132267, 243)\n",
      "input_mask      shape: (132267, 243)\n",
      "input_type_ids  shape: (132267, 243)\n",
      "X_train_labels shape: (132267,)\n"
     ]
    }
   ],
   "source": [
    "for key, value in X_train.items():\n",
    "  print(f'{key:15s} shape: {value.shape}')\n",
    "\n",
    "print(f'X_train_labels shape: {y_train.shape}')\n",
    "\n",
    "for key, value in X_test.items():\n",
    "  print(f'{key:15s} shape: {value.shape}')\n",
    "\n",
    "print(f'X_train_labels shape: {y_test.shape}')"
   ]
  },
  {
   "cell_type": "code",
   "execution_count": 18,
   "metadata": {},
   "outputs": [
    {
     "name": "stdout",
     "output_type": "stream",
     "text": [
      "input_word_ids  shape: (268540, 921)\n",
      "input_mask      shape: (268540, 921)\n",
      "input_type_ids  shape: (268540, 921)\n",
      "X_train_labels shape: (268540,)\n"
     ]
    }
   ],
   "source": [
    "for key, value in X_train.items():\n",
    "  print(f'{key:15s} shape: {value.shape}')\n",
    "\n",
    "print(f'X_train_labels shape: {y_train.shape}')"
   ]
  },
  {
   "cell_type": "code",
   "execution_count": 19,
   "metadata": {},
   "outputs": [
    {
     "name": "stdout",
     "output_type": "stream",
     "text": [
      "input_word_ids  shape: (132267, 716)\n",
      "input_mask      shape: (132267, 716)\n",
      "input_type_ids  shape: (132267, 716)\n",
      "X_train_labels shape: (132267,)\n"
     ]
    }
   ],
   "source": [
    "for key, value in X_test.items():\n",
    "  print(f'{key:15s} shape: {value.shape}')\n",
    "\n",
    "print(f'X_train_labels shape: {y_test.shape}')"
   ]
  },
  {
   "cell_type": "markdown",
   "metadata": {},
   "source": [
    "# Tiny Bert"
   ]
  },
  {
   "cell_type": "code",
   "execution_count": 31,
   "metadata": {},
   "outputs": [
    {
     "data": {
      "text/plain": [
       "{'hidden_size': 128,\n",
       " 'hidden_act': 'gelu',\n",
       " 'initializer_range': 0.02,\n",
       " 'vocab_size': 30522,\n",
       " 'hidden_dropout_prob': 0.1,\n",
       " 'num_attention_heads': 2,\n",
       " 'type_vocab_size': 2,\n",
       " 'max_position_embeddings': 1024,\n",
       " 'num_hidden_layers': 2,\n",
       " 'intermediate_size': 512,\n",
       " 'attention_probs_dropout_prob': 0.1}"
      ]
     },
     "execution_count": 31,
     "metadata": {},
     "output_type": "execute_result"
    }
   ],
   "source": [
    "bert_config_file = os.path.join(bert_folder, \"bert_config.json\")\n",
    "config_dict = json.loads(tf.io.gfile.GFile(bert_config_file).read())\n",
    "bert_config = bert.configs.BertConfig.from_dict(config_dict)\n",
    "config_dict"
   ]
  },
  {
   "cell_type": "code",
   "execution_count": 24,
   "metadata": {},
   "outputs": [],
   "source": [
    "bert_classifier, bert_encoder = bert.bert_models.classifier_model(bert_config, num_labels=2)"
   ]
  },
  {
   "cell_type": "code",
   "execution_count": 12,
   "metadata": {},
   "outputs": [
    {
     "name": "stderr",
     "output_type": "stream",
     "text": [
      "INFO:absl:using Adamw optimizer\n"
     ]
    }
   ],
   "source": [
    "# Set up epochs and steps\n",
    "epochs = 5\n",
    "batch_size = 128\n",
    "eval_batch_size = 32\n",
    "\n",
    "train_data_size = len(y_train)\n",
    "steps_per_epoch = int(train_data_size / batch_size)\n",
    "num_train_steps = steps_per_epoch * epochs\n",
    "warmup_steps = int(epochs * train_data_size * 0.1 / batch_size)\n",
    "\n",
    "# creates an optimizer with learning rate schedule\n",
    "optimizer = nlp.optimization.create_optimizer(2e-5, num_train_steps=num_train_steps, num_warmup_steps=warmup_steps)"
   ]
  },
  {
   "cell_type": "code",
   "execution_count": 14,
   "metadata": {},
   "outputs": [
    {
     "name": "stdout",
     "output_type": "stream",
     "text": [
      "Epoch 1/5\n",
      "2098/2098 [==============================] - 593s 282ms/step - loss: 5.2953 - rmse: 2.3012 - mae: 1.9360 - val_loss: 2.2311 - val_rmse: 1.4937 - val_mae: 1.2983\n",
      "Epoch 2/5\n",
      "2098/2098 [==============================] - 596s 284ms/step - loss: 2.2304 - rmse: 1.4935 - mae: 1.2866 - val_loss: 2.1574 - val_rmse: 1.4688 - val_mae: 1.2795\n",
      "Epoch 3/5\n",
      "2098/2098 [==============================] - 596s 284ms/step - loss: 1.6962 - rmse: 1.3024 - mae: 1.1024 - val_loss: 1.5917 - val_rmse: 1.2616 - val_mae: 1.0497\n",
      "Epoch 4/5\n",
      "2098/2098 [==============================] - 600s 286ms/step - loss: 1.6327 - rmse: 1.2778 - mae: 1.0731 - val_loss: 1.5917 - val_rmse: 1.2616 - val_mae: 1.0497\n",
      "Epoch 5/5\n",
      "2098/2098 [==============================] - 598s 285ms/step - loss: 1.6325 - rmse: 1.2777 - mae: 1.0729 - val_loss: 1.5917 - val_rmse: 1.2616 - val_mae: 1.0497\n"
     ]
    },
    {
     "data": {
      "text/plain": [
       "<tensorflow.python.keras.callbacks.History at 0x20427da4940>"
      ]
     },
     "execution_count": 14,
     "metadata": {},
     "output_type": "execute_result"
    }
   ],
   "source": [
    "metrics = [tf.keras.metrics.RootMeanSquaredError('rmse'), 'mae']\n",
    "loss = tf.keras.losses.MeanSquaredError(name='mse')\n",
    "\n",
    "bert_classifier.compile(\n",
    "    optimizer=optimizer,\n",
    "    loss=loss,\n",
    "    metrics=metrics)\n",
    "\n",
    "bert_classifier.fit(\n",
    "      X_train, y_train,\n",
    "      validation_data=(X_test, y_test),\n",
    "      batch_size=128,\n",
    "      epochs=epochs)"
   ]
  },
  {
   "cell_type": "code",
   "execution_count": null,
   "metadata": {},
   "outputs": [],
   "source": []
  },
  {
   "cell_type": "markdown",
   "metadata": {},
   "source": [
    "# Mini Bert"
   ]
  },
  {
   "cell_type": "markdown",
   "metadata": {},
   "source": [
    "### Adam Opti"
   ]
  },
  {
   "cell_type": "code",
   "execution_count": 149,
   "metadata": {},
   "outputs": [
    {
     "data": {
      "text/plain": [
       "{'hidden_size': 256,\n",
       " 'hidden_act': 'gelu',\n",
       " 'initializer_range': 0.02,\n",
       " 'vocab_size': 30522,\n",
       " 'hidden_dropout_prob': 0.1,\n",
       " 'num_attention_heads': 4,\n",
       " 'type_vocab_size': 2,\n",
       " 'max_position_embeddings': 256,\n",
       " 'num_hidden_layers': 4,\n",
       " 'intermediate_size': 1024,\n",
       " 'attention_probs_dropout_prob': 0.1}"
      ]
     },
     "execution_count": 149,
     "metadata": {},
     "output_type": "execute_result"
    }
   ],
   "source": [
    "bert_config_file = os.path.join(bert_folder, \"bert_config.json\")\n",
    "config_dict = json.loads(tf.io.gfile.GFile(bert_config_file).read())\n",
    "bert_config = bert.configs.BertConfig.from_dict(config_dict)\n",
    "config_dict"
   ]
  },
  {
   "cell_type": "code",
   "execution_count": 150,
   "metadata": {},
   "outputs": [],
   "source": [
    "bert_classifier, bert_encoder = bert.bert_models.classifier_model(bert_config, num_labels=1)"
   ]
  },
  {
   "cell_type": "code",
   "execution_count": 67,
   "metadata": {},
   "outputs": [
    {
     "name": "stdout",
     "output_type": "stream",
     "text": [
      "Epoch 1/3\n",
      "2098/2098 [==============================] - 564s 269ms/step - loss: 2.1396 - rmse: 1.4627 - mae: 1.2421 - val_loss: 2.2319 - val_rmse: 1.4939 - val_mae: 1.2715\n",
      "Epoch 2/3\n",
      "2098/2098 [==============================] - 588s 280ms/step - loss: 2.2351 - rmse: 1.4950 - mae: 1.2835 - val_loss: 2.2383 - val_rmse: 1.4961 - val_mae: 1.2578\n",
      "Epoch 3/3\n",
      "2098/2098 [==============================] - 592s 282ms/step - loss: 2.2337 - rmse: 1.4946 - mae: 1.2827 - val_loss: 2.2361 - val_rmse: 1.4953 - val_mae: 1.3118\n"
     ]
    },
    {
     "data": {
      "text/plain": [
       "<tensorflow.python.keras.callbacks.History at 0x22c7186ccd0>"
      ]
     },
     "execution_count": 67,
     "metadata": {},
     "output_type": "execute_result"
    }
   ],
   "source": [
    "bert_classifier.compile(\n",
    "    optimizer='adam',\n",
    "    loss='mse',\n",
    "    metrics=[tf.keras.metrics.RootMeanSquaredError('rmse'), 'mae'])\n",
    "\n",
    "bert_classifier.fit(\n",
    "      X_train, y_train,\n",
    "      validation_data=(X_test, y_test),\n",
    "      batch_size=128,\n",
    "      epochs=3)"
   ]
  },
  {
   "cell_type": "code",
   "execution_count": 68,
   "metadata": {},
   "outputs": [
    {
     "name": "stdout",
     "output_type": "stream",
     "text": [
      "Epoch 1/3\n",
      "2098/2098 [==============================] - 591s 281ms/step - loss: 2.2424 - rmse: 1.4975 - mae: 1.2846 - val_loss: 2.2495 - val_rmse: 1.4998 - val_mae: 1.2432\n",
      "Epoch 2/3\n",
      "2098/2098 [==============================] - 592s 282ms/step - loss: 2.2334 - rmse: 1.4945 - mae: 1.2830 - val_loss: 2.2564 - val_rmse: 1.5021 - val_mae: 1.3373\n",
      "Epoch 3/3\n",
      "2098/2098 [==============================] - 592s 282ms/step - loss: 2.2333 - rmse: 1.4944 - mae: 1.2831 - val_loss: 2.2417 - val_rmse: 1.4972 - val_mae: 1.2526\n"
     ]
    },
    {
     "data": {
      "text/plain": [
       "<tensorflow.python.keras.callbacks.History at 0x22c774b2be0>"
      ]
     },
     "execution_count": 68,
     "metadata": {},
     "output_type": "execute_result"
    }
   ],
   "source": [
    "bert_classifier, bert_encoder = bert.bert_models.classifier_model(bert_config, num_labels=2)\n",
    "bert_classifier.compile(optimizer='adam', loss='mse', metrics=[tf.keras.metrics.RootMeanSquaredError('rmse'), 'mae'])\n",
    "bert_classifier.fit(X_train, y_train, validation_data=(X_test, y_test), batch_size=128, epochs=3)"
   ]
  },
  {
   "cell_type": "code",
   "execution_count": 78,
   "metadata": {},
   "outputs": [
    {
     "name": "stdout",
     "output_type": "stream",
     "text": [
      "Epoch 1/3\n",
      "2098/2098 [==============================] - 608s 290ms/step - loss: 2.2800 - rmse: 1.5100 - mae: 1.2913 - val_loss: 2.2335 - val_rmse: 1.4945 - val_mae: 1.3063\n",
      "Epoch 2/3\n",
      "2098/2098 [==============================] - 609s 290ms/step - loss: 2.2360 - rmse: 1.4953 - mae: 1.2836 - val_loss: 2.2327 - val_rmse: 1.4942 - val_mae: 1.2693\n",
      "Epoch 3/3\n",
      "2098/2098 [==============================] - 614s 293ms/step - loss: 2.2338 - rmse: 1.4946 - mae: 1.2824 - val_loss: 2.2304 - val_rmse: 1.4934 - val_mae: 1.2961\n"
     ]
    },
    {
     "data": {
      "text/plain": [
       "<tensorflow.python.keras.callbacks.History at 0x22c876a3cd0>"
      ]
     },
     "execution_count": 78,
     "metadata": {},
     "output_type": "execute_result"
    }
   ],
   "source": [
    "bert_classifier, bert_encoder = bert.bert_models.classifier_model(bert_config, num_labels=5)\n",
    "bert_classifier.compile(optimizer='adam', loss='mse', metrics=[tf.keras.metrics.RootMeanSquaredError('rmse'), 'mae'])\n",
    "bert_classifier.fit(X_train, y_train, validation_data=(X_test, y_test), batch_size=128, epochs=3)"
   ]
  },
  {
   "cell_type": "code",
   "execution_count": null,
   "metadata": {},
   "outputs": [],
   "source": []
  },
  {
   "cell_type": "markdown",
   "metadata": {},
   "source": [
    "### AdamW Opti"
   ]
  },
  {
   "cell_type": "code",
   "execution_count": 151,
   "metadata": {},
   "outputs": [
    {
     "name": "stderr",
     "output_type": "stream",
     "text": [
      "INFO:absl:using Adamw optimizer\n"
     ]
    }
   ],
   "source": [
    "# Set up epochs and steps\n",
    "epochs = 3\n",
    "batch_size = 128\n",
    "eval_batch_size = 32\n",
    "\n",
    "train_data_size = len(y_train)\n",
    "steps_per_epoch = int(train_data_size / batch_size)\n",
    "num_train_steps = steps_per_epoch * epochs\n",
    "warmup_steps = int(epochs * train_data_size * 0.1 / batch_size)\n",
    "\n",
    "# creates an optimizer with learning rate schedule\n",
    "optimizer = nlp.optimization.create_optimizer(2e-5, num_train_steps=num_train_steps, num_warmup_steps=warmup_steps)"
   ]
  },
  {
   "cell_type": "code",
   "execution_count": 152,
   "metadata": {},
   "outputs": [
    {
     "name": "stdout",
     "output_type": "stream",
     "text": [
      "Epoch 1/3\n",
      "2098/2098 [==============================] - 606s 289ms/step - loss: 2.8244 - rmse: 1.6806 - mae: 1.3796 - val_loss: 0.7311 - val_rmse: 0.8551 - val_mae: 0.6533\n",
      "Epoch 2/3\n",
      "2098/2098 [==============================] - 610s 291ms/step - loss: 0.6970 - rmse: 0.8348 - mae: 0.6267 - val_loss: 0.6556 - val_rmse: 0.8097 - val_mae: 0.5974\n",
      "Epoch 3/3\n",
      "2098/2098 [==============================] - 619s 295ms/step - loss: 0.6508 - rmse: 0.8067 - mae: 0.5984 - val_loss: 0.6436 - val_rmse: 0.8022 - val_mae: 0.5818\n"
     ]
    },
    {
     "data": {
      "text/plain": [
       "<tensorflow.python.keras.callbacks.History at 0x22c811375e0>"
      ]
     },
     "execution_count": 152,
     "metadata": {},
     "output_type": "execute_result"
    }
   ],
   "source": [
    "bert_classifier, bert_encoder = bert.bert_models.classifier_model(bert_config, num_labels=5)\n",
    "bert_classifier.compile(optimizer=optimizer, loss='mse', metrics=[tf.keras.metrics.RootMeanSquaredError('rmse'), 'mae'])\n",
    "bert_classifier.fit(X_train, y_train, validation_data=(X_test, y_test), batch_size=batch_size, epochs=epochs)"
   ]
  },
  {
   "cell_type": "code",
   "execution_count": null,
   "metadata": {},
   "outputs": [],
   "source": []
  },
  {
   "cell_type": "markdown",
   "metadata": {},
   "source": [
    "# Custom Bert"
   ]
  },
  {
   "cell_type": "code",
   "execution_count": 27,
   "metadata": {},
   "outputs": [
    {
     "name": "stderr",
     "output_type": "stream",
     "text": [
      "INFO:absl:using Adamw optimizer\n"
     ]
    }
   ],
   "source": [
    "# Set up epochs and steps\n",
    "epochs = 3\n",
    "batch_size = 128\n",
    "eval_batch_size = 32\n",
    "\n",
    "train_data_size = len(y_train)\n",
    "steps_per_epoch = int(train_data_size / batch_size)\n",
    "num_train_steps = steps_per_epoch * epochs\n",
    "warmup_steps = int(epochs * train_data_size * 0.1 / batch_size)\n",
    "\n",
    "# creates an optimizer with learning rate schedule\n",
    "optimizer = nlp.optimization.create_optimizer(2e-4, num_train_steps=num_train_steps, num_warmup_steps=warmup_steps)"
   ]
  },
  {
   "cell_type": "code",
   "execution_count": 28,
   "metadata": {},
   "outputs": [
    {
     "data": {
      "text/plain": [
       "{'hidden_size': 320,\n",
       " 'hidden_act': 'gelu',\n",
       " 'initializer_range': 0.02,\n",
       " 'vocab_size': 30522,\n",
       " 'hidden_dropout_prob': 0.1,\n",
       " 'num_attention_heads': 4,\n",
       " 'type_vocab_size': 2,\n",
       " 'max_position_embeddings': 256,\n",
       " 'num_hidden_layers': 4,\n",
       " 'intermediate_size': 1024,\n",
       " 'attention_probs_dropout_prob': 0.1}"
      ]
     },
     "execution_count": 28,
     "metadata": {},
     "output_type": "execute_result"
    }
   ],
   "source": [
    "bert_config_file = os.path.join(bert_folder, \"bert_config.json\")\n",
    "config_dict = json.loads(tf.io.gfile.GFile(bert_config_file).read())\n",
    "bert_config = bert.configs.BertConfig.from_dict(config_dict)\n",
    "config_dict"
   ]
  },
  {
   "cell_type": "code",
   "execution_count": 29,
   "metadata": {},
   "outputs": [
    {
     "name": "stdout",
     "output_type": "stream",
     "text": [
      "Epoch 1/3\n",
      "2098/2098 [==============================] - 774s 369ms/step - loss: 1.2053 - rmse: 1.0979 - mae: 0.7785 - val_loss: 0.5880 - val_rmse: 0.7668 - val_mae: 0.5117\n",
      "Epoch 2/3\n",
      "2098/2098 [==============================] - 772s 368ms/step - loss: 0.5581 - rmse: 0.7471 - mae: 0.5206 - val_loss: 0.5703 - val_rmse: 0.7552 - val_mae: 0.5077\n",
      "Epoch 3/3\n",
      "2098/2098 [==============================] - 774s 369ms/step - loss: 0.4944 - rmse: 0.7032 - mae: 0.4847 - val_loss: 0.5613 - val_rmse: 0.7492 - val_mae: 0.4898\n"
     ]
    },
    {
     "data": {
      "text/plain": [
       "<tensorflow.python.keras.callbacks.History at 0x17dc2666c10>"
      ]
     },
     "execution_count": 29,
     "metadata": {},
     "output_type": "execute_result"
    }
   ],
   "source": [
    "bert_classifier, bert_encoder = bert.bert_models.classifier_model(bert_config, num_labels=5)\n",
    "bert_classifier.compile(optimizer=optimizer, loss='mse', metrics=[tf.keras.metrics.RootMeanSquaredError('rmse'), 'mae'])\n",
    "bert_classifier.fit(X_train, y_train, validation_data=(X_test, y_test), batch_size=batch_size, epochs=epochs)"
   ]
  },
  {
   "cell_type": "code",
   "execution_count": null,
   "metadata": {},
   "outputs": [],
   "source": []
  },
  {
   "cell_type": "code",
   "execution_count": 31,
   "metadata": {},
   "outputs": [
    {
     "data": {
      "text/plain": [
       "{'hidden_size': 320,\n",
       " 'hidden_act': 'gelu',\n",
       " 'initializer_range': 0.02,\n",
       " 'vocab_size': 30522,\n",
       " 'hidden_dropout_prob': 0.1,\n",
       " 'num_attention_heads': 4,\n",
       " 'type_vocab_size': 2,\n",
       " 'max_position_embeddings': 256,\n",
       " 'num_hidden_layers': 4,\n",
       " 'intermediate_size': 1024,\n",
       " 'attention_probs_dropout_prob': 0.1}"
      ]
     },
     "execution_count": 31,
     "metadata": {},
     "output_type": "execute_result"
    }
   ],
   "source": [
    "bert_config_file = os.path.join(bert_folder, \"bert_config.json\")\n",
    "config_dict = json.loads(tf.io.gfile.GFile(bert_config_file).read())\n",
    "bert_config = bert.configs.BertConfig.from_dict(config_dict)\n",
    "config_dict"
   ]
  },
  {
   "cell_type": "code",
   "execution_count": 32,
   "metadata": {},
   "outputs": [
    {
     "name": "stderr",
     "output_type": "stream",
     "text": [
      "INFO:absl:using Adamw optimizer\n"
     ]
    },
    {
     "name": "stdout",
     "output_type": "stream",
     "text": [
      "Epoch 1/3\n",
      "2098/2098 [==============================] - 762s 363ms/step - loss: 0.9887 - rmse: 0.9943 - mae: 0.7039 - val_loss: 0.6490 - val_rmse: 0.8056 - val_mae: 0.5890\n",
      "Epoch 2/3\n",
      "2098/2098 [==============================] - 777s 370ms/step - loss: 0.5586 - rmse: 0.7474 - mae: 0.5217 - val_loss: 0.5753 - val_rmse: 0.7585 - val_mae: 0.5156\n",
      "Epoch 3/3\n",
      "2098/2098 [==============================] - 776s 370ms/step - loss: 0.4645 - rmse: 0.6816 - mae: 0.4704 - val_loss: 0.5623 - val_rmse: 0.7499 - val_mae: 0.4929\n"
     ]
    },
    {
     "data": {
      "text/plain": [
       "<tensorflow.python.keras.callbacks.History at 0x17dc0054580>"
      ]
     },
     "execution_count": 32,
     "metadata": {},
     "output_type": "execute_result"
    }
   ],
   "source": [
    "# creates an optimizer with learning rate schedule\n",
    "optimizer = nlp.optimization.create_optimizer(8e-4, num_train_steps=num_train_steps, num_warmup_steps=warmup_steps)\n",
    "\n",
    "bert_classifier, bert_encoder = bert.bert_models.classifier_model(bert_config, num_labels=5)\n",
    "bert_classifier.compile(optimizer=optimizer, loss='mse', metrics=[tf.keras.metrics.RootMeanSquaredError('rmse'), 'mae'])\n",
    "bert_classifier.fit(X_train, y_train, validation_data=(X_test, y_test), batch_size=batch_size, epochs=epochs)"
   ]
  },
  {
   "cell_type": "code",
   "execution_count": 33,
   "metadata": {},
   "outputs": [
    {
     "name": "stderr",
     "output_type": "stream",
     "text": [
      "INFO:absl:using Adamw optimizer\n"
     ]
    },
    {
     "name": "stdout",
     "output_type": "stream",
     "text": [
      "Epoch 1/3\n",
      "2098/2098 [==============================] - 752s 358ms/step - loss: 1.0371 - rmse: 1.0184 - mae: 0.7179 - val_loss: 0.5951 - val_rmse: 0.7714 - val_mae: 0.5283\n",
      "Epoch 2/3\n",
      "2098/2098 [==============================] - 746s 355ms/step - loss: 0.5486 - rmse: 0.7407 - mae: 0.5158 - val_loss: 0.5719 - val_rmse: 0.7562 - val_mae: 0.5025\n",
      "Epoch 3/3\n",
      "2098/2098 [==============================] - 746s 355ms/step - loss: 0.4626 - rmse: 0.6802 - mae: 0.4693 - val_loss: 0.5617 - val_rmse: 0.7495 - val_mae: 0.4860\n"
     ]
    },
    {
     "data": {
      "text/plain": [
       "<tensorflow.python.keras.callbacks.History at 0x17dd66d93d0>"
      ]
     },
     "execution_count": 33,
     "metadata": {},
     "output_type": "execute_result"
    }
   ],
   "source": [
    "# creates an optimizer with learning rate schedule\n",
    "optimizer = nlp.optimization.create_optimizer(5e-4, num_train_steps=num_train_steps, num_warmup_steps=warmup_steps)\n",
    "\n",
    "bert_classifier, bert_encoder = bert.bert_models.classifier_model(bert_config, num_labels=5)\n",
    "bert_classifier.compile(optimizer=optimizer, loss='mse', metrics=[tf.keras.metrics.RootMeanSquaredError('rmse'), 'mae'])\n",
    "bert_classifier.fit(X_train, y_train, validation_data=(X_test, y_test), batch_size=batch_size, epochs=epochs)"
   ]
  },
  {
   "cell_type": "code",
   "execution_count": null,
   "metadata": {},
   "outputs": [
    {
     "name": "stderr",
     "output_type": "stream",
     "text": [
      "INFO:absl:using Adamw optimizer\n"
     ]
    },
    {
     "name": "stdout",
     "output_type": "stream",
     "text": [
      "Epoch 1/3\n",
      " 190/2098 [=>............................] - ETA: 9:38 - loss: 3.2865 - rmse: 1.8129 - mae: 1.5322"
     ]
    }
   ],
   "source": [
    "# creates an optimizer with learning rate schedule\n",
    "optimizer = nlp.optimization.create_optimizer(5e-4, num_train_steps=num_train_steps, num_warmup_steps=warmup_steps)\n",
    "\n",
    "bert_classifier, bert_encoder = bert.bert_models.classifier_model(bert_config, num_labels=1)\n",
    "bert_classifier.compile(optimizer=optimizer, loss='mse', metrics=[tf.keras.metrics.RootMeanSquaredError('rmse'), 'mae'])\n",
    "bert_classifier.fit(X_train, y_train, validation_data=(X_test, y_test), batch_size=batch_size, epochs=epochs)"
   ]
  },
  {
   "cell_type": "code",
   "execution_count": null,
   "metadata": {},
   "outputs": [],
   "source": []
  },
  {
   "cell_type": "markdown",
   "metadata": {},
   "source": [
    "### Change dropout rate to 0.2"
   ]
  },
  {
   "cell_type": "code",
   "execution_count": null,
   "metadata": {},
   "outputs": [],
   "source": []
  },
  {
   "cell_type": "code",
   "execution_count": null,
   "metadata": {},
   "outputs": [],
   "source": []
  },
  {
   "cell_type": "code",
   "execution_count": null,
   "metadata": {},
   "outputs": [],
   "source": []
  },
  {
   "cell_type": "markdown",
   "metadata": {},
   "source": [
    "# Bert Embeddings"
   ]
  },
  {
   "cell_type": "code",
   "execution_count": 137,
   "metadata": {},
   "outputs": [],
   "source": [
    "max_seq_length = 150\n",
    "# Create datasets (Only take up to max_seq_length words for memory)\n",
    "train_text = X_train.tolist()\n",
    "train_text = [\" \".join(t.split()[0:max_seq_length]) for t in train_text]\n",
    "train_text = np.array(train_text, dtype=object)[:, np.newaxis]\n",
    "train_label = y_train.tolist()\n",
    "\n",
    "test_text = X_test.tolist()\n",
    "test_text = [\" \".join(t.split()[0:max_seq_length]) for t in test_text]\n",
    "test_text = np.array(test_text, dtype=object)[:, np.newaxis]\n",
    "test_label = y_test.tolist()"
   ]
  },
  {
   "cell_type": "code",
   "execution_count": 138,
   "metadata": {},
   "outputs": [
    {
     "name": "stdout",
     "output_type": "stream",
     "text": [
      "Vocab size: 30522\n"
     ]
    },
    {
     "name": "stderr",
     "output_type": "stream",
     "text": [
      "Converting examples to features: 100%|████████████████████████████████████████| 268540/268540 [05:24<00:00, 826.29it/s]\n",
      "Converting examples to features: 100%|████████████████████████████████████████| 132267/132267 [02:39<00:00, 831.33it/s]\n"
     ]
    }
   ],
   "source": [
    "\n",
    "# Set up tokenizer to generate Tensorflow dataset\n",
    "tokenizer = bert.tokenization.FullTokenizer(vocab_file=os.path.join(bert_folder, \"vocab.txt\"), do_lower_case=True)\n",
    "print(\"Vocab size:\", len(tokenizer.vocab))\n",
    "\n",
    "# Convert data to InputExample format\n",
    "train_examples = convert_text_to_examples(X_train, y_train)\n",
    "test_examples = convert_text_to_examples(X_test, y_test)\n",
    "\n",
    "# Convert to features\n",
    "(train_input_ids, train_input_masks, train_segment_ids, train_labels) = convert_examples_to_features(tokenizer, train_examples, max_seq_length=150)\n",
    "(test_input_ids, test_input_masks, test_segment_ids, test_labels) = convert_examples_to_features(tokenizer, test_examples, max_seq_length=150)"
   ]
  },
  {
   "cell_type": "code",
   "execution_count": 141,
   "metadata": {},
   "outputs": [],
   "source": [
    "# Build model\n",
    "def build_model(max_seq_length):\n",
    "    in_id = tf.keras.layers.Input(shape=(max_seq_length,), name=\"input_ids\")\n",
    "    in_mask = tf.keras.layers.Input(shape=(max_seq_length,), name=\"input_masks\")\n",
    "    in_segment = tf.keras.layers.Input(shape=(max_seq_length,), name=\"segment_ids\")\n",
    "    bert_inputs = [in_id, in_mask, in_segment]\n",
    "\n",
    "    bert_output = BertLayer(n_fine_tune_layers=3)(bert_inputs)\n",
    "    dense = tf.keras.layers.Dense(256, activation=\"relu\")(bert_output)\n",
    "    pred = tf.keras.layers.Dense(1, activation=\"sigmoid\")(dense)\n",
    "\n",
    "    model = tf.keras.models.Model(inputs=bert_inputs, outputs=pred)\n",
    "    model.compile(loss=\"binary_crossentropy\", optimizer=\"adam\", metrics=[\"accuracy\"])\n",
    "    model.summary()\n",
    "\n",
    "    return model"
   ]
  },
  {
   "cell_type": "code",
   "execution_count": null,
   "metadata": {},
   "outputs": [],
   "source": []
  },
  {
   "cell_type": "markdown",
   "metadata": {},
   "source": [
    "# Reference"
   ]
  },
  {
   "cell_type": "markdown",
   "metadata": {},
   "source": [
    "https://www.tensorflow.org/official_models/fine_tuning_bert"
   ]
  },
  {
   "cell_type": "markdown",
   "metadata": {},
   "source": [
    "https://stackabuse.com/text-classification-with-bert-tokenizer-and-tf-2-0-in-python/"
   ]
  },
  {
   "cell_type": "code",
   "execution_count": null,
   "metadata": {},
   "outputs": [],
   "source": []
  }
 ],
 "metadata": {
  "kernelspec": {
   "display_name": "Python 3",
   "language": "python",
   "name": "python3"
  },
  "language_info": {
   "codemirror_mode": {
    "name": "ipython",
    "version": 3
   },
   "file_extension": ".py",
   "mimetype": "text/x-python",
   "name": "python",
   "nbconvert_exporter": "python",
   "pygments_lexer": "ipython3",
   "version": "3.8.5"
  }
 },
 "nbformat": 4,
 "nbformat_minor": 4
}
