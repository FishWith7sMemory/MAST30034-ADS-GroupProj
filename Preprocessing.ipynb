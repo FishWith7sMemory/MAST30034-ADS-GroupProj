{
 "cells": [
  {
   "cell_type": "code",
   "execution_count": 1,
   "metadata": {},
   "outputs": [],
   "source": [
    "%run config.ipynb\n",
    "import nltk\n",
    "from nltk.tokenize import word_tokenize\n",
    "from nltk.corpus import stopwords\n",
    "from nltk.stem.porter import PorterStemmer\n",
    "import string\n",
    "import spacy\n",
    "import re\n",
    "import featuretools as ft\n",
    "\n",
    "import warnings\n",
    "warnings.filterwarnings('ignore')"
   ]
  },
  {
   "cell_type": "markdown",
   "metadata": {},
   "source": [
    "# Data Filtering"
   ]
  },
  {
   "cell_type": "code",
   "execution_count": 2,
   "metadata": {},
   "outputs": [],
   "source": [
    "business = pd.read_json(\"data/yelp_academic_dataset_business.json\", lines=True)\n",
    "checkin = pd.read_json(\"data/yelp_academic_dataset_checkin.json\", lines=True)\n",
    "# review = pd.read_csv(\"data/yelp_academic_dataset_sample_review.csv\")\n",
    "review = pd.read_csv(\"data/yelp_academic_dataset_sample005_review.csv\")\n",
    "tip = pd.read_json(\"data/yelp_academic_dataset_tip.json\", lines=True)\n",
    "user = pd.read_json(\"data/yelp_academic_dataset_user.json\", lines=True)"
   ]
  },
  {
   "cell_type": "markdown",
   "metadata": {},
   "source": [
    "### For User"
   ]
  },
  {
   "cell_type": "code",
   "execution_count": 6,
   "metadata": {},
   "outputs": [
    {
     "data": {
      "text/plain": [
       "user_id               0\n",
       "name                  0\n",
       "review_count          0\n",
       "yelping_since         0\n",
       "useful                0\n",
       "funny                 0\n",
       "cool                  0\n",
       "elite                 0\n",
       "friends               0\n",
       "fans                  0\n",
       "average_stars         0\n",
       "compliment_hot        0\n",
       "compliment_more       0\n",
       "compliment_profile    0\n",
       "compliment_cute       0\n",
       "compliment_list       0\n",
       "compliment_note       0\n",
       "compliment_plain      0\n",
       "compliment_cool       0\n",
       "compliment_funny      0\n",
       "compliment_writer     0\n",
       "compliment_photos     0\n",
       "dtype: int64"
      ]
     },
     "execution_count": 6,
     "metadata": {},
     "output_type": "execute_result"
    }
   ],
   "source": [
    "user.isnull().sum()"
   ]
  },
  {
   "cell_type": "markdown",
   "metadata": {},
   "source": [
    "It seems no missing value here"
   ]
  },
  {
   "cell_type": "code",
   "execution_count": 29,
   "metadata": {},
   "outputs": [
    {
     "name": "stdout",
     "output_type": "stream",
     "text": [
      "<class 'pandas.core.frame.DataFrame'>\n",
      "RangeIndex: 1968703 entries, 0 to 1968702\n",
      "Data columns (total 7 columns):\n",
      " #   Column             Dtype  \n",
      "---  ------             -----  \n",
      " 0   user_id            object \n",
      " 1   review_count       int64  \n",
      " 2   elite              int64  \n",
      " 3   friends            object \n",
      " 4   fans               int64  \n",
      " 5   average_stars      float64\n",
      " 6   total_compliments  int64  \n",
      "dtypes: float64(1), int64(4), object(2)\n",
      "memory usage: 105.1+ MB\n"
     ]
    }
   ],
   "source": [
    "user[\"total_compliments\"] = user[\"compliment_hot\"] + user[\"compliment_more\"] + user[\"compliment_profile\"] + user[\"compliment_cute\"] + \\\n",
    "                            user[\"compliment_list\"] + user[\"compliment_note\"] + user[\"compliment_plain\"] + user[\"compliment_cool\"] + \\\n",
    "                            user[\"compliment_funny\"] + user[\"compliment_writer\"] + user[\"compliment_photos\"]\n",
    "        \n",
    "def num_year(data):\n",
    "    return data.count(',') + 1 if data else 0\n",
    "user[\"elite\"] = user[\"elite\"].apply(num_year)\n",
    "\n",
    "user_filter = user[[\"user_id\", \"review_count\", \"elite\", \"friends\", \"fans\", \"average_stars\", \"total_compliments\"]]\n",
    "user_filter.info()"
   ]
  },
  {
   "cell_type": "markdown",
   "metadata": {},
   "source": [
    "### For Review"
   ]
  },
  {
   "cell_type": "code",
   "execution_count": 32,
   "metadata": {},
   "outputs": [
    {
     "data": {
      "text/plain": [
       "review_id                0\n",
       "user_id                  0\n",
       "business_id              0\n",
       "stars                    0\n",
       "useful                   0\n",
       "funny                    0\n",
       "cool                     0\n",
       "text                     0\n",
       "date                     0\n",
       "text_after_cleaning    128\n",
       "dtype: int64"
      ]
     },
     "execution_count": 32,
     "metadata": {},
     "output_type": "execute_result"
    }
   ],
   "source": [
    "review.isnull().sum()"
   ]
  },
  {
   "cell_type": "code",
   "execution_count": 35,
   "metadata": {
    "scrolled": true
   },
   "outputs": [
    {
     "data": {
      "text/html": [
       "<div>\n",
       "<style scoped>\n",
       "    .dataframe tbody tr th:only-of-type {\n",
       "        vertical-align: middle;\n",
       "    }\n",
       "\n",
       "    .dataframe tbody tr th {\n",
       "        vertical-align: top;\n",
       "    }\n",
       "\n",
       "    .dataframe thead th {\n",
       "        text-align: right;\n",
       "    }\n",
       "</style>\n",
       "<table border=\"1\" class=\"dataframe\">\n",
       "  <thead>\n",
       "    <tr style=\"text-align: right;\">\n",
       "      <th></th>\n",
       "      <th>review_id</th>\n",
       "      <th>user_id</th>\n",
       "      <th>business_id</th>\n",
       "      <th>stars</th>\n",
       "      <th>useful</th>\n",
       "      <th>funny</th>\n",
       "      <th>cool</th>\n",
       "      <th>text</th>\n",
       "      <th>date</th>\n",
       "      <th>text_after_cleaning</th>\n",
       "    </tr>\n",
       "  </thead>\n",
       "  <tbody>\n",
       "    <tr>\n",
       "      <th>7760</th>\n",
       "      <td>kiUtkGN4wwhiiHzpLr87iQ</td>\n",
       "      <td>z9w399cBpCAKXhH_JA1AtQ</td>\n",
       "      <td>f6eYVrrILm5mcPqWKoMiHg</td>\n",
       "      <td>3</td>\n",
       "      <td>1</td>\n",
       "      <td>0</td>\n",
       "      <td>0</td>\n",
       "      <td>Galleria韩国超市越开越多啦，除了uptown yonge st,开到downtown...</td>\n",
       "      <td>2017-09-21 02:21:02</td>\n",
       "      <td>NaN</td>\n",
       "    </tr>\n",
       "    <tr>\n",
       "      <th>15545</th>\n",
       "      <td>vbkFw-odUg2qmKaruttAZg</td>\n",
       "      <td>z9w399cBpCAKXhH_JA1AtQ</td>\n",
       "      <td>zEDzeZzGYSyg0DHurOv7yw</td>\n",
       "      <td>4</td>\n",
       "      <td>1</td>\n",
       "      <td>0</td>\n",
       "      <td>0</td>\n",
       "      <td>比较出名的大型装修用品连锁店，好多地区都有分店，从大件的木板或家具，到小小的零件配件制品，房...</td>\n",
       "      <td>2018-06-06 14:40:06</td>\n",
       "      <td>NaN</td>\n",
       "    </tr>\n",
       "    <tr>\n",
       "      <th>15656</th>\n",
       "      <td>6cbV6l5153ujkEHOkVdE0w</td>\n",
       "      <td>uUkYprg5GP-ExpexAP2s_g</td>\n",
       "      <td>cC9wi58GkVqWDHhc0rYxeQ</td>\n",
       "      <td>5</td>\n",
       "      <td>0</td>\n",
       "      <td>0</td>\n",
       "      <td>0</td>\n",
       "      <td>They are great with big dogs (Newfoundland) !</td>\n",
       "      <td>2011-12-03 01:33:38</td>\n",
       "      <td>NaN</td>\n",
       "    </tr>\n",
       "    <tr>\n",
       "      <th>20135</th>\n",
       "      <td>OVv88r8ivIwd5_QfDUErzQ</td>\n",
       "      <td>z9w399cBpCAKXhH_JA1AtQ</td>\n",
       "      <td>aEoNNQxqvbSnXv65GrhBeQ</td>\n",
       "      <td>5</td>\n",
       "      <td>2</td>\n",
       "      <td>0</td>\n",
       "      <td>0</td>\n",
       "      <td>听朋友讲Taro fish原是J-Town的鱼市场，后来摆左离sheappard呢个不显眼的...</td>\n",
       "      <td>2017-09-24 05:50:29</td>\n",
       "      <td>NaN</td>\n",
       "    </tr>\n",
       "    <tr>\n",
       "      <th>22574</th>\n",
       "      <td>Dpeg84lcYd776Ddc8CRVsg</td>\n",
       "      <td>guZajdPCJAPKOjoSCROjxA</td>\n",
       "      <td>iOtyjeDgW4hE25gKCwS8IQ</td>\n",
       "      <td>5</td>\n",
       "      <td>0</td>\n",
       "      <td>0</td>\n",
       "      <td>0</td>\n",
       "      <td>Richmond Hillにある中華料理屋さん。\\n駐車場スペースが十分にあるモール内にあり...</td>\n",
       "      <td>2019-10-29 05:04:20</td>\n",
       "      <td>NaN</td>\n",
       "    </tr>\n",
       "    <tr>\n",
       "      <th>...</th>\n",
       "      <td>...</td>\n",
       "      <td>...</td>\n",
       "      <td>...</td>\n",
       "      <td>...</td>\n",
       "      <td>...</td>\n",
       "      <td>...</td>\n",
       "      <td>...</td>\n",
       "      <td>...</td>\n",
       "      <td>...</td>\n",
       "      <td>...</td>\n",
       "    </tr>\n",
       "    <tr>\n",
       "      <th>390714</th>\n",
       "      <td>kOm0zGlVv4uqXdRGifhkVA</td>\n",
       "      <td>mwQGpaorccJZvMFwEn4BsQ</td>\n",
       "      <td>3_tWe-D5if9y8RrmMrN7AQ</td>\n",
       "      <td>5</td>\n",
       "      <td>3</td>\n",
       "      <td>0</td>\n",
       "      <td>0</td>\n",
       "      <td>適正なお値段でちゃんとした美味しい日本料理を出してくれる、日本人の板さんによる日本食レストラ...</td>\n",
       "      <td>2016-01-27 00:23:13</td>\n",
       "      <td>NaN</td>\n",
       "    </tr>\n",
       "    <tr>\n",
       "      <th>392845</th>\n",
       "      <td>2zKgJ2GFW3FfByBBvDhidw</td>\n",
       "      <td>9zZu7qp693UyfaB-o1C6dg</td>\n",
       "      <td>lO2fIIZj225NIk5t2k69NA</td>\n",
       "      <td>5</td>\n",
       "      <td>0</td>\n",
       "      <td>0</td>\n",
       "      <td>0</td>\n",
       "      <td>來美國二十天，最好吃的中餐，口味十分接近香港。已成為我在Vegas 的飯堂！已經光顧不下十次...</td>\n",
       "      <td>2018-06-09 06:14:26</td>\n",
       "      <td>NaN</td>\n",
       "    </tr>\n",
       "    <tr>\n",
       "      <th>393201</th>\n",
       "      <td>TqMrXJp3LvovwO7M7R8JOQ</td>\n",
       "      <td>gOPm2yoe38_OM6x4NIwLEw</td>\n",
       "      <td>LYpujMCxfrHcSO_NA1BRQg</td>\n",
       "      <td>5</td>\n",
       "      <td>0</td>\n",
       "      <td>0</td>\n",
       "      <td>0</td>\n",
       "      <td>Low-key and friendly mimosa-and-quiche kind of...</td>\n",
       "      <td>2009-02-15 17:12:46</td>\n",
       "      <td>NaN</td>\n",
       "    </tr>\n",
       "    <tr>\n",
       "      <th>395207</th>\n",
       "      <td>1P8tpqlemFi7Kjg1shFFeA</td>\n",
       "      <td>ZZJT_M20GPXCDTRCjtC-VA</td>\n",
       "      <td>HtbGxP9QuXp3sWfPoXhbpA</td>\n",
       "      <td>5</td>\n",
       "      <td>0</td>\n",
       "      <td>0</td>\n",
       "      <td>0</td>\n",
       "      <td>Excellent restaurant. Le propriétaire est très...</td>\n",
       "      <td>2016-02-20 22:42:48</td>\n",
       "      <td>NaN</td>\n",
       "    </tr>\n",
       "    <tr>\n",
       "      <th>399959</th>\n",
       "      <td>5cmocYhKPKAkHnzLRYlZPQ</td>\n",
       "      <td>V0L6FjJ1WqiMu4wUrOI6Cw</td>\n",
       "      <td>tj2ig0fDBrY36S6PjyOajA</td>\n",
       "      <td>5</td>\n",
       "      <td>1</td>\n",
       "      <td>2</td>\n",
       "      <td>0</td>\n",
       "      <td>:)</td>\n",
       "      <td>2016-09-10 03:18:00</td>\n",
       "      <td>NaN</td>\n",
       "    </tr>\n",
       "  </tbody>\n",
       "</table>\n",
       "<p>128 rows × 10 columns</p>\n",
       "</div>"
      ],
      "text/plain": [
       "                     review_id                 user_id  \\\n",
       "7760    kiUtkGN4wwhiiHzpLr87iQ  z9w399cBpCAKXhH_JA1AtQ   \n",
       "15545   vbkFw-odUg2qmKaruttAZg  z9w399cBpCAKXhH_JA1AtQ   \n",
       "15656   6cbV6l5153ujkEHOkVdE0w  uUkYprg5GP-ExpexAP2s_g   \n",
       "20135   OVv88r8ivIwd5_QfDUErzQ  z9w399cBpCAKXhH_JA1AtQ   \n",
       "22574   Dpeg84lcYd776Ddc8CRVsg  guZajdPCJAPKOjoSCROjxA   \n",
       "...                        ...                     ...   \n",
       "390714  kOm0zGlVv4uqXdRGifhkVA  mwQGpaorccJZvMFwEn4BsQ   \n",
       "392845  2zKgJ2GFW3FfByBBvDhidw  9zZu7qp693UyfaB-o1C6dg   \n",
       "393201  TqMrXJp3LvovwO7M7R8JOQ  gOPm2yoe38_OM6x4NIwLEw   \n",
       "395207  1P8tpqlemFi7Kjg1shFFeA  ZZJT_M20GPXCDTRCjtC-VA   \n",
       "399959  5cmocYhKPKAkHnzLRYlZPQ  V0L6FjJ1WqiMu4wUrOI6Cw   \n",
       "\n",
       "                   business_id  stars  useful  funny  cool  \\\n",
       "7760    f6eYVrrILm5mcPqWKoMiHg      3       1      0     0   \n",
       "15545   zEDzeZzGYSyg0DHurOv7yw      4       1      0     0   \n",
       "15656   cC9wi58GkVqWDHhc0rYxeQ      5       0      0     0   \n",
       "20135   aEoNNQxqvbSnXv65GrhBeQ      5       2      0     0   \n",
       "22574   iOtyjeDgW4hE25gKCwS8IQ      5       0      0     0   \n",
       "...                        ...    ...     ...    ...   ...   \n",
       "390714  3_tWe-D5if9y8RrmMrN7AQ      5       3      0     0   \n",
       "392845  lO2fIIZj225NIk5t2k69NA      5       0      0     0   \n",
       "393201  LYpujMCxfrHcSO_NA1BRQg      5       0      0     0   \n",
       "395207  HtbGxP9QuXp3sWfPoXhbpA      5       0      0     0   \n",
       "399959  tj2ig0fDBrY36S6PjyOajA      5       1      2     0   \n",
       "\n",
       "                                                     text  \\\n",
       "7760    Galleria韩国超市越开越多啦，除了uptown yonge st,开到downtown...   \n",
       "15545   比较出名的大型装修用品连锁店，好多地区都有分店，从大件的木板或家具，到小小的零件配件制品，房...   \n",
       "15656       They are great with big dogs (Newfoundland) !   \n",
       "20135   听朋友讲Taro fish原是J-Town的鱼市场，后来摆左离sheappard呢个不显眼的...   \n",
       "22574   Richmond Hillにある中華料理屋さん。\\n駐車場スペースが十分にあるモール内にあり...   \n",
       "...                                                   ...   \n",
       "390714  適正なお値段でちゃんとした美味しい日本料理を出してくれる、日本人の板さんによる日本食レストラ...   \n",
       "392845  來美國二十天，最好吃的中餐，口味十分接近香港。已成為我在Vegas 的飯堂！已經光顧不下十次...   \n",
       "393201  Low-key and friendly mimosa-and-quiche kind of...   \n",
       "395207  Excellent restaurant. Le propriétaire est très...   \n",
       "399959                                                 :)   \n",
       "\n",
       "                       date text_after_cleaning  \n",
       "7760    2017-09-21 02:21:02                 NaN  \n",
       "15545   2018-06-06 14:40:06                 NaN  \n",
       "15656   2011-12-03 01:33:38                 NaN  \n",
       "20135   2017-09-24 05:50:29                 NaN  \n",
       "22574   2019-10-29 05:04:20                 NaN  \n",
       "...                     ...                 ...  \n",
       "390714  2016-01-27 00:23:13                 NaN  \n",
       "392845  2018-06-09 06:14:26                 NaN  \n",
       "393201  2009-02-15 17:12:46                 NaN  \n",
       "395207  2016-02-20 22:42:48                 NaN  \n",
       "399959  2016-09-10 03:18:00                 NaN  \n",
       "\n",
       "[128 rows x 10 columns]"
      ]
     },
     "execution_count": 35,
     "metadata": {},
     "output_type": "execute_result"
    }
   ],
   "source": [
    "review[review[\"text_after_cleaning\"].isnull()]"
   ]
  },
  {
   "cell_type": "code",
   "execution_count": 37,
   "metadata": {},
   "outputs": [],
   "source": [
    "review.dropna(inplace=True)"
   ]
  },
  {
   "cell_type": "markdown",
   "metadata": {},
   "source": [
    "This project is only study on English"
   ]
  },
  {
   "cell_type": "code",
   "execution_count": 38,
   "metadata": {},
   "outputs": [
    {
     "name": "stdout",
     "output_type": "stream",
     "text": [
      "<class 'pandas.core.frame.DataFrame'>\n",
      "Int64Index: 400928 entries, 0 to 401055\n",
      "Data columns (total 6 columns):\n",
      " #   Column               Non-Null Count   Dtype \n",
      "---  ------               --------------   ----- \n",
      " 0   review_id            400928 non-null  object\n",
      " 1   user_id              400928 non-null  object\n",
      " 2   business_id          400928 non-null  object\n",
      " 3   stars                400928 non-null  int64 \n",
      " 4   text                 400928 non-null  object\n",
      " 5   text_after_cleaning  400928 non-null  object\n",
      "dtypes: int64(1), object(5)\n",
      "memory usage: 21.4+ MB\n"
     ]
    }
   ],
   "source": [
    "review_filter = review[[\"review_id\", \"user_id\", \"business_id\", \"stars\", \"text\"]]\n",
    "review_filter.info()"
   ]
  },
  {
   "cell_type": "markdown",
   "metadata": {},
   "source": [
    "### For Business"
   ]
  },
  {
   "cell_type": "code",
   "execution_count": null,
   "metadata": {},
   "outputs": [],
   "source": [
    "business.info()"
   ]
  },
  {
   "cell_type": "code",
   "execution_count": null,
   "metadata": {},
   "outputs": [],
   "source": [
    "business_filter = business[[\"business_id\", \"name\", \"categories\"]]\n",
    "business_filter[\"business_stars\"] = business[\"stars\"]\n",
    "business_filter.info()"
   ]
  },
  {
   "cell_type": "markdown",
   "metadata": {},
   "source": [
    "### Merging"
   ]
  },
  {
   "cell_type": "code",
   "execution_count": 52,
   "metadata": {},
   "outputs": [
    {
     "data": {
      "text/plain": [
       "Index(['user_id', 'user_review_count', 'user_elite', 'user_friends',\n",
       "       'user_fans', 'user_average_stars', 'user_total_compliments'],\n",
       "      dtype='object')"
      ]
     },
     "execution_count": 52,
     "metadata": {},
     "output_type": "execute_result"
    }
   ],
   "source": [
    "user_filter.columns = [i if '_id' in i else 'user_'+i for i in user_filter.columns]\n",
    "user_filter.columns"
   ]
  },
  {
   "cell_type": "code",
   "execution_count": 55,
   "metadata": {},
   "outputs": [
    {
     "data": {
      "text/plain": [
       "Index(['review_id', 'user_id', 'business_id', 'review_stars', 'review_text',\n",
       "       'review_text_after_cleaning'],\n",
       "      dtype='object')"
      ]
     },
     "execution_count": 55,
     "metadata": {},
     "output_type": "execute_result"
    }
   ],
   "source": [
    "review_filter.columns = [i if '_id' in i else 'review_'+i for i in review_filter.columns]\n",
    "review_filter.columns"
   ]
  },
  {
   "cell_type": "code",
   "execution_count": 57,
   "metadata": {},
   "outputs": [
    {
     "data": {
      "text/plain": [
       "Index(['business_id', 'business_name', 'business_categories',\n",
       "       'business_stars'],\n",
       "      dtype='object')"
      ]
     },
     "execution_count": 57,
     "metadata": {},
     "output_type": "execute_result"
    }
   ],
   "source": [
    "business_filter.columns = [i if '_id' in i or 'business' in i else 'business_'+i for i in business_filter.columns]\n",
    "business_filter.columns"
   ]
  },
  {
   "cell_type": "code",
   "execution_count": 72,
   "metadata": {},
   "outputs": [],
   "source": [
    "df = review_filter.merge(user_filter, on='user_id')"
   ]
  },
  {
   "cell_type": "code",
   "execution_count": 73,
   "metadata": {},
   "outputs": [],
   "source": [
    "df = df.merge(business_filter, on='business_id')"
   ]
  },
  {
   "cell_type": "code",
   "execution_count": 74,
   "metadata": {},
   "outputs": [
    {
     "name": "stdout",
     "output_type": "stream",
     "text": [
      "<class 'pandas.core.frame.DataFrame'>\n",
      "Int64Index: 400928 entries, 0 to 400927\n",
      "Data columns (total 15 columns):\n",
      " #   Column                      Non-Null Count   Dtype  \n",
      "---  ------                      --------------   -----  \n",
      " 0   review_id                   400928 non-null  object \n",
      " 1   user_id                     400928 non-null  object \n",
      " 2   business_id                 400928 non-null  object \n",
      " 3   review_stars                400928 non-null  int64  \n",
      " 4   review_text                 400928 non-null  object \n",
      " 5   review_text_after_cleaning  400928 non-null  object \n",
      " 6   user_review_count           400928 non-null  int64  \n",
      " 7   user_elite                  400928 non-null  int64  \n",
      " 8   user_friends                400928 non-null  object \n",
      " 9   user_fans                   400928 non-null  int64  \n",
      " 10  user_average_stars          400928 non-null  float64\n",
      " 11  user_total_compliments      400928 non-null  int64  \n",
      " 12  business_name               400928 non-null  object \n",
      " 13  business_categories         400807 non-null  object \n",
      " 14  business_stars              400928 non-null  float64\n",
      "dtypes: float64(2), int64(5), object(8)\n",
      "memory usage: 48.9+ MB\n"
     ]
    }
   ],
   "source": [
    "df.info()"
   ]
  },
  {
   "cell_type": "code",
   "execution_count": 75,
   "metadata": {},
   "outputs": [
    {
     "name": "stdout",
     "output_type": "stream",
     "text": [
      "<class 'pandas.core.frame.DataFrame'>\n",
      "Int64Index: 400807 entries, 0 to 400927\n",
      "Data columns (total 15 columns):\n",
      " #   Column                      Non-Null Count   Dtype  \n",
      "---  ------                      --------------   -----  \n",
      " 0   review_id                   400807 non-null  object \n",
      " 1   user_id                     400807 non-null  object \n",
      " 2   business_id                 400807 non-null  object \n",
      " 3   review_stars                400807 non-null  int64  \n",
      " 4   review_text                 400807 non-null  object \n",
      " 5   review_text_after_cleaning  400807 non-null  object \n",
      " 6   user_review_count           400807 non-null  int64  \n",
      " 7   user_elite                  400807 non-null  int64  \n",
      " 8   user_friends                400807 non-null  object \n",
      " 9   user_fans                   400807 non-null  int64  \n",
      " 10  user_average_stars          400807 non-null  float64\n",
      " 11  user_total_compliments      400807 non-null  int64  \n",
      " 12  business_name               400807 non-null  object \n",
      " 13  business_categories         400807 non-null  object \n",
      " 14  business_stars              400807 non-null  float64\n",
      "dtypes: float64(2), int64(5), object(8)\n",
      "memory usage: 48.9+ MB\n"
     ]
    }
   ],
   "source": [
    "df = df[~df[\"business_categories\"].isnull()]\n",
    "df.info()"
   ]
  },
  {
   "cell_type": "code",
   "execution_count": 76,
   "metadata": {},
   "outputs": [
    {
     "data": {
      "text/html": [
       "<div>\n",
       "<style scoped>\n",
       "    .dataframe tbody tr th:only-of-type {\n",
       "        vertical-align: middle;\n",
       "    }\n",
       "\n",
       "    .dataframe tbody tr th {\n",
       "        vertical-align: top;\n",
       "    }\n",
       "\n",
       "    .dataframe thead th {\n",
       "        text-align: right;\n",
       "    }\n",
       "</style>\n",
       "<table border=\"1\" class=\"dataframe\">\n",
       "  <thead>\n",
       "    <tr style=\"text-align: right;\">\n",
       "      <th></th>\n",
       "      <th>review_id</th>\n",
       "      <th>user_id</th>\n",
       "      <th>business_id</th>\n",
       "      <th>review_stars</th>\n",
       "      <th>review_text</th>\n",
       "      <th>review_text_after_cleaning</th>\n",
       "      <th>user_review_count</th>\n",
       "      <th>user_elite</th>\n",
       "      <th>user_friends</th>\n",
       "      <th>user_fans</th>\n",
       "      <th>user_average_stars</th>\n",
       "      <th>user_total_compliments</th>\n",
       "      <th>business_name</th>\n",
       "      <th>business_categories</th>\n",
       "      <th>business_stars</th>\n",
       "    </tr>\n",
       "  </thead>\n",
       "  <tbody>\n",
       "    <tr>\n",
       "      <th>0</th>\n",
       "      <td>yNB39szX3M8mTEzTtsgoCw</td>\n",
       "      <td>Y1iCYGvLf4ifPoXlKLGq-w</td>\n",
       "      <td>o2Qh4SiGYJ7BK4hP7dfkrw</td>\n",
       "      <td>5</td>\n",
       "      <td>This is an amazing indian Bistro!!I If I do sa...</td>\n",
       "      <td>amaz bistroi say myself never cuisin glad expe...</td>\n",
       "      <td>1</td>\n",
       "      <td>0</td>\n",
       "      <td>None</td>\n",
       "      <td>0</td>\n",
       "      <td>5.0</td>\n",
       "      <td>0</td>\n",
       "      <td>Saffron Indian Bistro</td>\n",
       "      <td>Restaurants, Indian</td>\n",
       "      <td>4.5</td>\n",
       "    </tr>\n",
       "  </tbody>\n",
       "</table>\n",
       "</div>"
      ],
      "text/plain": [
       "                review_id                 user_id             business_id  \\\n",
       "0  yNB39szX3M8mTEzTtsgoCw  Y1iCYGvLf4ifPoXlKLGq-w  o2Qh4SiGYJ7BK4hP7dfkrw   \n",
       "\n",
       "   review_stars                                        review_text  \\\n",
       "0             5  This is an amazing indian Bistro!!I If I do sa...   \n",
       "\n",
       "                          review_text_after_cleaning  user_review_count  \\\n",
       "0  amaz bistroi say myself never cuisin glad expe...                  1   \n",
       "\n",
       "   user_elite user_friends  user_fans  user_average_stars  \\\n",
       "0           0         None          0                 5.0   \n",
       "\n",
       "   user_total_compliments          business_name  business_categories  \\\n",
       "0                       0  Saffron Indian Bistro  Restaurants, Indian   \n",
       "\n",
       "   business_stars  \n",
       "0             4.5  "
      ]
     },
     "execution_count": 76,
     "metadata": {},
     "output_type": "execute_result"
    }
   ],
   "source": [
    "df.head(1)"
   ]
  },
  {
   "cell_type": "code",
   "execution_count": 77,
   "metadata": {},
   "outputs": [],
   "source": [
    "df.to_csv(\"data/yelp_academic_dataset_sample005_filter.csv\", index=False)"
   ]
  },
  {
   "cell_type": "code",
   "execution_count": null,
   "metadata": {},
   "outputs": [],
   "source": []
  },
  {
   "cell_type": "markdown",
   "metadata": {},
   "source": [
    "# Preprocessing"
   ]
  },
  {
   "cell_type": "code",
   "execution_count": null,
   "metadata": {},
   "outputs": [],
   "source": [
    "df = pd.read_csv(\"data/yelp_academic_dataset_sample005_filter.csv\")"
   ]
  },
  {
   "cell_type": "markdown",
   "metadata": {},
   "source": [
    "### Text Cleaning"
   ]
  },
  {
   "cell_type": "code",
   "execution_count": 4,
   "metadata": {},
   "outputs": [],
   "source": [
    "X = df[\"text\"]\n",
    "nlp = spacy.load(\"en_core_web_lg\")\n",
    "stop_words = set(stopwords.words('english')) "
   ]
  },
  {
   "cell_type": "code",
   "execution_count": 5,
   "metadata": {},
   "outputs": [],
   "source": [
    "SYMBOL_RE = re.compile('[/(){}\\[\\]\\|@,.:!?;\\-*]')\n",
    "# website regex is from https://regexr.com/3e4a2\n",
    "WEBSITES_RE = re.compile('(https?:\\/\\/)?(www\\.)[-a-zA-Z0-9@:%._\\+~#=]{2,256}\\.[a-z]{2,4}\\b([-a-zA-Z0-9@:%_\\+.~#?&//=]*)| \\\n",
    "                         (https?:\\/\\/)?(www\\.)?(?!ww)[-a-zA-Z0-9@:%._\\+~#=]{2,256}\\.[a-z]{2,4}\\b([-a-zA-Z0-9@:%_\\+.~#?&//=]*)')\n",
    "ABBR_RE = re.compile('[a-z]*[\\'][^ ]*')\n",
    "def clean_text(text):\n",
    "    text = text.lower()\n",
    "\n",
    "    text = WEBSITES_RE.sub('', text)\n",
    "    text = ' '.join(word for word in text.split() if word not in stop_words)\n",
    "    text = SYMBOL_RE.sub('', text)\n",
    "    text = ABBR_RE.sub('', text)\n",
    "\n",
    "    # remove entities as they are meaningless in most times\n",
    "    for ent in nlp(text).ents:\n",
    "        text = text.replace(str(ent), '')\n",
    "        \n",
    "    tokens = word_tokenize(text)\n",
    "    table = str.maketrans('', '', string.punctuation)\n",
    "    stripped = [word.translate(table) for word in tokens]\n",
    "    porter = PorterStemmer()\n",
    "    stemmed = [porter.stem(word) for word in stripped]\n",
    "    text = ' '.join(word for word in stemmed if word.isalpha())\n",
    "    \n",
    "    return text"
   ]
  },
  {
   "cell_type": "code",
   "execution_count": 6,
   "metadata": {},
   "outputs": [],
   "source": [
    "# run the commented line if you want to reproduce the X\n",
    "# Note: This process will a long time to run, so make sure you create a copy yourself after finish\n",
    "# X = X.apply(clean_text)\n",
    "X = df[\"text_after_cleaning\"]"
   ]
  },
  {
   "cell_type": "code",
   "execution_count": 7,
   "metadata": {},
   "outputs": [
    {
     "data": {
      "text/plain": [
       "0         amaz bistroi say myself never cuisin glad expe...\n",
       "1         food amaz waitress super nice would definit co...\n",
       "2         tri go sweet tooth line door opt tri place ins...\n",
       "3         rate beer rate higher star make long stori sho...\n",
       "4         tri place time got burrito soft taco thought f...\n",
       "                                ...                        \n",
       "401051    per usual tradit went fondu festiv glad open l...\n",
       "401052    awesom quick servic staff polit out even rotat...\n",
       "401053    bunch friend go sinc open usual fall winter co...\n",
       "401054    donat reason give star start get cheap everyth...\n",
       "401055    place great servic except owner best search ha...\n",
       "Name: text_after_cleaning, Length: 401056, dtype: object"
      ]
     },
     "execution_count": 7,
     "metadata": {},
     "output_type": "execute_result"
    }
   ],
   "source": [
    "X"
   ]
  },
  {
   "cell_type": "markdown",
   "metadata": {},
   "source": [
    "### Feature Engineering "
   ]
  },
  {
   "cell_type": "code",
   "execution_count": 78,
   "metadata": {},
   "outputs": [
    {
     "data": {
      "text/html": [
       "<div>\n",
       "<style scoped>\n",
       "    .dataframe tbody tr th:only-of-type {\n",
       "        vertical-align: middle;\n",
       "    }\n",
       "\n",
       "    .dataframe tbody tr th {\n",
       "        vertical-align: top;\n",
       "    }\n",
       "\n",
       "    .dataframe thead th {\n",
       "        text-align: right;\n",
       "    }\n",
       "</style>\n",
       "<table border=\"1\" class=\"dataframe\">\n",
       "  <thead>\n",
       "    <tr style=\"text-align: right;\">\n",
       "      <th></th>\n",
       "      <th>review_id</th>\n",
       "      <th>user_id</th>\n",
       "      <th>business_id</th>\n",
       "      <th>review_stars</th>\n",
       "      <th>review_text</th>\n",
       "      <th>review_text_after_cleaning</th>\n",
       "      <th>user_review_count</th>\n",
       "      <th>user_elite</th>\n",
       "      <th>user_friends</th>\n",
       "      <th>user_fans</th>\n",
       "      <th>user_average_stars</th>\n",
       "      <th>user_total_compliments</th>\n",
       "      <th>business_name</th>\n",
       "      <th>business_categories</th>\n",
       "      <th>business_stars</th>\n",
       "    </tr>\n",
       "  </thead>\n",
       "  <tbody>\n",
       "    <tr>\n",
       "      <th>0</th>\n",
       "      <td>yNB39szX3M8mTEzTtsgoCw</td>\n",
       "      <td>Y1iCYGvLf4ifPoXlKLGq-w</td>\n",
       "      <td>o2Qh4SiGYJ7BK4hP7dfkrw</td>\n",
       "      <td>5</td>\n",
       "      <td>This is an amazing indian Bistro!!I If I do sa...</td>\n",
       "      <td>amaz bistroi say myself never cuisin glad expe...</td>\n",
       "      <td>1</td>\n",
       "      <td>0</td>\n",
       "      <td>None</td>\n",
       "      <td>0</td>\n",
       "      <td>5.0</td>\n",
       "      <td>0</td>\n",
       "      <td>Saffron Indian Bistro</td>\n",
       "      <td>Restaurants, Indian</td>\n",
       "      <td>4.5</td>\n",
       "    </tr>\n",
       "  </tbody>\n",
       "</table>\n",
       "</div>"
      ],
      "text/plain": [
       "                review_id                 user_id             business_id  \\\n",
       "0  yNB39szX3M8mTEzTtsgoCw  Y1iCYGvLf4ifPoXlKLGq-w  o2Qh4SiGYJ7BK4hP7dfkrw   \n",
       "\n",
       "   review_stars                                        review_text  \\\n",
       "0             5  This is an amazing indian Bistro!!I If I do sa...   \n",
       "\n",
       "                          review_text_after_cleaning  user_review_count  \\\n",
       "0  amaz bistroi say myself never cuisin glad expe...                  1   \n",
       "\n",
       "   user_elite user_friends  user_fans  user_average_stars  \\\n",
       "0           0         None          0                 5.0   \n",
       "\n",
       "   user_total_compliments          business_name  business_categories  \\\n",
       "0                       0  Saffron Indian Bistro  Restaurants, Indian   \n",
       "\n",
       "   business_stars  \n",
       "0             4.5  "
      ]
     },
     "execution_count": 78,
     "metadata": {},
     "output_type": "execute_result"
    }
   ],
   "source": [
    "df.head(1)"
   ]
  },
  {
   "cell_type": "code",
   "execution_count": 79,
   "metadata": {},
   "outputs": [
    {
     "data": {
      "text/plain": [
       "Entityset: yelp\n",
       "  Entities:\n",
       "    review [Rows: 400807, Columns: 15]\n",
       "  Relationships:\n",
       "    No relationships"
      ]
     },
     "execution_count": 79,
     "metadata": {},
     "output_type": "execute_result"
    }
   ],
   "source": [
    "es = ft.EntitySet(\"yelp\")\n",
    "es = es.entity_from_dataframe(entity_id = 'review', dataframe = df, index = 'review_id')\n",
    "# The following commented codes can be used for the raw dataset\n",
    "# es = es.entity_from_dataframe(entity_id = 'user', dataframe = user, index = 'user_id')\n",
    "# es = es.entity_from_dataframe(entity_id = 'review', dataframe = review, index = 'review_id')\n",
    "# es = es.entity_from_dataframe(entity_id = 'tip', dataframe = tip, index = 'user_id')\n",
    "# es = es.entity_from_dataframe(entity_id = 'business', dataframe = business, index = 'business_id')\n",
    "# es = es.entity_from_dataframe(entity_id = 'check_in', dataframe = check_in, index = 'business_id')\n",
    "es"
   ]
  },
  {
   "cell_type": "code",
   "execution_count": 84,
   "metadata": {},
   "outputs": [],
   "source": [
    "features, feature_names = ft.dfs(entityset = es, target_entity = 'review', agg_primitives = ['mean', 'max', 'percent_true', 'last'])"
   ]
  },
  {
   "cell_type": "code",
   "execution_count": 85,
   "metadata": {},
   "outputs": [
    {
     "name": "stdout",
     "output_type": "stream",
     "text": [
      "<class 'pandas.core.frame.DataFrame'>\n",
      "Index: 400807 entries, yNB39szX3M8mTEzTtsgoCw to 26iv0bQ5o3oxzZOSayQPjQ\n",
      "Data columns (total 18 columns):\n",
      " #   Column                                      Non-Null Count   Dtype  \n",
      "---  ------                                      --------------   -----  \n",
      " 0   user_id                                     400807 non-null  object \n",
      " 1   business_id                                 400807 non-null  object \n",
      " 2   review_stars                                400807 non-null  int64  \n",
      " 3   user_review_count                           400807 non-null  int64  \n",
      " 4   user_elite                                  400807 non-null  int64  \n",
      " 5   user_fans                                   400807 non-null  int64  \n",
      " 6   user_average_stars                          400807 non-null  float64\n",
      " 7   user_total_compliments                      400807 non-null  int64  \n",
      " 8   business_name                               400807 non-null  object \n",
      " 9   business_stars                              400807 non-null  float64\n",
      " 10  NUM_CHARACTERS(business_categories)         400807 non-null  int64  \n",
      " 11  NUM_CHARACTERS(review_text)                 400807 non-null  int64  \n",
      " 12  NUM_CHARACTERS(review_text_after_cleaning)  400807 non-null  int64  \n",
      " 13  NUM_CHARACTERS(user_friends)                400807 non-null  int64  \n",
      " 14  NUM_WORDS(business_categories)              400807 non-null  int64  \n",
      " 15  NUM_WORDS(review_text)                      400807 non-null  int64  \n",
      " 16  NUM_WORDS(review_text_after_cleaning)       400807 non-null  int64  \n",
      " 17  NUM_WORDS(user_friends)                     400807 non-null  int64  \n",
      "dtypes: float64(2), int64(13), object(3)\n",
      "memory usage: 58.1+ MB\n"
     ]
    }
   ],
   "source": [
    "features.info()"
   ]
  },
  {
   "cell_type": "code",
   "execution_count": 86,
   "metadata": {},
   "outputs": [
    {
     "data": {
      "text/plain": [
       "review_id\n",
       "yNB39szX3M8mTEzTtsgoCw     1\n",
       "wxvs5Ih03vWCiJ6va1zJgw    46\n",
       "3GwovpioE5iXOmTqpdKCfQ     1\n",
       "ipWXT0F2bE0smebUADaVRw    35\n",
       "yJHS5HcNtSKG7X5pPseKIA    42\n",
       "                          ..\n",
       "uL2p8ifEXE58MoAUnwqBhA     1\n",
       "dbZjuCnSGUJzogq9xcDIVQ     1\n",
       "z5wUwHJzKOnIREamscek6w    87\n",
       "tERVb0iiv35MSXFZlUoHVw     1\n",
       "26iv0bQ5o3oxzZOSayQPjQ    60\n",
       "Name: NUM_WORDS(user_friends), Length: 400807, dtype: int64"
      ]
     },
     "execution_count": 86,
     "metadata": {},
     "output_type": "execute_result"
    }
   ],
   "source": [
    "features[\"NUM_WORDS(user_friends)\"]"
   ]
  },
  {
   "cell_type": "code",
   "execution_count": 88,
   "metadata": {},
   "outputs": [
    {
     "data": {
      "text/plain": [
       "0                                                 None\n",
       "1    doxwVgU9Q2IQqXCJHv-xAQ, 7pi5q0cT60nBNwlHV0wLKQ...\n",
       "2                                                 None\n",
       "3    ELcQDlf69kb-ihJfxZyL0A, Ru6v8qXKiMeurpy7HPO-sw...\n",
       "4    L5uq2v3GnGiYi6DzO2KunA, -SlWJhzUzqUO61vJoKYbOA...\n",
       "Name: user_friends, dtype: object"
      ]
     },
     "execution_count": 88,
     "metadata": {},
     "output_type": "execute_result"
    }
   ],
   "source": [
    "df[\"user_friends\"].head()"
   ]
  },
  {
   "cell_type": "code",
   "execution_count": null,
   "metadata": {},
   "outputs": [],
   "source": []
  },
  {
   "cell_type": "code",
   "execution_count": null,
   "metadata": {},
   "outputs": [],
   "source": [
    "## TODO: Add something more on feature selection"
   ]
  }
 ],
 "metadata": {
  "kernelspec": {
   "display_name": "Python 3",
   "language": "python",
   "name": "python3"
  },
  "language_info": {
   "codemirror_mode": {
    "name": "ipython",
    "version": 3
   },
   "file_extension": ".py",
   "mimetype": "text/x-python",
   "name": "python",
   "nbconvert_exporter": "python",
   "pygments_lexer": "ipython3",
   "version": "3.8.5"
  }
 },
 "nbformat": 4,
 "nbformat_minor": 4
}
