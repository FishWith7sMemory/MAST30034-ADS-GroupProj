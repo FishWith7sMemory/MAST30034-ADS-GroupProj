{
 "cells": [
  {
   "cell_type": "code",
   "execution_count": 13,
   "metadata": {},
   "outputs": [
    {
     "name": "stdout",
     "output_type": "stream",
     "text": [
      "Num GPUs Available:  [PhysicalDevice(name='/physical_device:GPU:0', device_type='GPU')]\n"
     ]
    }
   ],
   "source": [
    "%run config.ipynb\n",
    "\n",
    "import tensorflow as tf\n",
    "print(\"Num GPUs Available: \", tf.config.experimental.list_physical_devices('GPU'))\n",
    "from tensorflow.keras.preprocessing.text import Tokenizer\n",
    "from tensorflow.keras.preprocessing.sequence import pad_sequences\n",
    "from tensorflow.keras.layers import Input, Dense, Embedding, LSTM, Bidirectional, GlobalMaxPooling1D\n",
    "from tensorflow.keras.models import Model, clone_model"
   ]
  },
  {
   "cell_type": "markdown",
   "metadata": {},
   "source": [
    "## Read Datasets"
   ]
  },
  {
   "cell_type": "code",
   "execution_count": 21,
   "metadata": {},
   "outputs": [],
   "source": [
    "# business = pd.read_json(\"data/yelp_academic_dataset_business.json\", lines=True)\n",
    "# check_in = pd.read_json(\"data/yelp_academic_dataset_checkin.json\", lines=True)\n",
    "# review = pd.read_csv(\"data/yelp_academic_dataset_sample_review.csv\")\n",
    "review = pd.read_csv(\"data/yelp_academic_dataset_sample005_review.csv\")\n",
    "# tip = pd.read_json(\"data/yelp_academic_dataset_tip.json\", lines=True)\n",
    "# user = pd.read_json(\"data/yelp_academic_dataset_user.json\", lines=True)"
   ]
  },
  {
   "cell_type": "code",
   "execution_count": 66,
   "metadata": {
    "pycharm": {
     "name": "#%%\n"
    }
   },
   "outputs": [],
   "source": [
    "X = review[\"text_after_cleaning\"]"
   ]
  },
  {
   "cell_type": "markdown",
   "metadata": {
    "pycharm": {
     "name": "#%% md\n"
    }
   },
   "source": [
    "## Split Dataset"
   ]
  },
  {
   "cell_type": "code",
   "execution_count": 67,
   "metadata": {
    "pycharm": {
     "name": "#%%\n"
    }
   },
   "outputs": [],
   "source": [
    "y = review[\"stars\"]\n",
    "y = y.apply(lambda x : x - 1) # convert range(1,7) to range(0,6) for more precise when adding dense layer\n",
    "df_train, df_test, y_train, y_test = train_test_split(X, y, test_size=0.33)"
   ]
  },
  {
   "cell_type": "markdown",
   "metadata": {
    "pycharm": {
     "name": "#%% md\n"
    }
   },
   "source": [
    "## Word Embedding"
   ]
  },
  {
   "cell_type": "code",
   "execution_count": 68,
   "metadata": {},
   "outputs": [],
   "source": [
    "MAX_VOCAB_SIZE = 50000\n",
    "tokenizer = Tokenizer(num_words=MAX_VOCAB_SIZE)\n",
    "tokenizer.fit_on_texts(df_train)\n",
    "sequences_train = tokenizer.texts_to_sequences(df_train)\n",
    "sequences_test = tokenizer.texts_to_sequences(df_test)"
   ]
  },
  {
   "cell_type": "code",
   "execution_count": 69,
   "metadata": {},
   "outputs": [
    {
     "name": "stdout",
     "output_type": "stream",
     "text": [
      "Found 120698 unique tokens.\n"
     ]
    }
   ],
   "source": [
    "word2idx = tokenizer.word_index\n",
    "V = len(word2idx)\n",
    "print('Found %s unique tokens.' % V)"
   ]
  },
  {
   "cell_type": "code",
   "execution_count": 70,
   "metadata": {
    "pycharm": {
     "name": "#%%\n"
    }
   },
   "outputs": [
    {
     "name": "stdout",
     "output_type": "stream",
     "text": [
      "Shape of data train tensor: (268707, 500)\n",
      "Shape of data test tensor: (132349, 500)\n"
     ]
    }
   ],
   "source": [
    "X_train = pad_sequences(sequences_train)\n",
    "print('Shape of data train tensor:', X_train.shape)\n",
    "\n",
    "T = X_train.shape[1]\n",
    "\n",
    "X_test = pad_sequences(sequences_test, maxlen=T)\n",
    "print('Shape of data test tensor:', X_test.shape)"
   ]
  },
  {
   "cell_type": "markdown",
   "metadata": {
    "pycharm": {
     "name": "#%% md\n"
    }
   },
   "source": [
    "## Modelling"
   ]
  },
  {
   "cell_type": "code",
   "execution_count": 44,
   "metadata": {},
   "outputs": [],
   "source": [
    "def fit_model(model, epochs=3, batch_size=128, loss='sparse_categorical_crossentropy', optimizer='adam', metrics=['accuracy']):\n",
    "    model.compile(loss=loss, optimizer=optimizer, metrics=metrics)\n",
    "    r = model.fit(X_train, y_train, epochs=epochs, batch_size=batch_size, validation_data=(X_test, y_test))\n",
    "    plot(r)\n",
    "    return model, r\n",
    "\n",
    "def plot(r):\n",
    "    plt.xlabel('# epochs')\n",
    "    length = len(r.history[next(iter(r.history))])\n",
    "    plt.xticks(np.arange(length), np.arange(1, length+1))\n",
    "    plt.plot(r.history['loss'], label='loss')\n",
    "    plt.plot(r.history['val_loss'], label='val_loss')\n",
    "    plt.plot(r.history['accuracy'], label='acc')\n",
    "    plt.plot(r.history['val_accuracy'], 'm', label='val_acc')\n",
    "    plt.legend()\n",
    "\n",
    "def create_model():\n",
    "    D = 100\n",
    "    num_words = min(MAX_VOCAB_SIZE, V + 1)\n",
    "    i = Input(shape=(T,))\n",
    "    x = Embedding(num_words, D)(i)\n",
    "    x = Bidirectional(LSTM(D//2, return_sequences=True))(x)\n",
    "    x = GlobalMaxPooling1D()(x)\n",
    "    x = Dense(5, activation='softmax')(x)\n",
    "    model = Model(i, x)\n",
    "    model.summary(105)\n",
    "    return model"
   ]
  },
  {
   "cell_type": "code",
   "execution_count": 45,
   "metadata": {
    "pycharm": {
     "name": "#%%\n"
    }
   },
   "outputs": [
    {
     "name": "stdout",
     "output_type": "stream",
     "text": [
      "Model: \"functional_3\"\n",
      "_________________________________________________________________________________________________________\n",
      "Layer (type)                                   Output Shape                              Param #         \n",
      "=========================================================================================================\n",
      "input_2 (InputLayer)                           [(None, 500)]                             0               \n",
      "_________________________________________________________________________________________________________\n",
      "embedding_1 (Embedding)                        (None, 500, 100)                          5000000         \n",
      "_________________________________________________________________________________________________________\n",
      "bidirectional_1 (Bidirectional)                (None, 500, 100)                          60400           \n",
      "_________________________________________________________________________________________________________\n",
      "global_max_pooling1d_1 (GlobalMaxPooling1D)    (None, 100)                               0               \n",
      "_________________________________________________________________________________________________________\n",
      "dense_1 (Dense)                                (None, 5)                                 505             \n",
      "=========================================================================================================\n",
      "Total params: 5,060,905\n",
      "Trainable params: 5,060,905\n",
      "Non-trainable params: 0\n",
      "_________________________________________________________________________________________________________\n",
      "Epoch 1/5\n",
      "2100/2100 [==============================] - 208s 99ms/step - loss: 0.8111 - accuracy: 0.6634 - val_loss: 0.7458 - val_accuracy: 0.6881\n",
      "Epoch 2/5\n",
      "2100/2100 [==============================] - 207s 99ms/step - loss: 0.7023 - accuracy: 0.7070 - val_loss: 0.7397 - val_accuracy: 0.6911\n",
      "Epoch 3/5\n",
      "2100/2100 [==============================] - 205s 98ms/step - loss: 0.6472 - accuracy: 0.7319 - val_loss: 0.7453 - val_accuracy: 0.6894\n",
      "Epoch 4/5\n",
      "2100/2100 [==============================] - 207s 99ms/step - loss: 0.5938 - accuracy: 0.7579 - val_loss: 0.7728 - val_accuracy: 0.6849\n",
      "Epoch 5/5\n",
      "2100/2100 [==============================] - 210s 100ms/step - loss: 0.5375 - accuracy: 0.7847 - val_loss: 0.8077 - val_accuracy: 0.6799\n"
     ]
    },
    {
     "data": {
      "image/png": "[encoded data removed]",
      "text/plain": [
       "<Figure size 432x288 with 1 Axes>"
      ]
     },
     "metadata": {
      "needs_background": "light"
     },
     "output_type": "display_data"
    }
   ],
   "source": [
    "m, r = fit_model(create_model())"
   ]
  },
  {
   "cell_type": "code",
   "execution_count": 33,
   "metadata": {},
   "outputs": [
    {
     "name": "stdout",
     "output_type": "stream",
     "text": [
      "Model: \"functional_9\"\n",
      "__________________________________________________________________________________________________________________________________\n",
      "Layer (type)                                              Output Shape                                        Param #             \n",
      "==================================================================================================================================\n",
      "input_6 (InputLayer)                                      [(None, 495)]                                       0                   \n",
      "__________________________________________________________________________________________________________________________________\n",
      "embedding_5 (Embedding)                                   (None, 495, 50)                                     1500000             \n",
      "__________________________________________________________________________________________________________________________________\n",
      "lstm_5 (LSTM)                                             (None, 495, 100)                                    60400               \n",
      "__________________________________________________________________________________________________________________________________\n",
      "global_max_pooling1d_4 (GlobalMaxPooling1D)               (None, 100)                                         0                   \n",
      "__________________________________________________________________________________________________________________________________\n",
      "dense_4 (Dense)                                           (None, 16)                                          1616                \n",
      "==================================================================================================================================\n",
      "Total params: 1,562,016\n",
      "Trainable params: 1,562,016\n",
      "Non-trainable params: 0\n",
      "__________________________________________________________________________________________________________________________________\n",
      "Epoch 1/5\n",
      "420/420 [==============================] - 20s 48ms/step - loss: 1.3192 - accuracy: 0.4963 - val_loss: 1.0246 - val_accuracy: 0.5908\n",
      "Epoch 2/5\n",
      "420/420 [==============================] - 20s 47ms/step - loss: 0.9143 - accuracy: 0.6252 - val_loss: 0.8682 - val_accuracy: 0.6381\n",
      "Epoch 3/5\n",
      "420/420 [==============================] - 20s 48ms/step - loss: 0.7818 - accuracy: 0.6721 - val_loss: 0.8285 - val_accuracy: 0.6580\n",
      "Epoch 4/5\n",
      "420/420 [==============================] - 20s 48ms/step - loss: 0.6922 - accuracy: 0.7148 - val_loss: 0.8388 - val_accuracy: 0.6551\n",
      "Epoch 5/5\n",
      "420/420 [==============================] - 20s 48ms/step - loss: 0.6251 - accuracy: 0.7488 - val_loss: 0.8657 - val_accuracy: 0.6528\n"
     ]
    },
    {
     "data": {
      "image/png": "[encoded data removed]",
      "text/plain": [
       "<Figure size 432x288 with 1 Axes>"
      ]
     },
     "metadata": {
      "needs_background": "light"
     },
     "output_type": "display_data"
    }
   ],
   "source": [
    "m1, r1 = fit_model(create_model())"
   ]
  },
  {
   "cell_type": "code",
   "execution_count": 39,
   "metadata": {},
   "outputs": [
    {
     "name": "stdout",
     "output_type": "stream",
     "text": [
      "Model: \"functional_13\"\n",
      "________________________________________________________________________________________________________________________\n",
      "Layer (type)                                          Output Shape                                    Param #           \n",
      "========================================================================================================================\n",
      "input_8 (InputLayer)                                  [(None, 495)]                                   0                 \n",
      "________________________________________________________________________________________________________________________\n",
      "embedding_7 (Embedding)                               (None, 495, 100)                                3000000           \n",
      "________________________________________________________________________________________________________________________\n",
      "bidirectional_6 (Bidirectional)                       (None, 495, 100)                                60400             \n",
      "________________________________________________________________________________________________________________________\n",
      "global_max_pooling1d_6 (GlobalMaxPooling1D)           (None, 100)                                     0                 \n",
      "________________________________________________________________________________________________________________________\n",
      "dense_6 (Dense)                                       (None, 8)                                       808               \n",
      "========================================================================================================================\n",
      "Total params: 3,061,208\n",
      "Trainable params: 3,061,208\n",
      "Non-trainable params: 0\n",
      "________________________________________________________________________________________________________________________\n",
      "Epoch 1/5\n",
      "420/420 [==============================] - 34s 82ms/step - loss: 1.0672 - accuracy: 0.5795 - val_loss: 0.8608 - val_accuracy: 0.6471\n",
      "Epoch 2/5\n",
      "420/420 [==============================] - 34s 81ms/step - loss: 0.7512 - accuracy: 0.6913 - val_loss: 0.8136 - val_accuracy: 0.6668\n",
      "Epoch 3/5\n",
      "420/420 [==============================] - 34s 82ms/step - loss: 0.6479 - accuracy: 0.7363 - val_loss: 0.8381 - val_accuracy: 0.6565\n",
      "Epoch 4/5\n",
      "420/420 [==============================] - 34s 80ms/step - loss: 0.5675 - accuracy: 0.7758 - val_loss: 0.8792 - val_accuracy: 0.6501\n",
      "Epoch 5/5\n",
      "420/420 [==============================] - 34s 81ms/step - loss: 0.4878 - accuracy: 0.8133 - val_loss: 0.9663 - val_accuracy: 0.6507\n"
     ]
    },
    {
     "data": {
      "image/png": "[encoded data removed]",
      "text/plain": [
       "<Figure size 432x288 with 1 Axes>"
      ]
     },
     "metadata": {
      "needs_background": "light"
     },
     "output_type": "display_data"
    }
   ],
   "source": [
    "m2, r2 = fit_model(create_model())"
   ]
  },
  {
   "cell_type": "code",
   "execution_count": null,
   "metadata": {},
   "outputs": [],
   "source": []
  }
 ],
 "metadata": {
  "kernelspec": {
   "display_name": "Python 3",
   "language": "python",
   "name": "python3"
  },
  "language_info": {
   "codemirror_mode": {
    "name": "ipython",
    "version": 3
   },
   "file_extension": ".py",
   "mimetype": "text/x-python",
   "name": "python",
   "nbconvert_exporter": "python",
   "pygments_lexer": "ipython3",
   "version": "3.8.5"
  }
 },
 "nbformat": 4,
 "nbformat_minor": 4
}
