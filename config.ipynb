{
 "cells": [
  {
   "cell_type": "code",
   "execution_count": 1,
   "metadata": {},
   "outputs": [],
   "source": [
    "import pandas as pd\n",
    "import numpy as np\n",
    "from sklearn.model_selection import train_test_split\n",
    "import matplotlib.pyplot as plt\n",
    "\n",
    "import warnings\n",
    "warnings.filterwarnings('ignore')"
   ]
  },
  {
   "cell_type": "code",
   "execution_count": null,
   "metadata": {},
   "outputs": [],
   "source": [
    "import seaborn as sns\n",
    "def corr_heatmap(df):\n",
    "    corr = df.corr()\n",
    "    mask = np.zeros_like(corr)\n",
    "    mask[np.triu_indices_from(mask)] = True\n",
    "    with sns.axes_style(style=\"ticks\"):\n",
    "        f, ax = plt.subplots(figsize=(9, 6))\n",
    "    ax = sns.heatmap(corr, mask=mask, annot=True, linewidths=1, cmap=\"YlGnBu\")"
   ]
  },
  {
   "cell_type": "code",
   "execution_count": null,
   "metadata": {},
   "outputs": [],
   "source": [
    "def macro_accuracy(actual, pred):\n",
    "    assert len(actual) == len(pred)\n",
    "    correct = 0\n",
    "    for i, j in zip(actual, pred):\n",
    "        if i == j:\n",
    "            correct += 1\n",
    "    return correct / len(actual)\n",
    "    "
   ]
  },
  {
   "cell_type": "code",
   "execution_count": null,
   "metadata": {},
   "outputs": [],
   "source": [
    "def get_genres(data):\n",
    "    genres = defaultdict(list)\n",
    "    genreIDs = {}\n",
    "    maxGenreID = 0\n",
    "\n",
    "    for i in range(data.shape[0]):\n",
    "        row = data.iloc[i]\n",
    "        businessID = row[\"business_id\"]\n",
    "        genreList = row[\"business_categories\"].split(',')\n",
    "        genreIDList = []\n",
    "        for genre in genreList:\n",
    "            if genre in genreIDs:\n",
    "                genreID = genreIDs[genre]\n",
    "            else:\n",
    "                genreID = maxGenreID\n",
    "                genreIDs[genre] = genreID\n",
    "                maxGenreID += 1\n",
    "            genreIDList.append(genreID)\n",
    "        genres[businessID] = genreIDList\n",
    "\n",
    "        \n",
    "    for (businessID, genreIDList) in genres.items():\n",
    "        bitfield = [0] * maxGenreID\n",
    "        for genreID in genreIDList:\n",
    "            bitfield[genreID] = 1\n",
    "        genres[businessID] = bitfield            \n",
    "\n",
    "    return genres"
   ]
  },
  {
   "cell_type": "code",
   "execution_count": null,
   "metadata": {},
   "outputs": [],
   "source": [
    "def evaluate(model, testset):\n",
    "    print(\"\\nComputing recommendations...\")\n",
    "    predictions = model.test(testset)\n",
    "\n",
    "    print(\"\\nEvaluating accuracy of model...\")\n",
    "    print(\"RMSE: \", accuracy.mae(predictions, verbose=False))\n",
    "    print(\"MAE: \", accuracy.rmse(predictions, verbose=False))\n",
    "#     print(\"ACC: \", macro_accuracy([i[2] for i in testset], [predictions[i].r_ui for i in range(len(predictions))]))"
   ]
  }
 ],
 "metadata": {
  "kernelspec": {
   "display_name": "Python 3",
   "language": "python",
   "name": "python3"
  },
  "language_info": {
   "codemirror_mode": {
    "name": "ipython",
    "version": 3
   },
   "file_extension": ".py",
   "mimetype": "text/x-python",
   "name": "python",
   "nbconvert_exporter": "python",
   "pygments_lexer": "ipython3",
   "version": "3.8.5"
  }
 },
 "nbformat": 4,
 "nbformat_minor": 4
}
