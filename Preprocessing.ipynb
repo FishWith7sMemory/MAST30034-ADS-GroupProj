{
 "cells": [
  {
   "cell_type": "code",
   "execution_count": 1,
   "metadata": {},
   "outputs": [],
   "source": [
    "%run config.ipynb\n",
    "import nltk\n",
    "from nltk.tokenize import word_tokenize\n",
    "from nltk.corpus import stopwords\n",
    "from nltk.stem.porter import PorterStemmer\n",
    "import string\n",
    "import spacy\n",
    "import re\n",
    "import featuretools as ft"
   ]
  },
  {
   "cell_type": "markdown",
   "metadata": {},
   "source": [
    "# Data Filtering"
   ]
  },
  {
   "cell_type": "code",
   "execution_count": 2,
   "metadata": {},
   "outputs": [],
   "source": [
    "business = pd.read_json(\"data/yelp_academic_dataset_business.json\", lines=True)\n",
    "checkin = pd.read_json(\"data/yelp_academic_dataset_checkin.json\", lines=True)\n",
    "review = pd.read_json(\"data/yelp_academic_dataset_review.json\", lines=True)\n",
    "# review = pd.read_csv(\"data/yelp_academic_dataset_sample_review.csv\")\n",
    "# review = pd.read_csv(\"data/yelp_academic_dataset_sample005_review.csv\")\n",
    "tip = pd.read_json(\"data/yelp_academic_dataset_tip.json\", lines=True)\n",
    "user = pd.read_json(\"data/yelp_academic_dataset_user.json\", lines=True)"
   ]
  },
  {
   "cell_type": "markdown",
   "metadata": {},
   "source": [
    "### For User"
   ]
  },
  {
   "cell_type": "code",
   "execution_count": 3,
   "metadata": {},
   "outputs": [
    {
     "data": {
      "text/plain": [
       "user_id               0\n",
       "name                  0\n",
       "review_count          0\n",
       "yelping_since         0\n",
       "useful                0\n",
       "funny                 0\n",
       "cool                  0\n",
       "elite                 0\n",
       "friends               0\n",
       "fans                  0\n",
       "average_stars         0\n",
       "compliment_hot        0\n",
       "compliment_more       0\n",
       "compliment_profile    0\n",
       "compliment_cute       0\n",
       "compliment_list       0\n",
       "compliment_note       0\n",
       "compliment_plain      0\n",
       "compliment_cool       0\n",
       "compliment_funny      0\n",
       "compliment_writer     0\n",
       "compliment_photos     0\n",
       "dtype: int64"
      ]
     },
     "execution_count": 3,
     "metadata": {},
     "output_type": "execute_result"
    }
   ],
   "source": [
    "user.isnull().sum()"
   ]
  },
  {
   "cell_type": "markdown",
   "metadata": {},
   "source": [
    "It seems no missing value here"
   ]
  },
  {
   "cell_type": "code",
   "execution_count": 4,
   "metadata": {},
   "outputs": [
    {
     "name": "stdout",
     "output_type": "stream",
     "text": [
      "<class 'pandas.core.frame.DataFrame'>\n",
      "RangeIndex: 1968703 entries, 0 to 1968702\n",
      "Data columns (total 7 columns):\n",
      " #   Column             Dtype  \n",
      "---  ------             -----  \n",
      " 0   user_id            object \n",
      " 1   review_count       int64  \n",
      " 2   elite              int64  \n",
      " 3   friends            object \n",
      " 4   fans               int64  \n",
      " 5   average_stars      float64\n",
      " 6   total_compliments  int64  \n",
      "dtypes: float64(1), int64(4), object(2)\n",
      "memory usage: 105.1+ MB\n"
     ]
    }
   ],
   "source": [
    "user[\"total_compliments\"] = user[\"compliment_hot\"] + user[\"compliment_more\"] + user[\"compliment_profile\"] + user[\"compliment_cute\"] + \\\n",
    "                            user[\"compliment_list\"] + user[\"compliment_note\"] + user[\"compliment_plain\"] + user[\"compliment_cool\"] + \\\n",
    "                            user[\"compliment_funny\"] + user[\"compliment_writer\"] + user[\"compliment_photos\"]\n",
    "        \n",
    "def num_year(data):\n",
    "    return data.count(',') + 1 if data else 0\n",
    "user[\"elite\"] = user[\"elite\"].apply(num_year)\n",
    "\n",
    "user_filter = user[[\"user_id\", \"review_count\", \"elite\", \"friends\", \"fans\", \"average_stars\", \"total_compliments\"]]\n",
    "user_filter.info()"
   ]
  },
  {
   "cell_type": "markdown",
   "metadata": {},
   "source": [
    "### For Review"
   ]
  },
  {
   "cell_type": "code",
   "execution_count": 5,
   "metadata": {},
   "outputs": [
    {
     "name": "stdout",
     "output_type": "stream",
     "text": [
      "<class 'pandas.core.frame.DataFrame'>\n",
      "RangeIndex: 8021122 entries, 0 to 8021121\n",
      "Data columns (total 9 columns):\n",
      " #   Column       Dtype         \n",
      "---  ------       -----         \n",
      " 0   review_id    object        \n",
      " 1   user_id      object        \n",
      " 2   business_id  object        \n",
      " 3   stars        int64         \n",
      " 4   useful       int64         \n",
      " 5   funny        int64         \n",
      " 6   cool         int64         \n",
      " 7   text         object        \n",
      " 8   date         datetime64[ns]\n",
      "dtypes: datetime64[ns](1), int64(4), object(4)\n",
      "memory usage: 550.8+ MB\n"
     ]
    }
   ],
   "source": [
    "review.info()"
   ]
  },
  {
   "cell_type": "code",
   "execution_count": 6,
   "metadata": {},
   "outputs": [],
   "source": [
    "review = review.sample(frac=0.125)"
   ]
  },
  {
   "cell_type": "code",
   "execution_count": 7,
   "metadata": {},
   "outputs": [
    {
     "data": {
      "text/plain": [
       "review_id      0\n",
       "user_id        0\n",
       "business_id    0\n",
       "stars          0\n",
       "useful         0\n",
       "funny          0\n",
       "cool           0\n",
       "text           0\n",
       "date           0\n",
       "dtype: int64"
      ]
     },
     "execution_count": 7,
     "metadata": {},
     "output_type": "execute_result"
    }
   ],
   "source": [
    "review.isnull().sum()"
   ]
  },
  {
   "cell_type": "code",
   "execution_count": 8,
   "metadata": {},
   "outputs": [
    {
     "name": "stdout",
     "output_type": "stream",
     "text": [
      "<class 'pandas.core.frame.DataFrame'>\n",
      "Int64Index: 1002640 entries, 4854856 to 2701346\n",
      "Data columns (total 5 columns):\n",
      " #   Column       Non-Null Count    Dtype \n",
      "---  ------       --------------    ----- \n",
      " 0   review_id    1002640 non-null  object\n",
      " 1   user_id      1002640 non-null  object\n",
      " 2   business_id  1002640 non-null  object\n",
      " 3   stars        1002640 non-null  int64 \n",
      " 4   text         1002640 non-null  object\n",
      "dtypes: int64(1), object(4)\n",
      "memory usage: 45.9+ MB\n"
     ]
    }
   ],
   "source": [
    "review_filter = review[[\"review_id\", \"user_id\", \"business_id\", \"stars\", \"text\"]]\n",
    "review_filter.info()"
   ]
  },
  {
   "cell_type": "markdown",
   "metadata": {},
   "source": [
    "### For Business"
   ]
  },
  {
   "cell_type": "code",
   "execution_count": 9,
   "metadata": {},
   "outputs": [
    {
     "name": "stdout",
     "output_type": "stream",
     "text": [
      "<class 'pandas.core.frame.DataFrame'>\n",
      "RangeIndex: 209393 entries, 0 to 209392\n",
      "Data columns (total 14 columns):\n",
      " #   Column        Non-Null Count   Dtype  \n",
      "---  ------        --------------   -----  \n",
      " 0   business_id   209393 non-null  object \n",
      " 1   name          209393 non-null  object \n",
      " 2   address       209393 non-null  object \n",
      " 3   city          209393 non-null  object \n",
      " 4   state         209393 non-null  object \n",
      " 5   postal_code   209393 non-null  object \n",
      " 6   latitude      209393 non-null  float64\n",
      " 7   longitude     209393 non-null  float64\n",
      " 8   stars         209393 non-null  float64\n",
      " 9   review_count  209393 non-null  int64  \n",
      " 10  is_open       209393 non-null  int64  \n",
      " 11  attributes    180348 non-null  object \n",
      " 12  categories    208869 non-null  object \n",
      " 13  hours         164550 non-null  object \n",
      "dtypes: float64(3), int64(2), object(9)\n",
      "memory usage: 22.4+ MB\n"
     ]
    }
   ],
   "source": [
    "business.info()"
   ]
  },
  {
   "cell_type": "code",
   "execution_count": 11,
   "metadata": {},
   "outputs": [
    {
     "name": "stdout",
     "output_type": "stream",
     "text": [
      "<class 'pandas.core.frame.DataFrame'>\n",
      "RangeIndex: 209393 entries, 0 to 209392\n",
      "Data columns (total 4 columns):\n",
      " #   Column          Non-Null Count   Dtype  \n",
      "---  ------          --------------   -----  \n",
      " 0   business_id     209393 non-null  object \n",
      " 1   name            209393 non-null  object \n",
      " 2   categories      208869 non-null  object \n",
      " 3   business_stars  209393 non-null  float64\n",
      "dtypes: float64(1), object(3)\n",
      "memory usage: 6.4+ MB\n"
     ]
    }
   ],
   "source": [
    "business_filter = business[[\"business_id\", \"name\", \"categories\"]]\n",
    "business_filter[\"business_stars\"] = business[\"stars\"]\n",
    "business_filter.info()"
   ]
  },
  {
   "cell_type": "markdown",
   "metadata": {},
   "source": [
    "### Merging"
   ]
  },
  {
   "cell_type": "code",
   "execution_count": 12,
   "metadata": {},
   "outputs": [
    {
     "data": {
      "text/plain": [
       "Index(['user_id', 'user_review_count', 'user_elite', 'user_friends',\n",
       "       'user_fans', 'user_average_stars', 'user_total_compliments'],\n",
       "      dtype='object')"
      ]
     },
     "execution_count": 12,
     "metadata": {},
     "output_type": "execute_result"
    }
   ],
   "source": [
    "user_filter.columns = [i if '_id' in i else 'user_'+i for i in user_filter.columns]\n",
    "user_filter.columns"
   ]
  },
  {
   "cell_type": "code",
   "execution_count": 13,
   "metadata": {},
   "outputs": [
    {
     "data": {
      "text/plain": [
       "Index(['review_id', 'user_id', 'business_id', 'review_stars', 'review_text'], dtype='object')"
      ]
     },
     "execution_count": 13,
     "metadata": {},
     "output_type": "execute_result"
    }
   ],
   "source": [
    "review_filter.columns = [i if '_id' in i else 'review_'+i for i in review_filter.columns]\n",
    "review_filter.columns"
   ]
  },
  {
   "cell_type": "code",
   "execution_count": 14,
   "metadata": {},
   "outputs": [
    {
     "data": {
      "text/plain": [
       "Index(['business_id', 'business_name', 'business_categories',\n",
       "       'business_stars'],\n",
       "      dtype='object')"
      ]
     },
     "execution_count": 14,
     "metadata": {},
     "output_type": "execute_result"
    }
   ],
   "source": [
    "business_filter.columns = [i if '_id' in i or 'business' in i else 'business_'+i for i in business_filter.columns]\n",
    "business_filter.columns"
   ]
  },
  {
   "cell_type": "code",
   "execution_count": 15,
   "metadata": {},
   "outputs": [],
   "source": [
    "df = review_filter.merge(user_filter, on='user_id')"
   ]
  },
  {
   "cell_type": "code",
   "execution_count": 16,
   "metadata": {},
   "outputs": [],
   "source": [
    "df = df.merge(business_filter, on='business_id')"
   ]
  },
  {
   "cell_type": "code",
   "execution_count": 17,
   "metadata": {},
   "outputs": [
    {
     "name": "stdout",
     "output_type": "stream",
     "text": [
      "<class 'pandas.core.frame.DataFrame'>\n",
      "Int64Index: 1002640 entries, 0 to 1002639\n",
      "Data columns (total 14 columns):\n",
      " #   Column                  Non-Null Count    Dtype  \n",
      "---  ------                  --------------    -----  \n",
      " 0   review_id               1002640 non-null  object \n",
      " 1   user_id                 1002640 non-null  object \n",
      " 2   business_id             1002640 non-null  object \n",
      " 3   review_stars            1002640 non-null  int64  \n",
      " 4   review_text             1002640 non-null  object \n",
      " 5   user_review_count       1002640 non-null  int64  \n",
      " 6   user_elite              1002640 non-null  int64  \n",
      " 7   user_friends            1002640 non-null  object \n",
      " 8   user_fans               1002640 non-null  int64  \n",
      " 9   user_average_stars      1002640 non-null  float64\n",
      " 10  user_total_compliments  1002640 non-null  int64  \n",
      " 11  business_name           1002640 non-null  object \n",
      " 12  business_categories     1002378 non-null  object \n",
      " 13  business_stars          1002640 non-null  float64\n",
      "dtypes: float64(2), int64(5), object(7)\n",
      "memory usage: 114.7+ MB\n"
     ]
    }
   ],
   "source": [
    "df.info()"
   ]
  },
  {
   "cell_type": "code",
   "execution_count": 18,
   "metadata": {},
   "outputs": [
    {
     "name": "stdout",
     "output_type": "stream",
     "text": [
      "<class 'pandas.core.frame.DataFrame'>\n",
      "Int64Index: 1002378 entries, 0 to 1002639\n",
      "Data columns (total 14 columns):\n",
      " #   Column                  Non-Null Count    Dtype  \n",
      "---  ------                  --------------    -----  \n",
      " 0   review_id               1002378 non-null  object \n",
      " 1   user_id                 1002378 non-null  object \n",
      " 2   business_id             1002378 non-null  object \n",
      " 3   review_stars            1002378 non-null  int64  \n",
      " 4   review_text             1002378 non-null  object \n",
      " 5   user_review_count       1002378 non-null  int64  \n",
      " 6   user_elite              1002378 non-null  int64  \n",
      " 7   user_friends            1002378 non-null  object \n",
      " 8   user_fans               1002378 non-null  int64  \n",
      " 9   user_average_stars      1002378 non-null  float64\n",
      " 10  user_total_compliments  1002378 non-null  int64  \n",
      " 11  business_name           1002378 non-null  object \n",
      " 12  business_categories     1002378 non-null  object \n",
      " 13  business_stars          1002378 non-null  float64\n",
      "dtypes: float64(2), int64(5), object(7)\n",
      "memory usage: 114.7+ MB\n"
     ]
    }
   ],
   "source": [
    "df = df[~df[\"business_categories\"].isnull()]\n",
    "df.info()"
   ]
  },
  {
   "cell_type": "code",
   "execution_count": 19,
   "metadata": {},
   "outputs": [
    {
     "data": {
      "text/html": [
       "<div>\n",
       "<style scoped>\n",
       "    .dataframe tbody tr th:only-of-type {\n",
       "        vertical-align: middle;\n",
       "    }\n",
       "\n",
       "    .dataframe tbody tr th {\n",
       "        vertical-align: top;\n",
       "    }\n",
       "\n",
       "    .dataframe thead th {\n",
       "        text-align: right;\n",
       "    }\n",
       "</style>\n",
       "<table border=\"1\" class=\"dataframe\">\n",
       "  <thead>\n",
       "    <tr style=\"text-align: right;\">\n",
       "      <th></th>\n",
       "      <th>review_id</th>\n",
       "      <th>user_id</th>\n",
       "      <th>business_id</th>\n",
       "      <th>review_stars</th>\n",
       "      <th>review_text</th>\n",
       "      <th>user_review_count</th>\n",
       "      <th>user_elite</th>\n",
       "      <th>user_friends</th>\n",
       "      <th>user_fans</th>\n",
       "      <th>user_average_stars</th>\n",
       "      <th>user_total_compliments</th>\n",
       "      <th>business_name</th>\n",
       "      <th>business_categories</th>\n",
       "      <th>business_stars</th>\n",
       "    </tr>\n",
       "  </thead>\n",
       "  <tbody>\n",
       "    <tr>\n",
       "      <th>0</th>\n",
       "      <td>lXSEWDtaiaQcxj5Nuxx6JA</td>\n",
       "      <td>fWqtOUpCFv6rmaacYZdkEQ</td>\n",
       "      <td>0z010Dfuv-PLUIukFhYEHQ</td>\n",
       "      <td>5</td>\n",
       "      <td>Great spot. Matt is da Bomb. Fair price for go...</td>\n",
       "      <td>55</td>\n",
       "      <td>0</td>\n",
       "      <td>None</td>\n",
       "      <td>0</td>\n",
       "      <td>2.95</td>\n",
       "      <td>2</td>\n",
       "      <td>Hydrate Salon and Spa</td>\n",
       "      <td>Day Spas, Hair Salons, Beauty &amp; Spas</td>\n",
       "      <td>4.0</td>\n",
       "    </tr>\n",
       "  </tbody>\n",
       "</table>\n",
       "</div>"
      ],
      "text/plain": [
       "                review_id                 user_id             business_id  \\\n",
       "0  lXSEWDtaiaQcxj5Nuxx6JA  fWqtOUpCFv6rmaacYZdkEQ  0z010Dfuv-PLUIukFhYEHQ   \n",
       "\n",
       "   review_stars                                        review_text  \\\n",
       "0             5  Great spot. Matt is da Bomb. Fair price for go...   \n",
       "\n",
       "   user_review_count  user_elite user_friends  user_fans  user_average_stars  \\\n",
       "0                 55           0         None          0                2.95   \n",
       "\n",
       "   user_total_compliments          business_name  \\\n",
       "0                       2  Hydrate Salon and Spa   \n",
       "\n",
       "                    business_categories  business_stars  \n",
       "0  Day Spas, Hair Salons, Beauty & Spas             4.0  "
      ]
     },
     "execution_count": 19,
     "metadata": {},
     "output_type": "execute_result"
    }
   ],
   "source": [
    "df.head(1)"
   ]
  },
  {
   "cell_type": "code",
   "execution_count": 20,
   "metadata": {},
   "outputs": [],
   "source": [
    "df.to_csv(\"data/yelp_academic_dataset_sample0125_filter.csv\", index=False)"
   ]
  },
  {
   "cell_type": "code",
   "execution_count": null,
   "metadata": {},
   "outputs": [],
   "source": []
  },
  {
   "cell_type": "markdown",
   "metadata": {},
   "source": [
    "# Preprocessing"
   ]
  },
  {
   "cell_type": "code",
   "execution_count": 2,
   "metadata": {},
   "outputs": [],
   "source": [
    "df = pd.read_csv(\"data/yelp_academic_dataset_sample0125_filter.csv\")"
   ]
  },
  {
   "cell_type": "markdown",
   "metadata": {},
   "source": [
    "### Text Cleaning"
   ]
  },
  {
   "cell_type": "code",
   "execution_count": 3,
   "metadata": {},
   "outputs": [],
   "source": [
    "nlp = spacy.load(\"en_core_web_lg\")\n",
    "stop_words = set(stopwords.words('english')) "
   ]
  },
  {
   "cell_type": "code",
   "execution_count": 4,
   "metadata": {},
   "outputs": [],
   "source": [
    "SYMBOL_RE = re.compile('[/(){}\\[\\]\\|@,.:!?;\\-*]')\n",
    "# website regex is from https://regexr.com/3e4a2\n",
    "WEBSITES_RE = re.compile('(https?:\\/\\/)?(www\\.)[-a-zA-Z0-9@:%._\\+~#=]{2,256}\\.[a-z]{2,4}\\b([-a-zA-Z0-9@:%_\\+.~#?&//=]*)| \\\n",
    "                         (https?:\\/\\/)?(www\\.)?(?!ww)[-a-zA-Z0-9@:%._\\+~#=]{2,256}\\.[a-z]{2,4}\\b([-a-zA-Z0-9@:%_\\+.~#?&//=]*)')\n",
    "ABBR_RE = re.compile('[a-z]*[\\'][^ ]*')\n",
    "def clean_text(text):\n",
    "    text = text.lower()\n",
    "\n",
    "    text = WEBSITES_RE.sub('', text)\n",
    "    text = ' '.join(word for word in text.split() if word not in stop_words)\n",
    "    text = SYMBOL_RE.sub('', text)\n",
    "    text = ABBR_RE.sub('', text)\n",
    "\n",
    "    # remove entities as they are meaningless in most times\n",
    "    for ent in nlp(text).ents:\n",
    "        text = text.replace(str(ent), '')\n",
    "        \n",
    "    tokens = word_tokenize(text)\n",
    "    table = str.maketrans('', '', string.punctuation)\n",
    "    stripped = [word.translate(table) for word in tokens]\n",
    "    porter = PorterStemmer()\n",
    "    stemmed = [porter.stem(word) for word in stripped]\n",
    "    text = ' '.join(word for word in stemmed if word.isalpha())\n",
    "    \n",
    "    return text"
   ]
  },
  {
   "cell_type": "code",
   "execution_count": 5,
   "metadata": {},
   "outputs": [
    {
     "name": "stdout",
     "output_type": "stream",
     "text": [
      "Wall time: 3h 6min 28s\n"
     ]
    }
   ],
   "source": [
    "%%time\n",
    "# run the commented line if you want to reproduce the X\n",
    "# Note: This process will a long time to run, so make sure you create a copy yourself after finish\n",
    "# Skip this cell to the next can get the result\n",
    "df[\"review_text_after_cleaning\"] = df[\"review_text\"].apply(clean_text)"
   ]
  },
  {
   "cell_type": "code",
   "execution_count": 6,
   "metadata": {},
   "outputs": [
    {
     "data": {
      "text/plain": [
       "0          great spot fair price good servic profession s...\n",
       "1          hair facial alway feel incred welcom everyon g...\n",
       "2          schedul minut late also schedul color girl fro...\n",
       "3          thier custom open door thrill attent gave hair...\n",
       "4          want great cut color word you quach start see ...\n",
       "                                 ...                        \n",
       "1002373    bank worst fountain hill wait time get servic ...\n",
       "1002374    call plumb the owner call back ask problem cal...\n",
       "1002375    superb custom servic excel product qualiti unm...\n",
       "1002376    pizza good love atmospher wait go back tri sto...\n",
       "1002377    ghost tour can not convey total wast time even...\n",
       "Name: review_text_after_cleaning, Length: 1002378, dtype: object"
      ]
     },
     "execution_count": 6,
     "metadata": {},
     "output_type": "execute_result"
    }
   ],
   "source": [
    "X = df[\"review_text_after_cleaning\"]\n",
    "X"
   ]
  },
  {
   "cell_type": "markdown",
   "metadata": {},
   "source": [
    "### Data Cleaning"
   ]
  },
  {
   "cell_type": "code",
   "execution_count": 7,
   "metadata": {},
   "outputs": [
    {
     "data": {
      "text/html": [
       "<div>\n",
       "<style scoped>\n",
       "    .dataframe tbody tr th:only-of-type {\n",
       "        vertical-align: middle;\n",
       "    }\n",
       "\n",
       "    .dataframe tbody tr th {\n",
       "        vertical-align: top;\n",
       "    }\n",
       "\n",
       "    .dataframe thead th {\n",
       "        text-align: right;\n",
       "    }\n",
       "</style>\n",
       "<table border=\"1\" class=\"dataframe\">\n",
       "  <thead>\n",
       "    <tr style=\"text-align: right;\">\n",
       "      <th></th>\n",
       "      <th>review_id</th>\n",
       "      <th>user_id</th>\n",
       "      <th>business_id</th>\n",
       "      <th>review_stars</th>\n",
       "      <th>review_text</th>\n",
       "      <th>user_review_count</th>\n",
       "      <th>user_elite</th>\n",
       "      <th>user_friends</th>\n",
       "      <th>user_fans</th>\n",
       "      <th>user_average_stars</th>\n",
       "      <th>user_total_compliments</th>\n",
       "      <th>business_name</th>\n",
       "      <th>business_categories</th>\n",
       "      <th>business_stars</th>\n",
       "      <th>review_text_after_cleaning</th>\n",
       "    </tr>\n",
       "  </thead>\n",
       "  <tbody>\n",
       "    <tr>\n",
       "      <th>0</th>\n",
       "      <td>lXSEWDtaiaQcxj5Nuxx6JA</td>\n",
       "      <td>fWqtOUpCFv6rmaacYZdkEQ</td>\n",
       "      <td>0z010Dfuv-PLUIukFhYEHQ</td>\n",
       "      <td>5</td>\n",
       "      <td>Great spot. Matt is da Bomb. Fair price for go...</td>\n",
       "      <td>55</td>\n",
       "      <td>0</td>\n",
       "      <td>None</td>\n",
       "      <td>0</td>\n",
       "      <td>2.95</td>\n",
       "      <td>2</td>\n",
       "      <td>Hydrate Salon and Spa</td>\n",
       "      <td>Day Spas, Hair Salons, Beauty &amp; Spas</td>\n",
       "      <td>4.0</td>\n",
       "      <td>great spot fair price good servic profession s...</td>\n",
       "    </tr>\n",
       "  </tbody>\n",
       "</table>\n",
       "</div>"
      ],
      "text/plain": [
       "                review_id                 user_id             business_id  \\\n",
       "0  lXSEWDtaiaQcxj5Nuxx6JA  fWqtOUpCFv6rmaacYZdkEQ  0z010Dfuv-PLUIukFhYEHQ   \n",
       "\n",
       "   review_stars                                        review_text  \\\n",
       "0             5  Great spot. Matt is da Bomb. Fair price for go...   \n",
       "\n",
       "   user_review_count  user_elite user_friends  user_fans  user_average_stars  \\\n",
       "0                 55           0         None          0                2.95   \n",
       "\n",
       "   user_total_compliments          business_name  \\\n",
       "0                       2  Hydrate Salon and Spa   \n",
       "\n",
       "                    business_categories  business_stars  \\\n",
       "0  Day Spas, Hair Salons, Beauty & Spas             4.0   \n",
       "\n",
       "                          review_text_after_cleaning  \n",
       "0  great spot fair price good servic profession s...  "
      ]
     },
     "execution_count": 7,
     "metadata": {},
     "output_type": "execute_result"
    }
   ],
   "source": [
    "df.head(1)"
   ]
  },
  {
   "cell_type": "code",
   "execution_count": 8,
   "metadata": {},
   "outputs": [
    {
     "data": {
      "text/plain": [
       "<AxesSubplot:xlabel='user_fans', ylabel='user_average_stars'>"
      ]
     },
     "execution_count": 8,
     "metadata": {},
     "output_type": "execute_result"
    },
    {
     "data": {
      "image/png": "[encoded data removed]",
      "text/plain": [
       "<Figure size 432x288 with 1 Axes>"
      ]
     },
     "metadata": {
      "needs_background": "light"
     },
     "output_type": "display_data"
    }
   ],
   "source": [
    "sns.scatterplot(x='user_fans', y='user_average_stars', data=df)"
   ]
  },
  {
   "cell_type": "code",
   "execution_count": 9,
   "metadata": {},
   "outputs": [
    {
     "data": {
      "text/plain": [
       "<AxesSubplot:xlabel='business_stars', ylabel='review_stars'>"
      ]
     },
     "execution_count": 9,
     "metadata": {},
     "output_type": "execute_result"
    },
    {
     "data": {
      "image/png": "[encoded data removed]",
      "text/plain": [
       "<Figure size 432x288 with 1 Axes>"
      ]
     },
     "metadata": {
      "needs_background": "light"
     },
     "output_type": "display_data"
    }
   ],
   "source": [
    "sns.lineplot(x='business_stars', y='review_stars', data=df)"
   ]
  },
  {
   "cell_type": "code",
   "execution_count": 10,
   "metadata": {},
   "outputs": [
    {
     "data": {
      "text/plain": [
       "array([5, 2, 4, 1, 3], dtype=int64)"
      ]
     },
     "execution_count": 10,
     "metadata": {},
     "output_type": "execute_result"
    }
   ],
   "source": [
    "df[\"review_stars\"].unique()"
   ]
  },
  {
   "cell_type": "code",
   "execution_count": 11,
   "metadata": {},
   "outputs": [
    {
     "data": {
      "text/plain": [
       "review_id                     0\n",
       "user_id                       0\n",
       "business_id                   0\n",
       "review_stars                  0\n",
       "review_text                   0\n",
       "user_review_count             0\n",
       "user_elite                    0\n",
       "user_friends                  0\n",
       "user_fans                     0\n",
       "user_average_stars            0\n",
       "user_total_compliments        0\n",
       "business_name                 0\n",
       "business_categories           0\n",
       "business_stars                0\n",
       "review_text_after_cleaning    0\n",
       "dtype: int64"
      ]
     },
     "execution_count": 11,
     "metadata": {},
     "output_type": "execute_result"
    }
   ],
   "source": [
    "df.isnull().sum()"
   ]
  },
  {
   "cell_type": "code",
   "execution_count": 12,
   "metadata": {},
   "outputs": [
    {
     "data": {
      "text/plain": [
       "<AxesSubplot:xlabel='review_stars', ylabel='size'>"
      ]
     },
     "execution_count": 12,
     "metadata": {},
     "output_type": "execute_result"
    },
    {
     "data": {
      "image/png": "[encoded data removed]",
      "text/plain": [
       "<Figure size 432x288 with 1 Axes>"
      ]
     },
     "metadata": {
      "needs_background": "light"
     },
     "output_type": "display_data"
    }
   ],
   "source": [
    "review_star_freq = df.groupby(\"review_stars\", as_index=False).size()\n",
    "sns.barplot(x=\"review_stars\", y=\"size\", data=review_star_freq)"
   ]
  },
  {
   "cell_type": "markdown",
   "metadata": {},
   "source": [
    "Most users would like to give a high quality. Perhaps users may be more likely to write a comment and give stars when they had a good service"
   ]
  },
  {
   "cell_type": "code",
   "execution_count": 13,
   "metadata": {},
   "outputs": [],
   "source": [
    "df[\"to_recommend\"] = df[\"review_stars\"].apply(lambda x : True if x == 5 else False)"
   ]
  },
  {
   "cell_type": "code",
   "execution_count": 14,
   "metadata": {},
   "outputs": [
    {
     "data": {
      "text/plain": [
       "<AxesSubplot:xlabel='business_stars', ylabel='to_recommend'>"
      ]
     },
     "execution_count": 14,
     "metadata": {},
     "output_type": "execute_result"
    },
    {
     "data": {
      "image/png": "[encoded data removed]",
      "text/plain": [
       "<Figure size 432x288 with 1 Axes>"
      ]
     },
     "metadata": {
      "needs_background": "light"
     },
     "output_type": "display_data"
    }
   ],
   "source": [
    "sns.lineplot(x='business_stars', y='to_recommend', data=df)"
   ]
  },
  {
   "cell_type": "code",
   "execution_count": 15,
   "metadata": {},
   "outputs": [],
   "source": [
    "def num_user_friends(data):\n",
    "    return data.count(',') + 1 if data != 'None' else 0\n",
    "\n",
    "df[\"num_user_friends\"] = df[\"user_friends\"].apply(num_user_friends)"
   ]
  },
  {
   "cell_type": "code",
   "execution_count": 16,
   "metadata": {},
   "outputs": [
    {
     "data": {
      "text/html": [
       "<div>\n",
       "<style scoped>\n",
       "    .dataframe tbody tr th:only-of-type {\n",
       "        vertical-align: middle;\n",
       "    }\n",
       "\n",
       "    .dataframe tbody tr th {\n",
       "        vertical-align: top;\n",
       "    }\n",
       "\n",
       "    .dataframe thead th {\n",
       "        text-align: right;\n",
       "    }\n",
       "</style>\n",
       "<table border=\"1\" class=\"dataframe\">\n",
       "  <thead>\n",
       "    <tr style=\"text-align: right;\">\n",
       "      <th></th>\n",
       "      <th>review_id</th>\n",
       "      <th>user_id</th>\n",
       "      <th>business_id</th>\n",
       "      <th>review_stars</th>\n",
       "      <th>review_text</th>\n",
       "      <th>user_review_count</th>\n",
       "      <th>user_elite</th>\n",
       "      <th>user_friends</th>\n",
       "      <th>user_fans</th>\n",
       "      <th>user_average_stars</th>\n",
       "      <th>user_total_compliments</th>\n",
       "      <th>business_name</th>\n",
       "      <th>business_categories</th>\n",
       "      <th>business_stars</th>\n",
       "      <th>review_text_after_cleaning</th>\n",
       "      <th>to_recommend</th>\n",
       "      <th>num_user_friends</th>\n",
       "    </tr>\n",
       "  </thead>\n",
       "  <tbody>\n",
       "    <tr>\n",
       "      <th>0</th>\n",
       "      <td>lXSEWDtaiaQcxj5Nuxx6JA</td>\n",
       "      <td>fWqtOUpCFv6rmaacYZdkEQ</td>\n",
       "      <td>0z010Dfuv-PLUIukFhYEHQ</td>\n",
       "      <td>5</td>\n",
       "      <td>Great spot. Matt is da Bomb. Fair price for go...</td>\n",
       "      <td>55</td>\n",
       "      <td>0</td>\n",
       "      <td>None</td>\n",
       "      <td>0</td>\n",
       "      <td>2.95</td>\n",
       "      <td>2</td>\n",
       "      <td>Hydrate Salon and Spa</td>\n",
       "      <td>Day Spas, Hair Salons, Beauty &amp; Spas</td>\n",
       "      <td>4.0</td>\n",
       "      <td>great spot fair price good servic profession s...</td>\n",
       "      <td>True</td>\n",
       "      <td>0</td>\n",
       "    </tr>\n",
       "  </tbody>\n",
       "</table>\n",
       "</div>"
      ],
      "text/plain": [
       "                review_id                 user_id             business_id  \\\n",
       "0  lXSEWDtaiaQcxj5Nuxx6JA  fWqtOUpCFv6rmaacYZdkEQ  0z010Dfuv-PLUIukFhYEHQ   \n",
       "\n",
       "   review_stars                                        review_text  \\\n",
       "0             5  Great spot. Matt is da Bomb. Fair price for go...   \n",
       "\n",
       "   user_review_count  user_elite user_friends  user_fans  user_average_stars  \\\n",
       "0                 55           0         None          0                2.95   \n",
       "\n",
       "   user_total_compliments          business_name  \\\n",
       "0                       2  Hydrate Salon and Spa   \n",
       "\n",
       "                    business_categories  business_stars  \\\n",
       "0  Day Spas, Hair Salons, Beauty & Spas             4.0   \n",
       "\n",
       "                          review_text_after_cleaning  to_recommend  \\\n",
       "0  great spot fair price good servic profession s...          True   \n",
       "\n",
       "   num_user_friends  \n",
       "0                 0  "
      ]
     },
     "execution_count": 16,
     "metadata": {},
     "output_type": "execute_result"
    }
   ],
   "source": [
    "df.head(1)"
   ]
  },
  {
   "cell_type": "code",
   "execution_count": 17,
   "metadata": {},
   "outputs": [],
   "source": [
    "df.to_csv(\"data/yelp_academic_dataset_sample0125_filter.csv\", index=False)"
   ]
  },
  {
   "cell_type": "code",
   "execution_count": 22,
   "metadata": {},
   "outputs": [],
   "source": [
    "df = pd.read_csv(\"data/yelp_academic_dataset_sample0125_filter.csv\")"
   ]
  },
  {
   "cell_type": "code",
   "execution_count": 23,
   "metadata": {},
   "outputs": [
    {
     "data": {
      "text/plain": [
       "review_id                       0\n",
       "user_id                         0\n",
       "business_id                     0\n",
       "review_stars                    0\n",
       "review_text                     0\n",
       "user_review_count               0\n",
       "user_elite                      0\n",
       "user_friends                    0\n",
       "user_fans                       0\n",
       "user_average_stars              0\n",
       "user_total_compliments          0\n",
       "business_name                   0\n",
       "business_categories             0\n",
       "business_stars                  0\n",
       "review_text_after_cleaning    328\n",
       "to_recommend                    0\n",
       "num_user_friends                0\n",
       "dtype: int64"
      ]
     },
     "execution_count": 23,
     "metadata": {},
     "output_type": "execute_result"
    }
   ],
   "source": [
    "df.isnull().sum()"
   ]
  },
  {
   "cell_type": "code",
   "execution_count": 24,
   "metadata": {},
   "outputs": [
    {
     "data": {
      "text/html": [
       "<div>\n",
       "<style scoped>\n",
       "    .dataframe tbody tr th:only-of-type {\n",
       "        vertical-align: middle;\n",
       "    }\n",
       "\n",
       "    .dataframe tbody tr th {\n",
       "        vertical-align: top;\n",
       "    }\n",
       "\n",
       "    .dataframe thead th {\n",
       "        text-align: right;\n",
       "    }\n",
       "</style>\n",
       "<table border=\"1\" class=\"dataframe\">\n",
       "  <thead>\n",
       "    <tr style=\"text-align: right;\">\n",
       "      <th></th>\n",
       "      <th>review_id</th>\n",
       "      <th>user_id</th>\n",
       "      <th>business_id</th>\n",
       "      <th>review_stars</th>\n",
       "      <th>review_text</th>\n",
       "      <th>user_review_count</th>\n",
       "      <th>user_elite</th>\n",
       "      <th>user_friends</th>\n",
       "      <th>user_fans</th>\n",
       "      <th>user_average_stars</th>\n",
       "      <th>user_total_compliments</th>\n",
       "      <th>business_name</th>\n",
       "      <th>business_categories</th>\n",
       "      <th>business_stars</th>\n",
       "      <th>review_text_after_cleaning</th>\n",
       "      <th>to_recommend</th>\n",
       "      <th>num_user_friends</th>\n",
       "    </tr>\n",
       "  </thead>\n",
       "  <tbody>\n",
       "    <tr>\n",
       "      <th>8764</th>\n",
       "      <td>_0ca8566X8NNfQfpwWY3dQ</td>\n",
       "      <td>qDxrWaeD1-_uJEIj4ZDsSQ</td>\n",
       "      <td>slUn4AINGy3QmDK62YGzoA</td>\n",
       "      <td>1</td>\n",
       "      <td>差評，等了一個小時，連后面的客人吃飽走了，還沒有上菜，只有一壶茶，我也是在美國幾十年了，餐飲...</td>\n",
       "      <td>11</td>\n",
       "      <td>0</td>\n",
       "      <td>None</td>\n",
       "      <td>0</td>\n",
       "      <td>2.91</td>\n",
       "      <td>1</td>\n",
       "      <td>China Mama</td>\n",
       "      <td>Restaurants, Chinese</td>\n",
       "      <td>4.5</td>\n",
       "      <td>NaN</td>\n",
       "      <td>False</td>\n",
       "      <td>0</td>\n",
       "    </tr>\n",
       "    <tr>\n",
       "      <th>9934</th>\n",
       "      <td>RWJyJHTCzQMTqS4mJaFLBw</td>\n",
       "      <td>NOil0njjZB7SIojAtPI_Wg</td>\n",
       "      <td>Y5-Gphj7DNIav1ZADUip-A</td>\n",
       "      <td>5</td>\n",
       "      <td>Comment ne pas aimer le Marché Jean-Talon?</td>\n",
       "      <td>15</td>\n",
       "      <td>0</td>\n",
       "      <td>None</td>\n",
       "      <td>0</td>\n",
       "      <td>3.44</td>\n",
       "      <td>1</td>\n",
       "      <td>Marché Jean-Talon</td>\n",
       "      <td>Shopping, Public Markets, Food, Grocery, Farme...</td>\n",
       "      <td>4.5</td>\n",
       "      <td>NaN</td>\n",
       "      <td>True</td>\n",
       "      <td>0</td>\n",
       "    </tr>\n",
       "    <tr>\n",
       "      <th>9983</th>\n",
       "      <td>ti-Ws-uLBamXoPlc0dFbcg</td>\n",
       "      <td>rIzFbmSVEn0SbMXV2RS1BA</td>\n",
       "      <td>Y5-Gphj7DNIav1ZADUip-A</td>\n",
       "      <td>5</td>\n",
       "      <td>Mon marché préféré! De beaux produits à prix a...</td>\n",
       "      <td>352</td>\n",
       "      <td>4</td>\n",
       "      <td>tBBxgF5yCkHiEvSE3d-kXw, YYn_0gtYwafr6b6I9UG4mg...</td>\n",
       "      <td>12</td>\n",
       "      <td>3.61</td>\n",
       "      <td>384</td>\n",
       "      <td>Marché Jean-Talon</td>\n",
       "      <td>Shopping, Public Markets, Food, Grocery, Farme...</td>\n",
       "      <td>4.5</td>\n",
       "      <td>NaN</td>\n",
       "      <td>True</td>\n",
       "      <td>147</td>\n",
       "    </tr>\n",
       "    <tr>\n",
       "      <th>10637</th>\n",
       "      <td>tWoeks88YiiEJMdTm1pQ7A</td>\n",
       "      <td>8JWBGvFTYSgQrLhRRTqppQ</td>\n",
       "      <td>fzHBvd0HZm1yB3UIMqZ3bA</td>\n",
       "      <td>1</td>\n",
       "      <td>首先不说菜如何 我们点了一份蟹粉包一份红油抄手麻辣牛筋和油条， 小笼包还好，牛筋太难吃了。更...</td>\n",
       "      <td>2</td>\n",
       "      <td>0</td>\n",
       "      <td>None</td>\n",
       "      <td>0</td>\n",
       "      <td>2.00</td>\n",
       "      <td>0</td>\n",
       "      <td>Ding Tai Fung</td>\n",
       "      <td>Dim Sum, Specialty Food, Food, Chinese, Ethnic...</td>\n",
       "      <td>3.5</td>\n",
       "      <td>NaN</td>\n",
       "      <td>False</td>\n",
       "      <td>0</td>\n",
       "    </tr>\n",
       "    <tr>\n",
       "      <th>10664</th>\n",
       "      <td>oLQfIBR3EUPuKf5pc2J5PA</td>\n",
       "      <td>X-uefJdU44ctKNdB80qqAQ</td>\n",
       "      <td>kNnFjsxNv_OkvK4GLRTBJg</td>\n",
       "      <td>4</td>\n",
       "      <td>因為我係住喺downtown，所以平時行街都係行eaton centre。難得今個週末上up...</td>\n",
       "      <td>89</td>\n",
       "      <td>0</td>\n",
       "      <td>l7AM4HoSSQ2ulDDmmwnTcA, CQ67NJigSe5-uBDX3b_CUw...</td>\n",
       "      <td>2</td>\n",
       "      <td>3.70</td>\n",
       "      <td>2</td>\n",
       "      <td>Markville Shopping Centre</td>\n",
       "      <td>Shopping, Shopping Centers</td>\n",
       "      <td>3.5</td>\n",
       "      <td>NaN</td>\n",
       "      <td>False</td>\n",
       "      <td>71</td>\n",
       "    </tr>\n",
       "    <tr>\n",
       "      <th>...</th>\n",
       "      <td>...</td>\n",
       "      <td>...</td>\n",
       "      <td>...</td>\n",
       "      <td>...</td>\n",
       "      <td>...</td>\n",
       "      <td>...</td>\n",
       "      <td>...</td>\n",
       "      <td>...</td>\n",
       "      <td>...</td>\n",
       "      <td>...</td>\n",
       "      <td>...</td>\n",
       "      <td>...</td>\n",
       "      <td>...</td>\n",
       "      <td>...</td>\n",
       "      <td>...</td>\n",
       "      <td>...</td>\n",
       "      <td>...</td>\n",
       "    </tr>\n",
       "    <tr>\n",
       "      <th>989988</th>\n",
       "      <td>32ePVfSRVA8rW1JaaQWPIQ</td>\n",
       "      <td>w9jkvfUBmJkixL6ur3ef9Q</td>\n",
       "      <td>X6ek-toL9X89qE0nZLWSqw</td>\n",
       "      <td>4</td>\n",
       "      <td>Un classique!</td>\n",
       "      <td>4</td>\n",
       "      <td>0</td>\n",
       "      <td>vno4e4k3pZdTZK4ctTElGA, LOqdrVuv1TbMyKsO_k21pQ...</td>\n",
       "      <td>0</td>\n",
       "      <td>3.75</td>\n",
       "      <td>0</td>\n",
       "      <td>Villa Pasta</td>\n",
       "      <td>Restaurants, Italian</td>\n",
       "      <td>3.0</td>\n",
       "      <td>NaN</td>\n",
       "      <td>False</td>\n",
       "      <td>3</td>\n",
       "    </tr>\n",
       "    <tr>\n",
       "      <th>997884</th>\n",
       "      <td>DCFrLjuwtb1lZcsLkfCQrQ</td>\n",
       "      <td>nyhQseET_zIfWVhDd6sduQ</td>\n",
       "      <td>uGLAEGqeJa4jtP1Io0sOrg</td>\n",
       "      <td>5</td>\n",
       "      <td>Très bon restaurant de cuisine Asiatique fusio...</td>\n",
       "      <td>1</td>\n",
       "      <td>0</td>\n",
       "      <td>None</td>\n",
       "      <td>0</td>\n",
       "      <td>5.00</td>\n",
       "      <td>0</td>\n",
       "      <td>Mineral</td>\n",
       "      <td>Beer, Wine &amp; Spirits, Restaurants, Canadian (N...</td>\n",
       "      <td>4.5</td>\n",
       "      <td>NaN</td>\n",
       "      <td>True</td>\n",
       "      <td>0</td>\n",
       "    </tr>\n",
       "    <tr>\n",
       "      <th>999622</th>\n",
       "      <td>is3rg1U6RbF-jt5p0OIVow</td>\n",
       "      <td>ybsM3GDTOtHa2msP2NFB_w</td>\n",
       "      <td>sIx27ubGSnmrA_BcuKNaSA</td>\n",
       "      <td>5</td>\n",
       "      <td>Huyy que tienda muy limpia y muy buen servicio...</td>\n",
       "      <td>1</td>\n",
       "      <td>0</td>\n",
       "      <td>f2FXhyjZ3qYjd_yh62yAYg, Tm_oTXOurllOaQqiLnjnzg...</td>\n",
       "      <td>0</td>\n",
       "      <td>5.00</td>\n",
       "      <td>0</td>\n",
       "      <td>Fry's Food Stores of Arizona</td>\n",
       "      <td>Grocery, Food</td>\n",
       "      <td>2.0</td>\n",
       "      <td>NaN</td>\n",
       "      <td>True</td>\n",
       "      <td>4</td>\n",
       "    </tr>\n",
       "    <tr>\n",
       "      <th>1000986</th>\n",
       "      <td>hu1whXPTvCgYQz1W476Otg</td>\n",
       "      <td>ENWtgqMipKOJCQrqtuPqDw</td>\n",
       "      <td>8z1S900U2lYtABbwrHMDQg</td>\n",
       "      <td>3</td>\n",
       "      <td>Leur Poutine est excellente et le temps d'atte...</td>\n",
       "      <td>2</td>\n",
       "      <td>0</td>\n",
       "      <td>None</td>\n",
       "      <td>0</td>\n",
       "      <td>4.00</td>\n",
       "      <td>0</td>\n",
       "      <td>Centrale Bergham</td>\n",
       "      <td>Restaurants, Fast Food, Burgers, Moroccan, Mid...</td>\n",
       "      <td>3.5</td>\n",
       "      <td>NaN</td>\n",
       "      <td>False</td>\n",
       "      <td>0</td>\n",
       "    </tr>\n",
       "    <tr>\n",
       "      <th>1001049</th>\n",
       "      <td>X_LXnm4HWy9LS7d6uT0nAw</td>\n",
       "      <td>7PA52UC9tsFU_b0LWrvAHA</td>\n",
       "      <td>u95lfFlmAHOlXCs-Whmt9g</td>\n",
       "      <td>3</td>\n",
       "      <td>Petit mais relativement concentré\\n\\nSe trouve...</td>\n",
       "      <td>1412</td>\n",
       "      <td>0</td>\n",
       "      <td>y53fWLTyWpvG60-pp_BxlQ, Eqdfe1DX2HLjgMzfSYMPCg...</td>\n",
       "      <td>10</td>\n",
       "      <td>3.21</td>\n",
       "      <td>13</td>\n",
       "      <td>Quartier Chinois / Chinatown</td>\n",
       "      <td>Shopping, Local Flavor</td>\n",
       "      <td>3.5</td>\n",
       "      <td>NaN</td>\n",
       "      <td>False</td>\n",
       "      <td>12</td>\n",
       "    </tr>\n",
       "  </tbody>\n",
       "</table>\n",
       "<p>328 rows × 17 columns</p>\n",
       "</div>"
      ],
      "text/plain": [
       "                      review_id                 user_id  \\\n",
       "8764     _0ca8566X8NNfQfpwWY3dQ  qDxrWaeD1-_uJEIj4ZDsSQ   \n",
       "9934     RWJyJHTCzQMTqS4mJaFLBw  NOil0njjZB7SIojAtPI_Wg   \n",
       "9983     ti-Ws-uLBamXoPlc0dFbcg  rIzFbmSVEn0SbMXV2RS1BA   \n",
       "10637    tWoeks88YiiEJMdTm1pQ7A  8JWBGvFTYSgQrLhRRTqppQ   \n",
       "10664    oLQfIBR3EUPuKf5pc2J5PA  X-uefJdU44ctKNdB80qqAQ   \n",
       "...                         ...                     ...   \n",
       "989988   32ePVfSRVA8rW1JaaQWPIQ  w9jkvfUBmJkixL6ur3ef9Q   \n",
       "997884   DCFrLjuwtb1lZcsLkfCQrQ  nyhQseET_zIfWVhDd6sduQ   \n",
       "999622   is3rg1U6RbF-jt5p0OIVow  ybsM3GDTOtHa2msP2NFB_w   \n",
       "1000986  hu1whXPTvCgYQz1W476Otg  ENWtgqMipKOJCQrqtuPqDw   \n",
       "1001049  X_LXnm4HWy9LS7d6uT0nAw  7PA52UC9tsFU_b0LWrvAHA   \n",
       "\n",
       "                    business_id  review_stars  \\\n",
       "8764     slUn4AINGy3QmDK62YGzoA             1   \n",
       "9934     Y5-Gphj7DNIav1ZADUip-A             5   \n",
       "9983     Y5-Gphj7DNIav1ZADUip-A             5   \n",
       "10637    fzHBvd0HZm1yB3UIMqZ3bA             1   \n",
       "10664    kNnFjsxNv_OkvK4GLRTBJg             4   \n",
       "...                         ...           ...   \n",
       "989988   X6ek-toL9X89qE0nZLWSqw             4   \n",
       "997884   uGLAEGqeJa4jtP1Io0sOrg             5   \n",
       "999622   sIx27ubGSnmrA_BcuKNaSA             5   \n",
       "1000986  8z1S900U2lYtABbwrHMDQg             3   \n",
       "1001049  u95lfFlmAHOlXCs-Whmt9g             3   \n",
       "\n",
       "                                               review_text  user_review_count  \\\n",
       "8764     差評，等了一個小時，連后面的客人吃飽走了，還沒有上菜，只有一壶茶，我也是在美國幾十年了，餐飲...                 11   \n",
       "9934            Comment ne pas aimer le Marché Jean-Talon?                 15   \n",
       "9983     Mon marché préféré! De beaux produits à prix a...                352   \n",
       "10637    首先不说菜如何 我们点了一份蟹粉包一份红油抄手麻辣牛筋和油条， 小笼包还好，牛筋太难吃了。更...                  2   \n",
       "10664    因為我係住喺downtown，所以平時行街都係行eaton centre。難得今個週末上up...                 89   \n",
       "...                                                    ...                ...   \n",
       "989988                                       Un classique!                  4   \n",
       "997884   Très bon restaurant de cuisine Asiatique fusio...                  1   \n",
       "999622   Huyy que tienda muy limpia y muy buen servicio...                  1   \n",
       "1000986  Leur Poutine est excellente et le temps d'atte...                  2   \n",
       "1001049  Petit mais relativement concentré\\n\\nSe trouve...               1412   \n",
       "\n",
       "         user_elite                                       user_friends  \\\n",
       "8764              0                                               None   \n",
       "9934              0                                               None   \n",
       "9983              4  tBBxgF5yCkHiEvSE3d-kXw, YYn_0gtYwafr6b6I9UG4mg...   \n",
       "10637             0                                               None   \n",
       "10664             0  l7AM4HoSSQ2ulDDmmwnTcA, CQ67NJigSe5-uBDX3b_CUw...   \n",
       "...             ...                                                ...   \n",
       "989988            0  vno4e4k3pZdTZK4ctTElGA, LOqdrVuv1TbMyKsO_k21pQ...   \n",
       "997884            0                                               None   \n",
       "999622            0  f2FXhyjZ3qYjd_yh62yAYg, Tm_oTXOurllOaQqiLnjnzg...   \n",
       "1000986           0                                               None   \n",
       "1001049           0  y53fWLTyWpvG60-pp_BxlQ, Eqdfe1DX2HLjgMzfSYMPCg...   \n",
       "\n",
       "         user_fans  user_average_stars  user_total_compliments  \\\n",
       "8764             0                2.91                       1   \n",
       "9934             0                3.44                       1   \n",
       "9983            12                3.61                     384   \n",
       "10637            0                2.00                       0   \n",
       "10664            2                3.70                       2   \n",
       "...            ...                 ...                     ...   \n",
       "989988           0                3.75                       0   \n",
       "997884           0                5.00                       0   \n",
       "999622           0                5.00                       0   \n",
       "1000986          0                4.00                       0   \n",
       "1001049         10                3.21                      13   \n",
       "\n",
       "                        business_name  \\\n",
       "8764                       China Mama   \n",
       "9934                Marché Jean-Talon   \n",
       "9983                Marché Jean-Talon   \n",
       "10637                   Ding Tai Fung   \n",
       "10664       Markville Shopping Centre   \n",
       "...                               ...   \n",
       "989988                    Villa Pasta   \n",
       "997884                        Mineral   \n",
       "999622   Fry's Food Stores of Arizona   \n",
       "1000986              Centrale Bergham   \n",
       "1001049  Quartier Chinois / Chinatown   \n",
       "\n",
       "                                       business_categories  business_stars  \\\n",
       "8764                                  Restaurants, Chinese             4.5   \n",
       "9934     Shopping, Public Markets, Food, Grocery, Farme...             4.5   \n",
       "9983     Shopping, Public Markets, Food, Grocery, Farme...             4.5   \n",
       "10637    Dim Sum, Specialty Food, Food, Chinese, Ethnic...             3.5   \n",
       "10664                           Shopping, Shopping Centers             3.5   \n",
       "...                                                    ...             ...   \n",
       "989988                                Restaurants, Italian             3.0   \n",
       "997884   Beer, Wine & Spirits, Restaurants, Canadian (N...             4.5   \n",
       "999622                                       Grocery, Food             2.0   \n",
       "1000986  Restaurants, Fast Food, Burgers, Moroccan, Mid...             3.5   \n",
       "1001049                             Shopping, Local Flavor             3.5   \n",
       "\n",
       "        review_text_after_cleaning  to_recommend  num_user_friends  \n",
       "8764                           NaN         False                 0  \n",
       "9934                           NaN          True                 0  \n",
       "9983                           NaN          True               147  \n",
       "10637                          NaN         False                 0  \n",
       "10664                          NaN         False                71  \n",
       "...                            ...           ...               ...  \n",
       "989988                         NaN         False                 3  \n",
       "997884                         NaN          True                 0  \n",
       "999622                         NaN          True                 4  \n",
       "1000986                        NaN         False                 0  \n",
       "1001049                        NaN         False                12  \n",
       "\n",
       "[328 rows x 17 columns]"
      ]
     },
     "execution_count": 24,
     "metadata": {},
     "output_type": "execute_result"
    }
   ],
   "source": [
    "df[df[\"review_text_after_cleaning\"].isnull()]"
   ]
  },
  {
   "cell_type": "code",
   "execution_count": 25,
   "metadata": {},
   "outputs": [
    {
     "name": "stdout",
     "output_type": "stream",
     "text": [
      "<class 'pandas.core.frame.DataFrame'>\n",
      "Int64Index: 1002050 entries, 0 to 1002377\n",
      "Data columns (total 17 columns):\n",
      " #   Column                      Non-Null Count    Dtype  \n",
      "---  ------                      --------------    -----  \n",
      " 0   review_id                   1002050 non-null  object \n",
      " 1   user_id                     1002050 non-null  object \n",
      " 2   business_id                 1002050 non-null  object \n",
      " 3   review_stars                1002050 non-null  int64  \n",
      " 4   review_text                 1002050 non-null  object \n",
      " 5   user_review_count           1002050 non-null  int64  \n",
      " 6   user_elite                  1002050 non-null  int64  \n",
      " 7   user_friends                1002050 non-null  object \n",
      " 8   user_fans                   1002050 non-null  int64  \n",
      " 9   user_average_stars          1002050 non-null  float64\n",
      " 10  user_total_compliments      1002050 non-null  int64  \n",
      " 11  business_name               1002050 non-null  object \n",
      " 12  business_categories         1002050 non-null  object \n",
      " 13  business_stars              1002050 non-null  float64\n",
      " 14  review_text_after_cleaning  1002050 non-null  object \n",
      " 15  to_recommend                1002050 non-null  bool   \n",
      " 16  num_user_friends            1002050 non-null  int64  \n",
      "dtypes: bool(1), float64(2), int64(6), object(8)\n",
      "memory usage: 130.9+ MB\n"
     ]
    }
   ],
   "source": [
    "df = df[~df[\"review_text_after_cleaning\"].isnull()]\n",
    "df.info()"
   ]
  },
  {
   "cell_type": "code",
   "execution_count": 5,
   "metadata": {},
   "outputs": [],
   "source": [
    "user = pd.read_json(\"data/yelp_academic_dataset_user.json\", lines=True)"
   ]
  },
  {
   "cell_type": "code",
   "execution_count": 8,
   "metadata": {},
   "outputs": [
    {
     "name": "stdout",
     "output_type": "stream",
     "text": [
      "<class 'pandas.core.frame.DataFrame'>\n",
      "RangeIndex: 1968703 entries, 0 to 1968702\n",
      "Data columns (total 22 columns):\n",
      " #   Column              Dtype  \n",
      "---  ------              -----  \n",
      " 0   user_id             object \n",
      " 1   name                object \n",
      " 2   review_count        int64  \n",
      " 3   yelping_since       object \n",
      " 4   useful              int64  \n",
      " 5   funny               int64  \n",
      " 6   cool                int64  \n",
      " 7   elite               object \n",
      " 8   friends             object \n",
      " 9   fans                int64  \n",
      " 10  average_stars       float64\n",
      " 11  compliment_hot      int64  \n",
      " 12  compliment_more     int64  \n",
      " 13  compliment_profile  int64  \n",
      " 14  compliment_cute     int64  \n",
      " 15  compliment_list     int64  \n",
      " 16  compliment_note     int64  \n",
      " 17  compliment_plain    int64  \n",
      " 18  compliment_cool     int64  \n",
      " 19  compliment_funny    int64  \n",
      " 20  compliment_writer   int64  \n",
      " 21  compliment_photos   int64  \n",
      "dtypes: float64(1), int64(16), object(5)\n",
      "memory usage: 330.4+ MB\n"
     ]
    }
   ],
   "source": [
    "user.info()"
   ]
  },
  {
   "cell_type": "code",
   "execution_count": 17,
   "metadata": {
    "scrolled": true
   },
   "outputs": [
    {
     "data": {
      "text/plain": [
       "'2018'"
      ]
     },
     "execution_count": 17,
     "metadata": {},
     "output_type": "execute_result"
    }
   ],
   "source": [
    "max(user[\"elite\"].apply(lambda x : max(x.split(\",\"))))"
   ]
  },
  {
   "cell_type": "code",
   "execution_count": 21,
   "metadata": {},
   "outputs": [
    {
     "data": {
      "text/plain": [
       "'2006'"
      ]
     },
     "execution_count": 21,
     "metadata": {},
     "output_type": "execute_result"
    }
   ],
   "source": [
    "minimum = user[\"elite\"].apply(lambda x : min(x.split(\",\")))\n",
    "mini = \"2020\"\n",
    "for i in minimum:\n",
    "    if i and i < mini:\n",
    "        mini = i\n",
    "mini"
   ]
  },
  {
   "cell_type": "code",
   "execution_count": 27,
   "metadata": {},
   "outputs": [
    {
     "data": {
      "text/html": [
       "<div>\n",
       "<style scoped>\n",
       "    .dataframe tbody tr th:only-of-type {\n",
       "        vertical-align: middle;\n",
       "    }\n",
       "\n",
       "    .dataframe tbody tr th {\n",
       "        vertical-align: top;\n",
       "    }\n",
       "\n",
       "    .dataframe thead th {\n",
       "        text-align: right;\n",
       "    }\n",
       "</style>\n",
       "<table border=\"1\" class=\"dataframe\">\n",
       "  <thead>\n",
       "    <tr style=\"text-align: right;\">\n",
       "      <th></th>\n",
       "      <th>review_id</th>\n",
       "      <th>user_id</th>\n",
       "      <th>business_id</th>\n",
       "      <th>review_stars</th>\n",
       "      <th>review_text</th>\n",
       "      <th>user_review_count</th>\n",
       "      <th>user_elite</th>\n",
       "      <th>user_friends</th>\n",
       "      <th>user_fans</th>\n",
       "      <th>user_average_stars</th>\n",
       "      <th>user_total_compliments</th>\n",
       "      <th>business_name</th>\n",
       "      <th>business_categories</th>\n",
       "      <th>business_stars</th>\n",
       "      <th>review_text_after_cleaning</th>\n",
       "      <th>to_recommend</th>\n",
       "      <th>num_user_friends</th>\n",
       "      <th>yelping_since</th>\n",
       "      <th>elite</th>\n",
       "    </tr>\n",
       "  </thead>\n",
       "  <tbody>\n",
       "    <tr>\n",
       "      <th>0</th>\n",
       "      <td>lXSEWDtaiaQcxj5Nuxx6JA</td>\n",
       "      <td>fWqtOUpCFv6rmaacYZdkEQ</td>\n",
       "      <td>0z010Dfuv-PLUIukFhYEHQ</td>\n",
       "      <td>5</td>\n",
       "      <td>Great spot. Matt is da Bomb. Fair price for go...</td>\n",
       "      <td>55</td>\n",
       "      <td>0</td>\n",
       "      <td>None</td>\n",
       "      <td>0</td>\n",
       "      <td>2.95</td>\n",
       "      <td>2</td>\n",
       "      <td>Hydrate Salon and Spa</td>\n",
       "      <td>Day Spas, Hair Salons, Beauty &amp; Spas</td>\n",
       "      <td>4.0</td>\n",
       "      <td>great spot fair price good servic profession s...</td>\n",
       "      <td>True</td>\n",
       "      <td>0</td>\n",
       "      <td>2012-05-03 17:53:15</td>\n",
       "      <td></td>\n",
       "    </tr>\n",
       "    <tr>\n",
       "      <th>1</th>\n",
       "      <td>Au1-zoHWO3VIlI48blfixA</td>\n",
       "      <td>DlGBaNwQsAeKAW75iHVEzg</td>\n",
       "      <td>0z010Dfuv-PLUIukFhYEHQ</td>\n",
       "      <td>5</td>\n",
       "      <td>I've been coming here for years. Matt does my ...</td>\n",
       "      <td>15</td>\n",
       "      <td>0</td>\n",
       "      <td>MCX2QsAl79d4-Z-H9YJPEw, DN0YgFN7S7teowvOC0mwNA...</td>\n",
       "      <td>2</td>\n",
       "      <td>3.60</td>\n",
       "      <td>1</td>\n",
       "      <td>Hydrate Salon and Spa</td>\n",
       "      <td>Day Spas, Hair Salons, Beauty &amp; Spas</td>\n",
       "      <td>4.0</td>\n",
       "      <td>hair facial alway feel incred welcom everyon g...</td>\n",
       "      <td>True</td>\n",
       "      <td>531</td>\n",
       "      <td>2013-05-29 20:52:29</td>\n",
       "      <td></td>\n",
       "    </tr>\n",
       "    <tr>\n",
       "      <th>2</th>\n",
       "      <td>7I47EEj6OSNnhMzmZ73jFA</td>\n",
       "      <td>DlGBaNwQsAeKAW75iHVEzg</td>\n",
       "      <td>HqDRvA64BpGtjnzf9beE4Q</td>\n",
       "      <td>1</td>\n",
       "      <td>We've been shopping at this specific Godiva fo...</td>\n",
       "      <td>15</td>\n",
       "      <td>0</td>\n",
       "      <td>MCX2QsAl79d4-Z-H9YJPEw, DN0YgFN7S7teowvOC0mwNA...</td>\n",
       "      <td>2</td>\n",
       "      <td>3.60</td>\n",
       "      <td>1</td>\n",
       "      <td>Godiva Chocolatier</td>\n",
       "      <td>Candy Stores, Food, Specialty Food</td>\n",
       "      <td>3.5</td>\n",
       "      <td>shop specif godiva encount employe aw stood st...</td>\n",
       "      <td>False</td>\n",
       "      <td>531</td>\n",
       "      <td>2013-05-29 20:52:29</td>\n",
       "      <td></td>\n",
       "    </tr>\n",
       "    <tr>\n",
       "      <th>3</th>\n",
       "      <td>dw6k8HwpXBZ2xD_MC-9dDg</td>\n",
       "      <td>YBqPdDh0KOdAfMv_9U4jOw</td>\n",
       "      <td>0z010Dfuv-PLUIukFhYEHQ</td>\n",
       "      <td>2</td>\n",
       "      <td>I had one great haircut with Hugh and when I s...</td>\n",
       "      <td>8</td>\n",
       "      <td>0</td>\n",
       "      <td>FC8HuS-i-8XDv0HFGVgnbQ, 66MQLCs9yP2PgKZLTck66Q...</td>\n",
       "      <td>0</td>\n",
       "      <td>1.75</td>\n",
       "      <td>0</td>\n",
       "      <td>Hydrate Salon and Spa</td>\n",
       "      <td>Day Spas, Hair Salons, Beauty &amp; Spas</td>\n",
       "      <td>4.0</td>\n",
       "      <td>schedul minut late also schedul color girl fro...</td>\n",
       "      <td>False</td>\n",
       "      <td>22</td>\n",
       "      <td>2009-06-24 04:36:55</td>\n",
       "      <td></td>\n",
       "    </tr>\n",
       "    <tr>\n",
       "      <th>4</th>\n",
       "      <td>uoUrrljzO60p4pLsbhzGxg</td>\n",
       "      <td>YBqPdDh0KOdAfMv_9U4jOw</td>\n",
       "      <td>fKlr9qNoV37WQJwQ826POg</td>\n",
       "      <td>2</td>\n",
       "      <td>Husband and I attended an investment seminar h...</td>\n",
       "      <td>8</td>\n",
       "      <td>0</td>\n",
       "      <td>FC8HuS-i-8XDv0HFGVgnbQ, 66MQLCs9yP2PgKZLTck66Q...</td>\n",
       "      <td>0</td>\n",
       "      <td>1.75</td>\n",
       "      <td>0</td>\n",
       "      <td>Fogo de Chão Brazilian Steakhouse</td>\n",
       "      <td>Restaurants, Brazilian, Food, Seafood, Steakho...</td>\n",
       "      <td>4.0</td>\n",
       "      <td>husband attend invest seminar salad bar full d...</td>\n",
       "      <td>False</td>\n",
       "      <td>22</td>\n",
       "      <td>2009-06-24 04:36:55</td>\n",
       "      <td></td>\n",
       "    </tr>\n",
       "  </tbody>\n",
       "</table>\n",
       "</div>"
      ],
      "text/plain": [
       "                review_id                 user_id             business_id  \\\n",
       "0  lXSEWDtaiaQcxj5Nuxx6JA  fWqtOUpCFv6rmaacYZdkEQ  0z010Dfuv-PLUIukFhYEHQ   \n",
       "1  Au1-zoHWO3VIlI48blfixA  DlGBaNwQsAeKAW75iHVEzg  0z010Dfuv-PLUIukFhYEHQ   \n",
       "2  7I47EEj6OSNnhMzmZ73jFA  DlGBaNwQsAeKAW75iHVEzg  HqDRvA64BpGtjnzf9beE4Q   \n",
       "3  dw6k8HwpXBZ2xD_MC-9dDg  YBqPdDh0KOdAfMv_9U4jOw  0z010Dfuv-PLUIukFhYEHQ   \n",
       "4  uoUrrljzO60p4pLsbhzGxg  YBqPdDh0KOdAfMv_9U4jOw  fKlr9qNoV37WQJwQ826POg   \n",
       "\n",
       "   review_stars                                        review_text  \\\n",
       "0             5  Great spot. Matt is da Bomb. Fair price for go...   \n",
       "1             5  I've been coming here for years. Matt does my ...   \n",
       "2             1  We've been shopping at this specific Godiva fo...   \n",
       "3             2  I had one great haircut with Hugh and when I s...   \n",
       "4             2  Husband and I attended an investment seminar h...   \n",
       "\n",
       "   user_review_count  user_elite  \\\n",
       "0                 55           0   \n",
       "1                 15           0   \n",
       "2                 15           0   \n",
       "3                  8           0   \n",
       "4                  8           0   \n",
       "\n",
       "                                        user_friends  user_fans  \\\n",
       "0                                               None          0   \n",
       "1  MCX2QsAl79d4-Z-H9YJPEw, DN0YgFN7S7teowvOC0mwNA...          2   \n",
       "2  MCX2QsAl79d4-Z-H9YJPEw, DN0YgFN7S7teowvOC0mwNA...          2   \n",
       "3  FC8HuS-i-8XDv0HFGVgnbQ, 66MQLCs9yP2PgKZLTck66Q...          0   \n",
       "4  FC8HuS-i-8XDv0HFGVgnbQ, 66MQLCs9yP2PgKZLTck66Q...          0   \n",
       "\n",
       "   user_average_stars  user_total_compliments  \\\n",
       "0                2.95                       2   \n",
       "1                3.60                       1   \n",
       "2                3.60                       1   \n",
       "3                1.75                       0   \n",
       "4                1.75                       0   \n",
       "\n",
       "                       business_name  \\\n",
       "0              Hydrate Salon and Spa   \n",
       "1              Hydrate Salon and Spa   \n",
       "2                 Godiva Chocolatier   \n",
       "3              Hydrate Salon and Spa   \n",
       "4  Fogo de Chão Brazilian Steakhouse   \n",
       "\n",
       "                                 business_categories  business_stars  \\\n",
       "0               Day Spas, Hair Salons, Beauty & Spas             4.0   \n",
       "1               Day Spas, Hair Salons, Beauty & Spas             4.0   \n",
       "2                 Candy Stores, Food, Specialty Food             3.5   \n",
       "3               Day Spas, Hair Salons, Beauty & Spas             4.0   \n",
       "4  Restaurants, Brazilian, Food, Seafood, Steakho...             4.0   \n",
       "\n",
       "                          review_text_after_cleaning  to_recommend  \\\n",
       "0  great spot fair price good servic profession s...          True   \n",
       "1  hair facial alway feel incred welcom everyon g...          True   \n",
       "2  shop specif godiva encount employe aw stood st...         False   \n",
       "3  schedul minut late also schedul color girl fro...         False   \n",
       "4  husband attend invest seminar salad bar full d...         False   \n",
       "\n",
       "   num_user_friends        yelping_since elite  \n",
       "0                 0  2012-05-03 17:53:15        \n",
       "1               531  2013-05-29 20:52:29        \n",
       "2               531  2013-05-29 20:52:29        \n",
       "3                22  2009-06-24 04:36:55        \n",
       "4                22  2009-06-24 04:36:55        "
      ]
     },
     "execution_count": 27,
     "metadata": {},
     "output_type": "execute_result"
    }
   ],
   "source": [
    "data = df.merge(user[[\"user_id\", \"yelping_since\", \"elite\"]], on=\"user_id\")\n",
    "data.head(1)"
   ]
  },
  {
   "cell_type": "code",
   "execution_count": 35,
   "metadata": {},
   "outputs": [
    {
     "data": {
      "text/plain": [
       "[]"
      ]
     },
     "execution_count": 35,
     "metadata": {},
     "output_type": "execute_result"
    }
   ],
   "source": [
    "diff = []\n",
    "for i in data[data[\"user_elite\"] >12][\"elite\"]:\n",
    "    i = i.split(\",\")\n",
    "    if len(set(i)) != len(i):\n",
    "        diff.append(i)\n",
    "diff"
   ]
  },
  {
   "cell_type": "code",
   "execution_count": 34,
   "metadata": {},
   "outputs": [
    {
     "data": {
      "text/plain": [
       "'2006,2007,2008,2009,2010,2011,2012,2013,2014,2015,2016,2017,2018'"
      ]
     },
     "execution_count": 34,
     "metadata": {},
     "output_type": "execute_result"
    }
   ],
   "source": [
    "data.iloc[4305][\"elite\"]"
   ]
  },
  {
   "cell_type": "code",
   "execution_count": null,
   "metadata": {},
   "outputs": [],
   "source": []
  },
  {
   "cell_type": "code",
   "execution_count": 37,
   "metadata": {},
   "outputs": [
    {
     "data": {
      "text/html": [
       "<div>\n",
       "<style scoped>\n",
       "    .dataframe tbody tr th:only-of-type {\n",
       "        vertical-align: middle;\n",
       "    }\n",
       "\n",
       "    .dataframe tbody tr th {\n",
       "        vertical-align: top;\n",
       "    }\n",
       "\n",
       "    .dataframe thead th {\n",
       "        text-align: right;\n",
       "    }\n",
       "</style>\n",
       "<table border=\"1\" class=\"dataframe\">\n",
       "  <thead>\n",
       "    <tr style=\"text-align: right;\">\n",
       "      <th></th>\n",
       "      <th>review_id</th>\n",
       "      <th>user_id</th>\n",
       "      <th>business_id</th>\n",
       "      <th>review_stars</th>\n",
       "      <th>review_text</th>\n",
       "      <th>user_review_count</th>\n",
       "      <th>user_elite</th>\n",
       "      <th>user_friends</th>\n",
       "      <th>user_fans</th>\n",
       "      <th>user_average_stars</th>\n",
       "      <th>user_total_compliments</th>\n",
       "      <th>business_name</th>\n",
       "      <th>business_categories</th>\n",
       "      <th>business_stars</th>\n",
       "      <th>review_text_after_cleaning</th>\n",
       "      <th>to_recommend</th>\n",
       "      <th>num_user_friends</th>\n",
       "      <th>yelping_since</th>\n",
       "      <th>elite</th>\n",
       "      <th>year</th>\n",
       "    </tr>\n",
       "  </thead>\n",
       "  <tbody>\n",
       "    <tr>\n",
       "      <th>0</th>\n",
       "      <td>lXSEWDtaiaQcxj5Nuxx6JA</td>\n",
       "      <td>fWqtOUpCFv6rmaacYZdkEQ</td>\n",
       "      <td>0z010Dfuv-PLUIukFhYEHQ</td>\n",
       "      <td>5</td>\n",
       "      <td>Great spot. Matt is da Bomb. Fair price for go...</td>\n",
       "      <td>55</td>\n",
       "      <td>0</td>\n",
       "      <td>None</td>\n",
       "      <td>0</td>\n",
       "      <td>2.95</td>\n",
       "      <td>2</td>\n",
       "      <td>Hydrate Salon and Spa</td>\n",
       "      <td>Day Spas, Hair Salons, Beauty &amp; Spas</td>\n",
       "      <td>4.0</td>\n",
       "      <td>great spot fair price good servic profession s...</td>\n",
       "      <td>True</td>\n",
       "      <td>0</td>\n",
       "      <td>2012-05-03 17:53:15</td>\n",
       "      <td></td>\n",
       "      <td>2012</td>\n",
       "    </tr>\n",
       "  </tbody>\n",
       "</table>\n",
       "</div>"
      ],
      "text/plain": [
       "                review_id                 user_id             business_id  \\\n",
       "0  lXSEWDtaiaQcxj5Nuxx6JA  fWqtOUpCFv6rmaacYZdkEQ  0z010Dfuv-PLUIukFhYEHQ   \n",
       "\n",
       "   review_stars                                        review_text  \\\n",
       "0             5  Great spot. Matt is da Bomb. Fair price for go...   \n",
       "\n",
       "   user_review_count  user_elite user_friends  user_fans  user_average_stars  \\\n",
       "0                 55           0         None          0                2.95   \n",
       "\n",
       "   user_total_compliments          business_name  \\\n",
       "0                       2  Hydrate Salon and Spa   \n",
       "\n",
       "                    business_categories  business_stars  \\\n",
       "0  Day Spas, Hair Salons, Beauty & Spas             4.0   \n",
       "\n",
       "                          review_text_after_cleaning  to_recommend  \\\n",
       "0  great spot fair price good servic profession s...          True   \n",
       "\n",
       "   num_user_friends        yelping_since elite  year  \n",
       "0                 0  2012-05-03 17:53:15        2012  "
      ]
     },
     "execution_count": 37,
     "metadata": {},
     "output_type": "execute_result"
    }
   ],
   "source": [
    "data[\"year\"] = data[\"yelping_since\"].apply(lambda x : x[:4])\n",
    "data.head(1)"
   ]
  },
  {
   "cell_type": "code",
   "execution_count": 38,
   "metadata": {},
   "outputs": [
    {
     "data": {
      "text/plain": [
       "'2019'"
      ]
     },
     "execution_count": 38,
     "metadata": {},
     "output_type": "execute_result"
    }
   ],
   "source": [
    "max(data[\"year\"])"
   ]
  },
  {
   "cell_type": "code",
   "execution_count": 39,
   "metadata": {},
   "outputs": [
    {
     "data": {
      "text/plain": [
       "'2004'"
      ]
     },
     "execution_count": 39,
     "metadata": {},
     "output_type": "execute_result"
    }
   ],
   "source": [
    "min(data[\"year\"])"
   ]
  },
  {
   "cell_type": "code",
   "execution_count": 41,
   "metadata": {},
   "outputs": [
    {
     "data": {
      "text/plain": [
       "[<matplotlib.lines.Line2D at 0x1e8256ebac0>]"
      ]
     },
     "execution_count": 41,
     "metadata": {},
     "output_type": "execute_result"
    },
    {
     "data": {
      "image/png": "[encoded data removed]",
      "text/plain": [
       "<Figure size 432x288 with 1 Axes>"
      ]
     },
     "metadata": {
      "needs_background": "light"
     },
     "output_type": "display_data"
    }
   ],
   "source": [
    "plt.plot(df[\"user_average_stars\"])"
   ]
  },
  {
   "cell_type": "code",
   "execution_count": 42,
   "metadata": {},
   "outputs": [
    {
     "data": {
      "text/plain": [
       "5.0"
      ]
     },
     "execution_count": 42,
     "metadata": {},
     "output_type": "execute_result"
    }
   ],
   "source": [
    "max(df[\"user_average_stars\"])"
   ]
  },
  {
   "cell_type": "code",
   "execution_count": 43,
   "metadata": {},
   "outputs": [
    {
     "data": {
      "text/plain": [
       "1.0"
      ]
     },
     "execution_count": 43,
     "metadata": {},
     "output_type": "execute_result"
    }
   ],
   "source": [
    "min(df[\"user_average_stars\"])"
   ]
  },
  {
   "cell_type": "code",
   "execution_count": 44,
   "metadata": {},
   "outputs": [
    {
     "data": {
      "text/html": [
       "<div>\n",
       "<style scoped>\n",
       "    .dataframe tbody tr th:only-of-type {\n",
       "        vertical-align: middle;\n",
       "    }\n",
       "\n",
       "    .dataframe tbody tr th {\n",
       "        vertical-align: top;\n",
       "    }\n",
       "\n",
       "    .dataframe thead th {\n",
       "        text-align: right;\n",
       "    }\n",
       "</style>\n",
       "<table border=\"1\" class=\"dataframe\">\n",
       "  <thead>\n",
       "    <tr style=\"text-align: right;\">\n",
       "      <th></th>\n",
       "      <th>review_id</th>\n",
       "      <th>user_id</th>\n",
       "      <th>business_id</th>\n",
       "      <th>review_stars</th>\n",
       "      <th>review_text</th>\n",
       "      <th>user_review_count</th>\n",
       "      <th>user_elite</th>\n",
       "      <th>user_friends</th>\n",
       "      <th>user_fans</th>\n",
       "      <th>user_average_stars</th>\n",
       "      <th>user_total_compliments</th>\n",
       "      <th>business_name</th>\n",
       "      <th>business_categories</th>\n",
       "      <th>business_stars</th>\n",
       "      <th>review_text_after_cleaning</th>\n",
       "      <th>to_recommend</th>\n",
       "      <th>num_user_friends</th>\n",
       "    </tr>\n",
       "  </thead>\n",
       "  <tbody>\n",
       "    <tr>\n",
       "      <th>19</th>\n",
       "      <td>2kM28v-eO41noBBgSf96nQ</td>\n",
       "      <td>vqtVgQaJ0quYkeBCsZ9reQ</td>\n",
       "      <td>cXgXRqB40CGHEMKQgxLDTg</td>\n",
       "      <td>5</td>\n",
       "      <td>If you want some bomb pizza with a kick ass st...</td>\n",
       "      <td>8</td>\n",
       "      <td>0</td>\n",
       "      <td>dqU6aqwyo6oJMLILDyynpA, POpoUlUqzKQb-X0QUPlrFw...</td>\n",
       "      <td>0</td>\n",
       "      <td>5.0</td>\n",
       "      <td>0</td>\n",
       "      <td>Fired Pie</td>\n",
       "      <td>Salad, Italian, Restaurants, Pizza</td>\n",
       "      <td>4.0</td>\n",
       "      <td>want bomb pizza kick ass staff highli recommen...</td>\n",
       "      <td>True</td>\n",
       "      <td>145</td>\n",
       "    </tr>\n",
       "    <tr>\n",
       "      <th>35</th>\n",
       "      <td>ZMUO71P9SBo32dJkqTQb7g</td>\n",
       "      <td>utJxQxaT-Ik0N4mNMqyPvA</td>\n",
       "      <td>cXgXRqB40CGHEMKQgxLDTg</td>\n",
       "      <td>5</td>\n",
       "      <td>Love their salads as well as their pizza!  The...</td>\n",
       "      <td>8</td>\n",
       "      <td>0</td>\n",
       "      <td>None</td>\n",
       "      <td>0</td>\n",
       "      <td>5.0</td>\n",
       "      <td>0</td>\n",
       "      <td>Fired Pie</td>\n",
       "      <td>Salad, Italian, Restaurants, Pizza</td>\n",
       "      <td>4.0</td>\n",
       "      <td>love salad well pizza gf friendli appreci loca...</td>\n",
       "      <td>True</td>\n",
       "      <td>0</td>\n",
       "    </tr>\n",
       "    <tr>\n",
       "      <th>59</th>\n",
       "      <td>TobxAgZ4zlh1ctm0rkLtmA</td>\n",
       "      <td>yYkk8mM5V33pX0x7FAD28g</td>\n",
       "      <td>cXgXRqB40CGHEMKQgxLDTg</td>\n",
       "      <td>5</td>\n",
       "      <td>First time here and must say that I love it......</td>\n",
       "      <td>1</td>\n",
       "      <td>0</td>\n",
       "      <td>zFp22UYxTFPmyFDjkSy7FQ</td>\n",
       "      <td>0</td>\n",
       "      <td>5.0</td>\n",
       "      <td>1</td>\n",
       "      <td>Fired Pie</td>\n",
       "      <td>Salad, Italian, Restaurants, Pizza</td>\n",
       "      <td>4.0</td>\n",
       "      <td>time must say love itcreat pizza top turn real...</td>\n",
       "      <td>True</td>\n",
       "      <td>1</td>\n",
       "    </tr>\n",
       "    <tr>\n",
       "      <th>68</th>\n",
       "      <td>8HpIf2pRSYwVuqFWnmK5HA</td>\n",
       "      <td>-1lsjF90ZySTV8OjN30TCQ</td>\n",
       "      <td>XHnE__Oec_KDfGTJ7jrIpg</td>\n",
       "      <td>5</td>\n",
       "      <td>Great wings, great service. Had my order in ju...</td>\n",
       "      <td>2</td>\n",
       "      <td>0</td>\n",
       "      <td>BvtbCYJ9EZeJYK00cTPvYw, BJYZHzb3TGJdvNUS8h9CAQ...</td>\n",
       "      <td>0</td>\n",
       "      <td>5.0</td>\n",
       "      <td>1</td>\n",
       "      <td>Valley Wings</td>\n",
       "      <td>Restaurants, Chicken Wings</td>\n",
       "      <td>4.5</td>\n",
       "      <td>order employe super nice definit back</td>\n",
       "      <td>True</td>\n",
       "      <td>45</td>\n",
       "    </tr>\n",
       "    <tr>\n",
       "      <th>74</th>\n",
       "      <td>JbkxOFApDqip2lBIyPNBZQ</td>\n",
       "      <td>5K3XmuGXEZb4PpQb-j6RFw</td>\n",
       "      <td>XHnE__Oec_KDfGTJ7jrIpg</td>\n",
       "      <td>5</td>\n",
       "      <td>We were very hopeful that this new place would...</td>\n",
       "      <td>14</td>\n",
       "      <td>0</td>\n",
       "      <td>vy6GvEdgbLxQM7990eTvnw</td>\n",
       "      <td>1</td>\n",
       "      <td>5.0</td>\n",
       "      <td>0</td>\n",
       "      <td>Valley Wings</td>\n",
       "      <td>Restaurants, Chicken Wings</td>\n",
       "      <td>4.5</td>\n",
       "      <td>hope new place would make good replac previou ...</td>\n",
       "      <td>True</td>\n",
       "      <td>1</td>\n",
       "    </tr>\n",
       "    <tr>\n",
       "      <th>...</th>\n",
       "      <td>...</td>\n",
       "      <td>...</td>\n",
       "      <td>...</td>\n",
       "      <td>...</td>\n",
       "      <td>...</td>\n",
       "      <td>...</td>\n",
       "      <td>...</td>\n",
       "      <td>...</td>\n",
       "      <td>...</td>\n",
       "      <td>...</td>\n",
       "      <td>...</td>\n",
       "      <td>...</td>\n",
       "      <td>...</td>\n",
       "      <td>...</td>\n",
       "      <td>...</td>\n",
       "      <td>...</td>\n",
       "      <td>...</td>\n",
       "    </tr>\n",
       "    <tr>\n",
       "      <th>1002042</th>\n",
       "      <td>C0Pe6oU_zVdR8MbRtqAOJA</td>\n",
       "      <td>XrnFf18sBvIZFyj1t7JgoQ</td>\n",
       "      <td>Jp7DWno_5zAYtrpEkc0ylw</td>\n",
       "      <td>5</td>\n",
       "      <td>Loved Eat Well. Super yummy hand crafted healt...</td>\n",
       "      <td>2</td>\n",
       "      <td>0</td>\n",
       "      <td>None</td>\n",
       "      <td>0</td>\n",
       "      <td>5.0</td>\n",
       "      <td>1</td>\n",
       "      <td>Eat Well</td>\n",
       "      <td>Restaurants, Vegan, Vegetarian</td>\n",
       "      <td>5.0</td>\n",
       "      <td>love eat well super yummi hand craft healthi f...</td>\n",
       "      <td>True</td>\n",
       "      <td>0</td>\n",
       "    </tr>\n",
       "    <tr>\n",
       "      <th>1002043</th>\n",
       "      <td>ke8BPZ1GQldGqM_qZ_qbXw</td>\n",
       "      <td>cKgtUD77PbudonVvHfu6Xg</td>\n",
       "      <td>BOgU_UFhgv7hDfzugKzLrg</td>\n",
       "      <td>5</td>\n",
       "      <td>This being my first time at this cigar shop, I...</td>\n",
       "      <td>1</td>\n",
       "      <td>0</td>\n",
       "      <td>None</td>\n",
       "      <td>0</td>\n",
       "      <td>5.0</td>\n",
       "      <td>0</td>\n",
       "      <td>Cigar Studio</td>\n",
       "      <td>Tobacco Shops, Shopping</td>\n",
       "      <td>3.0</td>\n",
       "      <td>time cigar shop enter high rate gotten well ye...</td>\n",
       "      <td>True</td>\n",
       "      <td>0</td>\n",
       "    </tr>\n",
       "    <tr>\n",
       "      <th>1002044</th>\n",
       "      <td>u6s9SJjMX3as2y3Dh_K6qg</td>\n",
       "      <td>86fInsTZrDGTDH2jmD-i2w</td>\n",
       "      <td>QmhK0eeBziRfFjnkYzXEHQ</td>\n",
       "      <td>5</td>\n",
       "      <td>I thoroughly enjoy shopping at this store beca...</td>\n",
       "      <td>1</td>\n",
       "      <td>0</td>\n",
       "      <td>None</td>\n",
       "      <td>0</td>\n",
       "      <td>5.0</td>\n",
       "      <td>0</td>\n",
       "      <td>Guess</td>\n",
       "      <td>Accessories, Shopping, Women's Clothing, Fashion</td>\n",
       "      <td>3.0</td>\n",
       "      <td>thoroughli enjoy shop store employe well vario...</td>\n",
       "      <td>True</td>\n",
       "      <td>0</td>\n",
       "    </tr>\n",
       "    <tr>\n",
       "      <th>1002046</th>\n",
       "      <td>L3G9EylW6hHZB62oiOO0YA</td>\n",
       "      <td>BNusgXuMRxSbq1yxV_zqmw</td>\n",
       "      <td>V834f2ZLLNiDW9C5eKcqZg</td>\n",
       "      <td>5</td>\n",
       "      <td>Called Brecksville Plumbing on Tuesday. Jim (t...</td>\n",
       "      <td>4</td>\n",
       "      <td>0</td>\n",
       "      <td>WK-_3YvfF627nfmLQ5v2rQ, 6IkkeIXCe_KPE1V6OQ-PKg...</td>\n",
       "      <td>0</td>\n",
       "      <td>5.0</td>\n",
       "      <td>0</td>\n",
       "      <td>Brecksville Plumbing</td>\n",
       "      <td>Home Services, Water Heater Installation/Repai...</td>\n",
       "      <td>4.0</td>\n",
       "      <td>call plumb the owner call back ask problem cal...</td>\n",
       "      <td>True</td>\n",
       "      <td>118</td>\n",
       "    </tr>\n",
       "    <tr>\n",
       "      <th>1002048</th>\n",
       "      <td>lT3GnSoqAeOFXBEbKEvZYA</td>\n",
       "      <td>A0x3Cb_36GkGYpPBK1FjsQ</td>\n",
       "      <td>TByvxX_5DZlLmf9Zs_j3xg</td>\n",
       "      <td>5</td>\n",
       "      <td>The pizza was very good and I love the atmosph...</td>\n",
       "      <td>6</td>\n",
       "      <td>0</td>\n",
       "      <td>1QOIZJY2INS_sG-IEzhrug</td>\n",
       "      <td>0</td>\n",
       "      <td>5.0</td>\n",
       "      <td>0</td>\n",
       "      <td>Circolo Woodfired</td>\n",
       "      <td>Pizza, Restaurants, American (Traditional), It...</td>\n",
       "      <td>3.0</td>\n",
       "      <td>pizza good love atmospher wait go back tri sto...</td>\n",
       "      <td>True</td>\n",
       "      <td>1</td>\n",
       "    </tr>\n",
       "  </tbody>\n",
       "</table>\n",
       "<p>69965 rows × 17 columns</p>\n",
       "</div>"
      ],
      "text/plain": [
       "                      review_id                 user_id  \\\n",
       "19       2kM28v-eO41noBBgSf96nQ  vqtVgQaJ0quYkeBCsZ9reQ   \n",
       "35       ZMUO71P9SBo32dJkqTQb7g  utJxQxaT-Ik0N4mNMqyPvA   \n",
       "59       TobxAgZ4zlh1ctm0rkLtmA  yYkk8mM5V33pX0x7FAD28g   \n",
       "68       8HpIf2pRSYwVuqFWnmK5HA  -1lsjF90ZySTV8OjN30TCQ   \n",
       "74       JbkxOFApDqip2lBIyPNBZQ  5K3XmuGXEZb4PpQb-j6RFw   \n",
       "...                         ...                     ...   \n",
       "1002042  C0Pe6oU_zVdR8MbRtqAOJA  XrnFf18sBvIZFyj1t7JgoQ   \n",
       "1002043  ke8BPZ1GQldGqM_qZ_qbXw  cKgtUD77PbudonVvHfu6Xg   \n",
       "1002044  u6s9SJjMX3as2y3Dh_K6qg  86fInsTZrDGTDH2jmD-i2w   \n",
       "1002046  L3G9EylW6hHZB62oiOO0YA  BNusgXuMRxSbq1yxV_zqmw   \n",
       "1002048  lT3GnSoqAeOFXBEbKEvZYA  A0x3Cb_36GkGYpPBK1FjsQ   \n",
       "\n",
       "                    business_id  review_stars  \\\n",
       "19       cXgXRqB40CGHEMKQgxLDTg             5   \n",
       "35       cXgXRqB40CGHEMKQgxLDTg             5   \n",
       "59       cXgXRqB40CGHEMKQgxLDTg             5   \n",
       "68       XHnE__Oec_KDfGTJ7jrIpg             5   \n",
       "74       XHnE__Oec_KDfGTJ7jrIpg             5   \n",
       "...                         ...           ...   \n",
       "1002042  Jp7DWno_5zAYtrpEkc0ylw             5   \n",
       "1002043  BOgU_UFhgv7hDfzugKzLrg             5   \n",
       "1002044  QmhK0eeBziRfFjnkYzXEHQ             5   \n",
       "1002046  V834f2ZLLNiDW9C5eKcqZg             5   \n",
       "1002048  TByvxX_5DZlLmf9Zs_j3xg             5   \n",
       "\n",
       "                                               review_text  user_review_count  \\\n",
       "19       If you want some bomb pizza with a kick ass st...                  8   \n",
       "35       Love their salads as well as their pizza!  The...                  8   \n",
       "59       First time here and must say that I love it......                  1   \n",
       "68       Great wings, great service. Had my order in ju...                  2   \n",
       "74       We were very hopeful that this new place would...                 14   \n",
       "...                                                    ...                ...   \n",
       "1002042  Loved Eat Well. Super yummy hand crafted healt...                  2   \n",
       "1002043  This being my first time at this cigar shop, I...                  1   \n",
       "1002044  I thoroughly enjoy shopping at this store beca...                  1   \n",
       "1002046  Called Brecksville Plumbing on Tuesday. Jim (t...                  4   \n",
       "1002048  The pizza was very good and I love the atmosph...                  6   \n",
       "\n",
       "         user_elite                                       user_friends  \\\n",
       "19                0  dqU6aqwyo6oJMLILDyynpA, POpoUlUqzKQb-X0QUPlrFw...   \n",
       "35                0                                               None   \n",
       "59                0                             zFp22UYxTFPmyFDjkSy7FQ   \n",
       "68                0  BvtbCYJ9EZeJYK00cTPvYw, BJYZHzb3TGJdvNUS8h9CAQ...   \n",
       "74                0                             vy6GvEdgbLxQM7990eTvnw   \n",
       "...             ...                                                ...   \n",
       "1002042           0                                               None   \n",
       "1002043           0                                               None   \n",
       "1002044           0                                               None   \n",
       "1002046           0  WK-_3YvfF627nfmLQ5v2rQ, 6IkkeIXCe_KPE1V6OQ-PKg...   \n",
       "1002048           0                             1QOIZJY2INS_sG-IEzhrug   \n",
       "\n",
       "         user_fans  user_average_stars  user_total_compliments  \\\n",
       "19               0                 5.0                       0   \n",
       "35               0                 5.0                       0   \n",
       "59               0                 5.0                       1   \n",
       "68               0                 5.0                       1   \n",
       "74               1                 5.0                       0   \n",
       "...            ...                 ...                     ...   \n",
       "1002042          0                 5.0                       1   \n",
       "1002043          0                 5.0                       0   \n",
       "1002044          0                 5.0                       0   \n",
       "1002046          0                 5.0                       0   \n",
       "1002048          0                 5.0                       0   \n",
       "\n",
       "                business_name  \\\n",
       "19                  Fired Pie   \n",
       "35                  Fired Pie   \n",
       "59                  Fired Pie   \n",
       "68               Valley Wings   \n",
       "74               Valley Wings   \n",
       "...                       ...   \n",
       "1002042              Eat Well   \n",
       "1002043          Cigar Studio   \n",
       "1002044                 Guess   \n",
       "1002046  Brecksville Plumbing   \n",
       "1002048     Circolo Woodfired   \n",
       "\n",
       "                                       business_categories  business_stars  \\\n",
       "19                      Salad, Italian, Restaurants, Pizza             4.0   \n",
       "35                      Salad, Italian, Restaurants, Pizza             4.0   \n",
       "59                      Salad, Italian, Restaurants, Pizza             4.0   \n",
       "68                              Restaurants, Chicken Wings             4.5   \n",
       "74                              Restaurants, Chicken Wings             4.5   \n",
       "...                                                    ...             ...   \n",
       "1002042                     Restaurants, Vegan, Vegetarian             5.0   \n",
       "1002043                            Tobacco Shops, Shopping             3.0   \n",
       "1002044   Accessories, Shopping, Women's Clothing, Fashion             3.0   \n",
       "1002046  Home Services, Water Heater Installation/Repai...             4.0   \n",
       "1002048  Pizza, Restaurants, American (Traditional), It...             3.0   \n",
       "\n",
       "                                review_text_after_cleaning  to_recommend  \\\n",
       "19       want bomb pizza kick ass staff highli recommen...          True   \n",
       "35       love salad well pizza gf friendli appreci loca...          True   \n",
       "59       time must say love itcreat pizza top turn real...          True   \n",
       "68                   order employe super nice definit back          True   \n",
       "74       hope new place would make good replac previou ...          True   \n",
       "...                                                    ...           ...   \n",
       "1002042  love eat well super yummi hand craft healthi f...          True   \n",
       "1002043  time cigar shop enter high rate gotten well ye...          True   \n",
       "1002044  thoroughli enjoy shop store employe well vario...          True   \n",
       "1002046  call plumb the owner call back ask problem cal...          True   \n",
       "1002048  pizza good love atmospher wait go back tri sto...          True   \n",
       "\n",
       "         num_user_friends  \n",
       "19                    145  \n",
       "35                      0  \n",
       "59                      1  \n",
       "68                     45  \n",
       "74                      1  \n",
       "...                   ...  \n",
       "1002042                 0  \n",
       "1002043                 0  \n",
       "1002044                 0  \n",
       "1002046               118  \n",
       "1002048                 1  \n",
       "\n",
       "[69965 rows x 17 columns]"
      ]
     },
     "execution_count": 44,
     "metadata": {},
     "output_type": "execute_result"
    }
   ],
   "source": [
    "df[df[\"user_average_stars\"] == 5]"
   ]
  },
  {
   "cell_type": "code",
   "execution_count": 45,
   "metadata": {},
   "outputs": [
    {
     "data": {
      "text/plain": [
       "[<matplotlib.lines.Line2D at 0x1df2f9c4370>]"
      ]
     },
     "execution_count": 45,
     "metadata": {},
     "output_type": "execute_result"
    },
    {
     "data": {
      "image/png": "[encoded data removed]",
      "text/plain": [
       "<Figure size 432x288 with 1 Axes>"
      ]
     },
     "metadata": {
      "needs_background": "light"
     },
     "output_type": "display_data"
    }
   ],
   "source": [
    "plt.plot(df[\"business_stars\"])"
   ]
  },
  {
   "cell_type": "code",
   "execution_count": 46,
   "metadata": {},
   "outputs": [
    {
     "data": {
      "text/plain": [
       "{1.0, 1.5, 2.0, 2.5, 3.0, 3.5, 4.0, 4.5, 5.0}"
      ]
     },
     "execution_count": 46,
     "metadata": {},
     "output_type": "execute_result"
    }
   ],
   "source": [
    "set(df[\"business_stars\"])"
   ]
  },
  {
   "cell_type": "code",
   "execution_count": 26,
   "metadata": {},
   "outputs": [],
   "source": [
    "df.to_csv(\"data/yelp_academic_dataset_sample0125_filter.csv\", index=False)"
   ]
  },
  {
   "cell_type": "code",
   "execution_count": 27,
   "metadata": {},
   "outputs": [],
   "source": [
    "df[[\"review_id\", \"user_id\", \"business_id\", \"review_stars\", \"user_review_count\", \"user_elite\", \"user_friends\", \"user_fans\", \"user_average_stars\", \\\n",
    "    \"user_total_compliments\", \"business_name\", \"business_stars\", \"review_text_after_cleaning\", \"num_user_friends\"]].to_csv(\"data/yelp_academic_dataset_final.csv\", index=False)"
   ]
  },
  {
   "cell_type": "code",
   "execution_count": null,
   "metadata": {},
   "outputs": [],
   "source": []
  },
  {
   "cell_type": "markdown",
   "metadata": {},
   "source": [
    "### Feature Engineering "
   ]
  },
  {
   "cell_type": "code",
   "execution_count": 11,
   "metadata": {},
   "outputs": [
    {
     "data": {
      "text/html": [
       "<div>\n",
       "<style scoped>\n",
       "    .dataframe tbody tr th:only-of-type {\n",
       "        vertical-align: middle;\n",
       "    }\n",
       "\n",
       "    .dataframe tbody tr th {\n",
       "        vertical-align: top;\n",
       "    }\n",
       "\n",
       "    .dataframe thead th {\n",
       "        text-align: right;\n",
       "    }\n",
       "</style>\n",
       "<table border=\"1\" class=\"dataframe\">\n",
       "  <thead>\n",
       "    <tr style=\"text-align: right;\">\n",
       "      <th></th>\n",
       "      <th>review_id</th>\n",
       "      <th>user_id</th>\n",
       "      <th>business_id</th>\n",
       "      <th>review_stars</th>\n",
       "      <th>review_text</th>\n",
       "      <th>review_text_after_cleaning</th>\n",
       "      <th>user_review_count</th>\n",
       "      <th>user_elite</th>\n",
       "      <th>user_friends</th>\n",
       "      <th>user_fans</th>\n",
       "      <th>user_average_stars</th>\n",
       "      <th>user_total_compliments</th>\n",
       "      <th>business_name</th>\n",
       "      <th>business_categories</th>\n",
       "      <th>business_stars</th>\n",
       "    </tr>\n",
       "  </thead>\n",
       "  <tbody>\n",
       "    <tr>\n",
       "      <th>0</th>\n",
       "      <td>yNB39szX3M8mTEzTtsgoCw</td>\n",
       "      <td>Y1iCYGvLf4ifPoXlKLGq-w</td>\n",
       "      <td>o2Qh4SiGYJ7BK4hP7dfkrw</td>\n",
       "      <td>5</td>\n",
       "      <td>This is an amazing indian Bistro!!I If I do sa...</td>\n",
       "      <td>amaz bistroi say myself never cuisin glad expe...</td>\n",
       "      <td>1</td>\n",
       "      <td>0</td>\n",
       "      <td></td>\n",
       "      <td>0</td>\n",
       "      <td>5.0</td>\n",
       "      <td>0</td>\n",
       "      <td>Saffron Indian Bistro</td>\n",
       "      <td>Restaurants, Indian</td>\n",
       "      <td>4.5</td>\n",
       "    </tr>\n",
       "  </tbody>\n",
       "</table>\n",
       "</div>"
      ],
      "text/plain": [
       "                review_id                 user_id             business_id  \\\n",
       "0  yNB39szX3M8mTEzTtsgoCw  Y1iCYGvLf4ifPoXlKLGq-w  o2Qh4SiGYJ7BK4hP7dfkrw   \n",
       "\n",
       "   review_stars                                        review_text  \\\n",
       "0             5  This is an amazing indian Bistro!!I If I do sa...   \n",
       "\n",
       "                          review_text_after_cleaning  user_review_count  \\\n",
       "0  amaz bistroi say myself never cuisin glad expe...                  1   \n",
       "\n",
       "   user_elite user_friends  user_fans  user_average_stars  \\\n",
       "0           0                       0                 5.0   \n",
       "\n",
       "   user_total_compliments          business_name  business_categories  \\\n",
       "0                       0  Saffron Indian Bistro  Restaurants, Indian   \n",
       "\n",
       "   business_stars  \n",
       "0             4.5  "
      ]
     },
     "execution_count": 11,
     "metadata": {},
     "output_type": "execute_result"
    }
   ],
   "source": [
    "df.head(1)"
   ]
  },
  {
   "cell_type": "code",
   "execution_count": 12,
   "metadata": {},
   "outputs": [
    {
     "data": {
      "text/plain": [
       "Entityset: yelp\n",
       "  Entities:\n",
       "    review [Rows: 400807, Columns: 15]\n",
       "  Relationships:\n",
       "    No relationships"
      ]
     },
     "execution_count": 12,
     "metadata": {},
     "output_type": "execute_result"
    }
   ],
   "source": [
    "es = ft.EntitySet(\"yelp\")\n",
    "es = es.entity_from_dataframe(entity_id = 'review', dataframe = df, index = 'review_id')\n",
    "# The following commented codes can be used for the raw dataset\n",
    "# es = es.entity_from_dataframe(entity_id = 'user', dataframe = user, index = 'user_id')\n",
    "# es = es.entity_from_dataframe(entity_id = 'review', dataframe = review, index = 'review_id')\n",
    "# es = es.entity_from_dataframe(entity_id = 'tip', dataframe = tip, index = 'user_id')\n",
    "# es = es.entity_from_dataframe(entity_id = 'business', dataframe = business, index = 'business_id')\n",
    "# es = es.entity_from_dataframe(entity_id = 'check_in', dataframe = check_in, index = 'business_id')\n",
    "es"
   ]
  },
  {
   "cell_type": "code",
   "execution_count": 13,
   "metadata": {},
   "outputs": [],
   "source": [
    "features, feature_names = ft.dfs(entityset = es, target_entity = 'review', agg_primitives = ['mean', 'max', 'percent_true', 'last'])"
   ]
  },
  {
   "cell_type": "code",
   "execution_count": 14,
   "metadata": {},
   "outputs": [
    {
     "name": "stdout",
     "output_type": "stream",
     "text": [
      "<class 'pandas.core.frame.DataFrame'>\n",
      "Index: 400807 entries, yNB39szX3M8mTEzTtsgoCw to 26iv0bQ5o3oxzZOSayQPjQ\n",
      "Data columns (total 18 columns):\n",
      " #   Column                                      Non-Null Count   Dtype  \n",
      "---  ------                                      --------------   -----  \n",
      " 0   user_id                                     400807 non-null  object \n",
      " 1   business_id                                 400807 non-null  object \n",
      " 2   review_stars                                400807 non-null  int64  \n",
      " 3   user_review_count                           400807 non-null  int64  \n",
      " 4   user_elite                                  400807 non-null  int64  \n",
      " 5   user_fans                                   400807 non-null  int64  \n",
      " 6   user_average_stars                          400807 non-null  float64\n",
      " 7   user_total_compliments                      400807 non-null  int64  \n",
      " 8   business_name                               400807 non-null  object \n",
      " 9   business_stars                              400807 non-null  float64\n",
      " 10  NUM_CHARACTERS(business_categories)         400807 non-null  int64  \n",
      " 11  NUM_CHARACTERS(review_text)                 400807 non-null  int64  \n",
      " 12  NUM_CHARACTERS(review_text_after_cleaning)  400807 non-null  int64  \n",
      " 13  NUM_CHARACTERS(user_friends)                400807 non-null  int64  \n",
      " 14  NUM_WORDS(business_categories)              400807 non-null  int64  \n",
      " 15  NUM_WORDS(review_text)                      400807 non-null  int64  \n",
      " 16  NUM_WORDS(review_text_after_cleaning)       400807 non-null  int64  \n",
      " 17  NUM_WORDS(user_friends)                     400807 non-null  int64  \n",
      "dtypes: float64(2), int64(13), object(3)\n",
      "memory usage: 58.1+ MB\n"
     ]
    }
   ],
   "source": [
    "features.info()"
   ]
  },
  {
   "cell_type": "code",
   "execution_count": null,
   "metadata": {},
   "outputs": [],
   "source": []
  },
  {
   "cell_type": "code",
   "execution_count": 15,
   "metadata": {},
   "outputs": [
    {
     "data": {
      "text/plain": [
       "review_id\n",
       "yNB39szX3M8mTEzTtsgoCw       0\n",
       "wxvs5Ih03vWCiJ6va1zJgw    1102\n",
       "3GwovpioE5iXOmTqpdKCfQ       0\n",
       "ipWXT0F2bE0smebUADaVRw     838\n",
       "yJHS5HcNtSKG7X5pPseKIA    1006\n",
       "                          ... \n",
       "uL2p8ifEXE58MoAUnwqBhA       0\n",
       "dbZjuCnSGUJzogq9xcDIVQ       0\n",
       "z5wUwHJzKOnIREamscek6w    2086\n",
       "tERVb0iiv35MSXFZlUoHVw       0\n",
       "26iv0bQ5o3oxzZOSayQPjQ    1438\n",
       "Name: NUM_CHARACTERS(user_friends), Length: 400807, dtype: int64"
      ]
     },
     "execution_count": 15,
     "metadata": {},
     "output_type": "execute_result"
    }
   ],
   "source": [
    "features[\"NUM_CHARACTERS(user_friends)\"]"
   ]
  },
  {
   "cell_type": "code",
   "execution_count": null,
   "metadata": {},
   "outputs": [],
   "source": []
  },
  {
   "cell_type": "code",
   "execution_count": null,
   "metadata": {},
   "outputs": [],
   "source": [
    "## TODO: Add something more on feature selection"
   ]
  },
  {
   "cell_type": "code",
   "execution_count": null,
   "metadata": {},
   "outputs": [],
   "source": []
  },
  {
   "cell_type": "code",
   "execution_count": null,
   "metadata": {},
   "outputs": [],
   "source": []
  },
  {
   "cell_type": "code",
   "execution_count": null,
   "metadata": {},
   "outputs": [],
   "source": []
  }
 ],
 "metadata": {
  "kernelspec": {
   "display_name": "Python 3",
   "language": "python",
   "name": "python3"
  },
  "language_info": {
   "codemirror_mode": {
    "name": "ipython",
    "version": 3
   },
   "file_extension": ".py",
   "mimetype": "text/x-python",
   "name": "python",
   "nbconvert_exporter": "python",
   "pygments_lexer": "ipython3",
   "version": "3.8.5"
  }
 },
 "nbformat": 4,
 "nbformat_minor": 4
}
