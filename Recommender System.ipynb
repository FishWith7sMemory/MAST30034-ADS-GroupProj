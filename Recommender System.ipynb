{
 "cells": [
  {
   "cell_type": "code",
   "execution_count": 7,
   "metadata": {},
   "outputs": [],
   "source": [
    "%run config.ipynb\n",
    "from collections import defaultdict\n",
    "import math\n",
    "\n",
    "from surprise import BaselineOnly, SVD, NormalPredictor\n",
    "from surprise import Dataset, Reader, accuracy\n",
    "from surprise.model_selection import train_test_split"
   ]
  },
  {
   "cell_type": "code",
   "execution_count": 2,
   "metadata": {},
   "outputs": [
    {
     "data": {
      "text/html": [
       "<div>\n",
       "<style scoped>\n",
       "    .dataframe tbody tr th:only-of-type {\n",
       "        vertical-align: middle;\n",
       "    }\n",
       "\n",
       "    .dataframe tbody tr th {\n",
       "        vertical-align: top;\n",
       "    }\n",
       "\n",
       "    .dataframe thead th {\n",
       "        text-align: right;\n",
       "    }\n",
       "</style>\n",
       "<table border=\"1\" class=\"dataframe\">\n",
       "  <thead>\n",
       "    <tr style=\"text-align: right;\">\n",
       "      <th></th>\n",
       "      <th>review_id</th>\n",
       "      <th>user_id</th>\n",
       "      <th>business_id</th>\n",
       "      <th>review_stars</th>\n",
       "      <th>review_text</th>\n",
       "      <th>review_text_after_cleaning</th>\n",
       "      <th>user_review_count</th>\n",
       "      <th>user_elite</th>\n",
       "      <th>user_friends</th>\n",
       "      <th>user_fans</th>\n",
       "      <th>user_average_stars</th>\n",
       "      <th>user_total_compliments</th>\n",
       "      <th>business_name</th>\n",
       "      <th>business_categories</th>\n",
       "      <th>business_stars</th>\n",
       "      <th>to_recommend</th>\n",
       "      <th>num_user_friends</th>\n",
       "    </tr>\n",
       "  </thead>\n",
       "  <tbody>\n",
       "    <tr>\n",
       "      <th>0</th>\n",
       "      <td>yNB39szX3M8mTEzTtsgoCw</td>\n",
       "      <td>Y1iCYGvLf4ifPoXlKLGq-w</td>\n",
       "      <td>o2Qh4SiGYJ7BK4hP7dfkrw</td>\n",
       "      <td>5</td>\n",
       "      <td>This is an amazing indian Bistro!!I If I do sa...</td>\n",
       "      <td>amaz bistroi say myself never cuisin glad expe...</td>\n",
       "      <td>1</td>\n",
       "      <td>0</td>\n",
       "      <td>None</td>\n",
       "      <td>0</td>\n",
       "      <td>5.0</td>\n",
       "      <td>0</td>\n",
       "      <td>Saffron Indian Bistro</td>\n",
       "      <td>Restaurants, Indian</td>\n",
       "      <td>4.5</td>\n",
       "      <td>True</td>\n",
       "      <td>0</td>\n",
       "    </tr>\n",
       "  </tbody>\n",
       "</table>\n",
       "</div>"
      ],
      "text/plain": [
       "                review_id                 user_id             business_id  \\\n",
       "0  yNB39szX3M8mTEzTtsgoCw  Y1iCYGvLf4ifPoXlKLGq-w  o2Qh4SiGYJ7BK4hP7dfkrw   \n",
       "\n",
       "   review_stars                                        review_text  \\\n",
       "0             5  This is an amazing indian Bistro!!I If I do sa...   \n",
       "\n",
       "                          review_text_after_cleaning  user_review_count  \\\n",
       "0  amaz bistroi say myself never cuisin glad expe...                  1   \n",
       "\n",
       "   user_elite user_friends  user_fans  user_average_stars  \\\n",
       "0           0         None          0                 5.0   \n",
       "\n",
       "   user_total_compliments          business_name  business_categories  \\\n",
       "0                       0  Saffron Indian Bistro  Restaurants, Indian   \n",
       "\n",
       "   business_stars  to_recommend  num_user_friends  \n",
       "0             4.5          True                 0  "
      ]
     },
     "execution_count": 2,
     "metadata": {},
     "output_type": "execute_result"
    }
   ],
   "source": [
    "df = pd.read_csv(\"data/yelp_academic_dataset_sample005_filter.csv\")\n",
    "df.head(1)"
   ]
  },
  {
   "cell_type": "markdown",
   "metadata": {},
   "source": [
    "# SGD Baseline"
   ]
  },
  {
   "cell_type": "code",
   "execution_count": 3,
   "metadata": {},
   "outputs": [],
   "source": [
    "reader = Reader(rating_scale=(1, 5))\n",
    "data = Dataset.load_from_df(df[[\"user_id\", \"business_id\", \"review_stars\"]], reader)"
   ]
  },
  {
   "cell_type": "code",
   "execution_count": 4,
   "metadata": {},
   "outputs": [],
   "source": [
    "full_trainset = data.build_full_trainset()"
   ]
  },
  {
   "cell_type": "code",
   "execution_count": 5,
   "metadata": {},
   "outputs": [],
   "source": [
    "bsl_options = {'method': 'sgd',\n",
    "               'learning_rate': .00005,\n",
    "               }\n",
    "algo = BaselineOnly(bsl_options=bsl_options)"
   ]
  },
  {
   "cell_type": "code",
   "execution_count": 6,
   "metadata": {
    "scrolled": true
   },
   "outputs": [
    {
     "name": "stdout",
     "output_type": "stream",
     "text": [
      "Estimating biases using sgd...\n"
     ]
    },
    {
     "data": {
      "text/plain": [
       "<surprise.prediction_algorithms.baseline_only.BaselineOnly at 0x1c4df223e20>"
      ]
     },
     "execution_count": 6,
     "metadata": {},
     "output_type": "execute_result"
    }
   ],
   "source": [
    "algo.fit(full_trainset)"
   ]
  },
  {
   "cell_type": "code",
   "execution_count": 21,
   "metadata": {
    "scrolled": true
   },
   "outputs": [
    {
     "name": "stdout",
     "output_type": "stream",
     "text": [
      "Estimating biases using sgd...\n",
      "\n",
      "Computing recommendations...\n",
      "\n",
      "Evaluating accuracy of model...\n",
      "RMSE:  1.279616191694076\n",
      "MAE:  1.4861991307195033\n",
      "ACC:  1.0\n"
     ]
    }
   ],
   "source": [
    "trainset, testset = train_test_split(data, test_size=.25, random_state=42)\n",
    "algo.fit(trainset)\n",
    "\n",
    "print(\"\\nComputing recommendations...\")\n",
    "predictions = algo.test(testset)\n",
    "\n",
    "print(\"\\nEvaluating accuracy of model...\")\n",
    "print(\"RMSE: \", accuracy.mae(predictions, verbose=False))\n",
    "print(\"MAE: \", accuracy.rmse(predictions, verbose=False))\n",
    "print(\"ACC: \", macro_accuracy([i[2] for i in testset], [predictions[i].r_ui for i in range(len(predictions))]))"
   ]
  },
  {
   "cell_type": "code",
   "execution_count": null,
   "metadata": {},
   "outputs": [],
   "source": []
  },
  {
   "cell_type": "code",
   "execution_count": null,
   "metadata": {},
   "outputs": [],
   "source": []
  },
  {
   "cell_type": "code",
   "execution_count": 17,
   "metadata": {},
   "outputs": [],
   "source": []
  },
  {
   "cell_type": "code",
   "execution_count": 27,
   "metadata": {},
   "outputs": [
    {
     "data": {
      "text/plain": [
       "0.6761234037828132"
      ]
     },
     "execution_count": 27,
     "metadata": {},
     "output_type": "execute_result"
    }
   ],
   "source": [
    "def genres_sim(business1, business2, genres):\n",
    "    genres1 = genres[business1]\n",
    "    genres2 = genres[business2]\n",
    "    sumxx, sumxy, sumyy = 0, 0, 0\n",
    "    for i in range(len(genres1)):\n",
    "        x = genres1[i]\n",
    "        y = genres2[i]\n",
    "        sumxx += x * x\n",
    "        sumyy += y * y\n",
    "        sumxy += x * y\n",
    "\n",
    "    return sumxy/math.sqrt(sumxx*sumyy)\n",
    "\n",
    "genres_sim(\"ZRLmQ3oAuspAkk5R6BOfyg\", \"VyVIneSU7XAWgMBllI6LnQ\", genres)"
   ]
  },
  {
   "cell_type": "code",
   "execution_count": 26,
   "metadata": {},
   "outputs": [
    {
     "data": {
      "text/plain": [
       "'ZRLmQ3oAuspAkk5R6BOfyg'"
      ]
     },
     "execution_count": 26,
     "metadata": {},
     "output_type": "execute_result"
    }
   ],
   "source": [
    "df.iloc[4535][\"business_id\"]"
   ]
  },
  {
   "cell_type": "code",
   "execution_count": 21,
   "metadata": {},
   "outputs": [
    {
     "data": {
      "text/plain": [
       "'tIX6o1jkLrrmsJIdGUjA5A'"
      ]
     },
     "execution_count": 21,
     "metadata": {},
     "output_type": "execute_result"
    }
   ],
   "source": [
    "df.iloc[20000][\"business_id\"]"
   ]
  },
  {
   "cell_type": "code",
   "execution_count": null,
   "metadata": {},
   "outputs": [],
   "source": [
    "algo."
   ]
  }
 ],
 "metadata": {
  "kernelspec": {
   "display_name": "Python 3",
   "language": "python",
   "name": "python3"
  },
  "language_info": {
   "codemirror_mode": {
    "name": "ipython",
    "version": 3
   },
   "file_extension": ".py",
   "mimetype": "text/x-python",
   "name": "python",
   "nbconvert_exporter": "python",
   "pygments_lexer": "ipython3",
   "version": "3.8.5"
  }
 },
 "nbformat": 4,
 "nbformat_minor": 4
}
